{
  "cells": [
    {
      "cell_type": "markdown",
      "id": "9e6f8b5b-04b2-482f-826e-3e3206f16cf9",
      "metadata": {
        "id": "9e6f8b5b-04b2-482f-826e-3e3206f16cf9"
      },
      "source": [
        "# Setup"
      ]
    },
    {
      "cell_type": "markdown",
      "id": "572d426d-9a80-4734-b27a-df32c37cf737",
      "metadata": {
        "id": "572d426d-9a80-4734-b27a-df32c37cf737"
      },
      "source": [
        "## Libraries"
      ]
    },
    {
      "cell_type": "code",
      "execution_count": null,
      "id": "jkbk5BhWkBnw",
      "metadata": {
        "id": "jkbk5BhWkBnw"
      },
      "outputs": [],
      "source": [
        "# !pip install osmnx\n",
        "# !pip install langdetect"
      ]
    },
    {
      "cell_type": "code",
      "execution_count": null,
      "id": "e3d84fe8-c6ba-42af-8dbe-2d5c80d03fc7",
      "metadata": {
        "id": "e3d84fe8-c6ba-42af-8dbe-2d5c80d03fc7"
      },
      "outputs": [],
      "source": [
        "import pandas as pd\n",
        "import numpy as np\n",
        "from sklearn.model_selection import train_test_split, RandomizedSearchCV\n",
        "from sklearn.metrics import r2_score, mean_squared_error\n",
        "import xgboost as xgb\n",
        "from sklearn.linear_model import LinearRegression, Ridge, Lasso\n",
        "from sklearn.ensemble import RandomForestRegressor, GradientBoostingRegressor\n",
        "import lightgbm as lgb\n",
        "import re\n",
        "import ast\n",
        "import seaborn as sns\n",
        "import matplotlib.pyplot as plt\n",
        "from textblob import TextBlob\n",
        "import time\n",
        "import geopandas as gpd\n",
        "from shapely.geometry.polygon import Polygon\n",
        "from shapely.geometry.multipolygon import MultiPolygon\n",
        "from scipy import spatial\n",
        "from shapely import wkt\n",
        "from scipy.stats import shapiro\n",
        "from scipy import stats\n",
        "from scipy.stats import norm\n",
        "import matplotlib\n",
        "sns.set()\n",
        "\n",
        "import warnings\n",
        "warnings.filterwarnings('ignore')"
      ]
    },
    {
      "cell_type": "code",
      "execution_count": null,
      "id": "gAnnCoyc1dZB",
      "metadata": {
        "id": "gAnnCoyc1dZB"
      },
      "outputs": [],
      "source": [
        "from langdetect import detect\n",
        "import osmnx as ox"
      ]
    },
    {
      "cell_type": "markdown",
      "id": "1d42563a-5138-40eb-9759-f79178922f8f",
      "metadata": {
        "id": "1d42563a-5138-40eb-9759-f79178922f8f"
      },
      "source": [
        "## Display preferences"
      ]
    },
    {
      "cell_type": "code",
      "execution_count": null,
      "id": "9784849b-32ba-4da6-a1d7-aaf53673e580",
      "metadata": {
        "id": "9784849b-32ba-4da6-a1d7-aaf53673e580"
      },
      "outputs": [],
      "source": [
        "# pd.set_option('display.max_columns', None)\n",
        "# pd.set_option('display.max_rows', 1000)\n",
        "\n",
        "# pd.reset_option('display.max_colwidth')\n",
        "# pd.set_option('display.max_colwidth', None)"
      ]
    },
    {
      "cell_type": "markdown",
      "id": "0574786d-c2a2-4fa3-acf0-532ca50b9974",
      "metadata": {
        "id": "0574786d-c2a2-4fa3-acf0-532ca50b9974"
      },
      "source": [
        "## Some functions"
      ]
    },
    {
      "cell_type": "code",
      "execution_count": null,
      "id": "2a519e98-e863-475d-a9b6-eefdf21f2f7e",
      "metadata": {
        "id": "2a519e98-e863-475d-a9b6-eefdf21f2f7e"
      },
      "outputs": [],
      "source": [
        "def equal_columns(df):\n",
        "    equal_columns = []\n",
        "    columns = df.columns\n",
        "    for i, col1 in enumerate(columns):\n",
        "        for j in range(i + 1, len(columns)):\n",
        "            col2 = columns[j]\n",
        "            if (df[col1] == df[col2]).all():\n",
        "                equal_columns.append((col1, col2))\n",
        "    return equal_columns\n",
        "\n",
        "def one_value_columns(df):\n",
        "    one_value_cols = df.nunique()[df.nunique() == 1].index\n",
        "    return one_value_cols\n",
        "\n",
        "def unique_values_col(df):\n",
        "    cols = df.columns\n",
        "    print('columns having unique values for each row:')\n",
        "    for x in cols:\n",
        "        if len(df[x].unique())==df.shape[0]:\n",
        "            print(x)"
      ]
    },
    {
      "cell_type": "markdown",
      "id": "f4f52d06-dfab-4c79-a89f-b06d2912a544",
      "metadata": {
        "id": "f4f52d06-dfab-4c79-a89f-b06d2912a544"
      },
      "source": [
        "# Import the data"
      ]
    },
    {
      "cell_type": "code",
      "execution_count": null,
      "id": "be72bb14-9f30-4844-91f4-4e6e2f58d76c",
      "metadata": {
        "colab": {
          "base_uri": "https://localhost:8080/",
          "height": 249
        },
        "id": "be72bb14-9f30-4844-91f4-4e6e2f58d76c",
        "outputId": "a17f5d0c-c29f-4ba7-f55a-8df5cd00caa2"
      },
      "outputs": [
        {
          "name": "stdout",
          "output_type": "stream",
          "text": [
            "(75241, 75)\n"
          ]
        },
        {
          "data": {
            "text/html": [
              "<div>\n",
              "<style scoped>\n",
              "    .dataframe tbody tr th:only-of-type {\n",
              "        vertical-align: middle;\n",
              "    }\n",
              "\n",
              "    .dataframe tbody tr th {\n",
              "        vertical-align: top;\n",
              "    }\n",
              "\n",
              "    .dataframe thead th {\n",
              "        text-align: right;\n",
              "    }\n",
              "</style>\n",
              "<table border=\"1\" class=\"dataframe\">\n",
              "  <thead>\n",
              "    <tr style=\"text-align: right;\">\n",
              "      <th></th>\n",
              "      <th>id</th>\n",
              "      <th>listing_url</th>\n",
              "      <th>scrape_id</th>\n",
              "      <th>last_scraped</th>\n",
              "      <th>source</th>\n",
              "      <th>name</th>\n",
              "      <th>description</th>\n",
              "      <th>neighborhood_overview</th>\n",
              "      <th>picture_url</th>\n",
              "      <th>host_id</th>\n",
              "      <th>...</th>\n",
              "      <th>review_scores_communication</th>\n",
              "      <th>review_scores_location</th>\n",
              "      <th>review_scores_value</th>\n",
              "      <th>license</th>\n",
              "      <th>instant_bookable</th>\n",
              "      <th>calculated_host_listings_count</th>\n",
              "      <th>calculated_host_listings_count_entire_homes</th>\n",
              "      <th>calculated_host_listings_count_private_rooms</th>\n",
              "      <th>calculated_host_listings_count_shared_rooms</th>\n",
              "      <th>reviews_per_month</th>\n",
              "    </tr>\n",
              "  </thead>\n",
              "  <tbody>\n",
              "    <tr>\n",
              "      <th>0</th>\n",
              "      <td>714569379355913481</td>\n",
              "      <td>https://www.airbnb.com/rooms/714569379355913481</td>\n",
              "      <td>20230314070633</td>\n",
              "      <td>2023-03-14</td>\n",
              "      <td>city scrape</td>\n",
              "      <td>Lovely private bedroom in Muswell Hill.</td>\n",
              "      <td>Take a break and unwind at this peaceful oasis.</td>\n",
              "      <td>NaN</td>\n",
              "      <td>https://a0.muscache.com/pictures/miso/Hosting-...</td>\n",
              "      <td>39009854</td>\n",
              "      <td>...</td>\n",
              "      <td>NaN</td>\n",
              "      <td>NaN</td>\n",
              "      <td>NaN</td>\n",
              "      <td>NaN</td>\n",
              "      <td>f</td>\n",
              "      <td>1</td>\n",
              "      <td>0</td>\n",
              "      <td>1</td>\n",
              "      <td>0</td>\n",
              "      <td>NaN</td>\n",
              "    </tr>\n",
              "  </tbody>\n",
              "</table>\n",
              "<p>1 rows × 75 columns</p>\n",
              "</div>"
            ],
            "text/plain": [
              "                   id                                      listing_url  \\\n",
              "0  714569379355913481  https://www.airbnb.com/rooms/714569379355913481   \n",
              "\n",
              "        scrape_id last_scraped       source  \\\n",
              "0  20230314070633   2023-03-14  city scrape   \n",
              "\n",
              "                                      name  \\\n",
              "0  Lovely private bedroom in Muswell Hill.   \n",
              "\n",
              "                                       description neighborhood_overview  \\\n",
              "0  Take a break and unwind at this peaceful oasis.                   NaN   \n",
              "\n",
              "                                         picture_url   host_id  ...  \\\n",
              "0  https://a0.muscache.com/pictures/miso/Hosting-...  39009854  ...   \n",
              "\n",
              "  review_scores_communication review_scores_location review_scores_value  \\\n",
              "0                         NaN                    NaN                 NaN   \n",
              "\n",
              "  license instant_bookable calculated_host_listings_count  \\\n",
              "0     NaN                f                              1   \n",
              "\n",
              "  calculated_host_listings_count_entire_homes  \\\n",
              "0                                           0   \n",
              "\n",
              "  calculated_host_listings_count_private_rooms  \\\n",
              "0                                            1   \n",
              "\n",
              "  calculated_host_listings_count_shared_rooms reviews_per_month  \n",
              "0                                           0               NaN  \n",
              "\n",
              "[1 rows x 75 columns]"
            ]
          },
          "execution_count": 6,
          "metadata": {},
          "output_type": "execute_result"
        }
      ],
      "source": [
        "# read in the detailed listing data\n",
        "df_listing = pd.read_csv('data/listings.csv.gz', encoding='utf-8')\n",
        "\n",
        "print(df_listing.shape)\n",
        "df_listing.head(1)"
      ]
    },
    {
      "cell_type": "markdown",
      "id": "450044b5-a1f8-4c5e-9370-2cf0523a4dcf",
      "metadata": {
        "id": "450044b5-a1f8-4c5e-9370-2cf0523a4dcf"
      },
      "source": [
        "# Clean the data"
      ]
    },
    {
      "cell_type": "code",
      "execution_count": null,
      "id": "4702cee2-1d02-4190-962f-557bb59dc482",
      "metadata": {
        "colab": {
          "base_uri": "https://localhost:8080/"
        },
        "id": "4702cee2-1d02-4190-962f-557bb59dc482",
        "outputId": "e4d35448-f9c1-438f-df58-0788e22f72e7"
      },
      "outputs": [
        {
          "data": {
            "text/plain": [
              "0"
            ]
          },
          "execution_count": 7,
          "metadata": {},
          "output_type": "execute_result"
        }
      ],
      "source": [
        "df_listing['price'].isnull().sum()"
      ]
    },
    {
      "cell_type": "markdown",
      "id": "ddbffd63-8328-4c6c-bccd-1eb6b8fc3c53",
      "metadata": {
        "id": "ddbffd63-8328-4c6c-bccd-1eb6b8fc3c53"
      },
      "source": [
        "## Remove columns that have all null values"
      ]
    },
    {
      "cell_type": "code",
      "execution_count": null,
      "id": "74bd565e-7523-44a6-b3e4-57292b94a235",
      "metadata": {
        "colab": {
          "base_uri": "https://localhost:8080/"
        },
        "id": "74bd565e-7523-44a6-b3e4-57292b94a235",
        "outputId": "9a316aab-860f-448b-8fc9-5f1f9ddf95de"
      },
      "outputs": [
        {
          "data": {
            "text/plain": [
              "['neighbourhood_group_cleansed', 'bathrooms', 'calendar_updated', 'license']"
            ]
          },
          "execution_count": 8,
          "metadata": {},
          "output_type": "execute_result"
        }
      ],
      "source": [
        "all_nulls_cols = df_listing.columns[df_listing.isnull().all()].tolist()\n",
        "all_nulls_cols"
      ]
    },
    {
      "cell_type": "code",
      "execution_count": null,
      "id": "ca491ba6-608d-4f74-879e-9d6f0f432657",
      "metadata": {
        "colab": {
          "base_uri": "https://localhost:8080/"
        },
        "id": "ca491ba6-608d-4f74-879e-9d6f0f432657",
        "outputId": "5638d10a-bf9e-4621-f632-54e1686cc694"
      },
      "outputs": [
        {
          "data": {
            "text/plain": [
              "(75241, 71)"
            ]
          },
          "execution_count": 9,
          "metadata": {},
          "output_type": "execute_result"
        }
      ],
      "source": [
        "df_listing = df_listing.dropna(how='all', axis=1)\n",
        "df_listing.shape"
      ]
    },
    {
      "cell_type": "markdown",
      "id": "ff6e852b-8dea-479b-b5fb-1f1c911d2fb4",
      "metadata": {
        "id": "ff6e852b-8dea-479b-b5fb-1f1c911d2fb4"
      },
      "source": [
        "## Format price to numerical values"
      ]
    },
    {
      "cell_type": "code",
      "execution_count": null,
      "id": "f9192e82-665b-4f0f-b594-ec6a16691caf",
      "metadata": {
        "colab": {
          "base_uri": "https://localhost:8080/"
        },
        "id": "f9192e82-665b-4f0f-b594-ec6a16691caf",
        "outputId": "9d10ec6c-95ff-4447-fffd-b0f039dcb1c2"
      },
      "outputs": [
        {
          "data": {
            "text/plain": [
              "0    $100.00\n",
              "1     $65.00\n",
              "2    $132.00\n",
              "3    $100.00\n",
              "4    $120.00\n",
              "Name: price, dtype: object"
            ]
          },
          "execution_count": 10,
          "metadata": {},
          "output_type": "execute_result"
        }
      ],
      "source": [
        "df_listing['price'].head()"
      ]
    },
    {
      "cell_type": "code",
      "execution_count": null,
      "id": "4bb552ba-4c71-4e8e-b069-920efab7e3d3",
      "metadata": {
        "colab": {
          "base_uri": "https://localhost:8080/"
        },
        "id": "4bb552ba-4c71-4e8e-b069-920efab7e3d3",
        "outputId": "714d1f2a-bd62-427c-89fd-254e90373667"
      },
      "outputs": [
        {
          "data": {
            "text/plain": [
              "0    100.0\n",
              "1     65.0\n",
              "2    132.0\n",
              "3    100.0\n",
              "4    120.0\n",
              "Name: price, dtype: float64"
            ]
          },
          "execution_count": 11,
          "metadata": {},
          "output_type": "execute_result"
        }
      ],
      "source": [
        "df_listing['price'] = df_listing['price'].str[1:-3]\n",
        "df_listing['price'] = df_listing['price'].str.replace(\",\", \"\")\n",
        "df_listing['price'] = df_listing['price'].astype(float)\n",
        "df_listing['price'].head()"
      ]
    },
    {
      "cell_type": "markdown",
      "id": "0ca3a645-0313-49b6-bf61-843e74d59977",
      "metadata": {
        "id": "0ca3a645-0313-49b6-bf61-843e74d59977"
      },
      "source": [
        "## Keep only the rows with positive prices"
      ]
    },
    {
      "cell_type": "code",
      "execution_count": null,
      "id": "0caa082c-66c5-49fe-af2d-eddae8fc743e",
      "metadata": {
        "colab": {
          "base_uri": "https://localhost:8080/"
        },
        "id": "0caa082c-66c5-49fe-af2d-eddae8fc743e",
        "outputId": "8ec88870-7b0f-4e62-b160-ff2b7b551d53"
      },
      "outputs": [
        {
          "data": {
            "text/plain": [
              "count    75241.00\n",
              "mean       175.73\n",
              "std        487.36\n",
              "min          0.00\n",
              "25%         60.00\n",
              "50%        100.00\n",
              "75%        180.00\n",
              "max      70111.00\n",
              "Name: price, dtype: float64"
            ]
          },
          "execution_count": 12,
          "metadata": {},
          "output_type": "execute_result"
        }
      ],
      "source": [
        "df_listing['price'].describe().round(2)"
      ]
    },
    {
      "cell_type": "code",
      "execution_count": null,
      "id": "c98b4aa9-4544-4c59-a3e1-0ff94832c607",
      "metadata": {
        "colab": {
          "base_uri": "https://localhost:8080/"
        },
        "id": "c98b4aa9-4544-4c59-a3e1-0ff94832c607",
        "outputId": "61a32965-ef3a-4949-97e3-b0896ed9a4c8"
      },
      "outputs": [
        {
          "data": {
            "text/plain": [
              "14"
            ]
          },
          "execution_count": 13,
          "metadata": {},
          "output_type": "execute_result"
        }
      ],
      "source": [
        "(df_listing['price']==0).sum()"
      ]
    },
    {
      "cell_type": "code",
      "execution_count": null,
      "id": "d20837e6-40b0-461b-b4f5-c0e061cdb96c",
      "metadata": {
        "colab": {
          "base_uri": "https://localhost:8080/"
        },
        "id": "d20837e6-40b0-461b-b4f5-c0e061cdb96c",
        "outputId": "536dd7e7-2af4-4644-b494-459f9cc476d7"
      },
      "outputs": [
        {
          "data": {
            "text/plain": [
              "(75227, 71)"
            ]
          },
          "execution_count": 14,
          "metadata": {},
          "output_type": "execute_result"
        }
      ],
      "source": [
        "df_listing = df_listing[df_listing['price']>0]\n",
        "df_listing.shape"
      ]
    },
    {
      "cell_type": "markdown",
      "id": "324fe4f7-d61d-42b2-a108-ef67346ef6e5",
      "metadata": {
        "id": "324fe4f7-d61d-42b2-a108-ef67346ef6e5"
      },
      "source": [
        "## Keep only the listings that have received one or more reviews in the last 12 months"
      ]
    },
    {
      "cell_type": "markdown",
      "id": "4c8f9b86-c7e4-43fc-ac47-60b7a9dd344e",
      "metadata": {
        "id": "4c8f9b86-c7e4-43fc-ac47-60b7a9dd344e"
      },
      "source": [
        "`number_of_reviews_ltm`: The number of reviews the listing has (in the last 12 months)"
      ]
    },
    {
      "cell_type": "code",
      "execution_count": null,
      "id": "f8e33d91-4358-4649-a10e-40429295b739",
      "metadata": {
        "colab": {
          "base_uri": "https://localhost:8080/"
        },
        "id": "f8e33d91-4358-4649-a10e-40429295b739",
        "outputId": "7ed7e3c9-90c8-4b7e-8172-e3376b76172b"
      },
      "outputs": [
        {
          "data": {
            "text/plain": [
              "(36636, 71)"
            ]
          },
          "execution_count": 15,
          "metadata": {},
          "output_type": "execute_result"
        }
      ],
      "source": [
        "df_listing = df_listing[df_listing['number_of_reviews_ltm']>0]\n",
        "df_listing.shape"
      ]
    },
    {
      "cell_type": "code",
      "execution_count": null,
      "id": "904e0dba-52d5-4703-88fe-8ad74f099d70",
      "metadata": {
        "id": "904e0dba-52d5-4703-88fe-8ad74f099d70"
      },
      "outputs": [],
      "source": [
        "# df_listing.room_type.value_counts()"
      ]
    },
    {
      "cell_type": "markdown",
      "id": "4f6ed93f-1716-4ab7-8324-881290e511f9",
      "metadata": {
        "id": "4f6ed93f-1716-4ab7-8324-881290e511f9"
      },
      "source": [
        "## Remove some columns"
      ]
    },
    {
      "cell_type": "markdown",
      "id": "2839a00a-3c58-4b53-9836-4fb83f164d6a",
      "metadata": {
        "id": "2839a00a-3c58-4b53-9836-4fb83f164d6a"
      },
      "source": [
        "### Remove variables with unique values for each row"
      ]
    },
    {
      "cell_type": "code",
      "execution_count": null,
      "id": "f4530a93-0298-4189-b868-85a6bfa9e8e1",
      "metadata": {
        "colab": {
          "base_uri": "https://localhost:8080/"
        },
        "id": "f4530a93-0298-4189-b868-85a6bfa9e8e1",
        "outputId": "32132e82-543b-4b34-f613-26986c2efac1"
      },
      "outputs": [
        {
          "name": "stdout",
          "output_type": "stream",
          "text": [
            "columns having unique values for each row:\n",
            "id\n",
            "listing_url\n"
          ]
        }
      ],
      "source": [
        "unique_values_col(df_listing)"
      ]
    },
    {
      "cell_type": "code",
      "execution_count": null,
      "id": "8608109b-2ef6-4a53-9d93-c8e78efa8c97",
      "metadata": {
        "colab": {
          "base_uri": "https://localhost:8080/"
        },
        "id": "8608109b-2ef6-4a53-9d93-c8e78efa8c97",
        "outputId": "85385f5c-b0dd-4db5-bab8-5d99789416fe"
      },
      "outputs": [
        {
          "data": {
            "text/plain": [
              "count                                               36636\n",
              "unique                                              36636\n",
              "top       https://www.airbnb.com/rooms/825491308329325404\n",
              "freq                                                    1\n",
              "Name: listing_url, dtype: object"
            ]
          },
          "execution_count": 18,
          "metadata": {},
          "output_type": "execute_result"
        }
      ],
      "source": [
        "df_listing['listing_url'].describe()"
      ]
    },
    {
      "cell_type": "code",
      "execution_count": null,
      "id": "7dcfe792-4165-4ca2-8ec0-4bfef641c8ed",
      "metadata": {
        "id": "7dcfe792-4165-4ca2-8ec0-4bfef641c8ed"
      },
      "outputs": [],
      "source": [
        "# df_listing[['id']].head()\n",
        "# df_listing['id'].dtype"
      ]
    },
    {
      "cell_type": "markdown",
      "id": "be75385c-661d-4e3f-a516-5824e97f0db3",
      "metadata": {
        "id": "be75385c-661d-4e3f-a516-5824e97f0db3"
      },
      "source": [
        "### Remove columns with only one value"
      ]
    },
    {
      "cell_type": "code",
      "execution_count": null,
      "id": "e9e08167-7bfc-4d2d-867c-9c9387081e29",
      "metadata": {
        "colab": {
          "base_uri": "https://localhost:8080/"
        },
        "id": "e9e08167-7bfc-4d2d-867c-9c9387081e29",
        "outputId": "840837e2-e25b-4705-8b05-3744df325884"
      },
      "outputs": [
        {
          "data": {
            "text/plain": [
              "Index(['scrape_id'], dtype='object')"
            ]
          },
          "execution_count": 20,
          "metadata": {},
          "output_type": "execute_result"
        }
      ],
      "source": [
        "one_value_columns(df_listing)"
      ]
    },
    {
      "cell_type": "code",
      "execution_count": null,
      "id": "8186b3c9-f287-4608-9619-8ff5a09d6460",
      "metadata": {
        "colab": {
          "base_uri": "https://localhost:8080/"
        },
        "id": "8186b3c9-f287-4608-9619-8ff5a09d6460",
        "outputId": "ad8f3ecd-c15a-4218-c573-690629d6f4de"
      },
      "outputs": [
        {
          "data": {
            "text/plain": [
              "20230314070633    36636\n",
              "Name: scrape_id, dtype: int64"
            ]
          },
          "execution_count": 21,
          "metadata": {},
          "output_type": "execute_result"
        }
      ],
      "source": [
        "df_listing['scrape_id'].value_counts()"
      ]
    },
    {
      "cell_type": "markdown",
      "id": "58aca7c8-d25e-4581-a77f-cbcd12c41e04",
      "metadata": {
        "id": "58aca7c8-d25e-4581-a77f-cbcd12c41e04"
      },
      "source": [
        "### Scraped date columns"
      ]
    },
    {
      "cell_type": "code",
      "execution_count": null,
      "id": "71b48968-ce43-4d52-8708-a6294da0b8f5",
      "metadata": {
        "colab": {
          "base_uri": "https://localhost:8080/"
        },
        "id": "71b48968-ce43-4d52-8708-a6294da0b8f5",
        "outputId": "47c5b8bd-19ef-4496-d3f1-4cd3e7c80b9e"
      },
      "outputs": [
        {
          "data": {
            "text/plain": [
              "2023-03-14    18457\n",
              "2023-03-15    14714\n",
              "2023-03-16     3429\n",
              "2023-03-29       36\n",
              "Name: last_scraped, dtype: int64"
            ]
          },
          "execution_count": 22,
          "metadata": {},
          "output_type": "execute_result"
        }
      ],
      "source": [
        "df_listing['last_scraped'].value_counts()"
      ]
    },
    {
      "cell_type": "code",
      "execution_count": null,
      "id": "974e2661-acad-4411-916c-fac4bcad26d6",
      "metadata": {
        "colab": {
          "base_uri": "https://localhost:8080/"
        },
        "id": "974e2661-acad-4411-916c-fac4bcad26d6",
        "outputId": "8b18c6ec-0356-43ea-c7dc-d2671959bf50"
      },
      "outputs": [
        {
          "data": {
            "text/plain": [
              "2023-03-14    18460\n",
              "2023-03-15    14715\n",
              "2023-03-16     3425\n",
              "2023-03-29       36\n",
              "Name: calendar_last_scraped, dtype: int64"
            ]
          },
          "execution_count": 23,
          "metadata": {},
          "output_type": "execute_result"
        }
      ],
      "source": [
        "df_listing['calendar_last_scraped'].value_counts()"
      ]
    },
    {
      "cell_type": "code",
      "execution_count": null,
      "id": "95213126-5ae0-405f-ad12-5a0c9ae047a5",
      "metadata": {
        "id": "95213126-5ae0-405f-ad12-5a0c9ae047a5"
      },
      "outputs": [],
      "source": [
        "df_listing.drop(columns=[\n",
        "    'scrape_id','last_scraped','calendar_last_scraped'], inplace=True)\n",
        "df_listing.set_index('id', inplace=True)"
      ]
    },
    {
      "cell_type": "code",
      "execution_count": null,
      "id": "17121ca1-605f-482c-bad0-cee865e0c231",
      "metadata": {
        "colab": {
          "base_uri": "https://localhost:8080/",
          "height": 246
        },
        "id": "17121ca1-605f-482c-bad0-cee865e0c231",
        "outputId": "7ede4512-acc5-4521-bb38-681bab6bd466"
      },
      "outputs": [
        {
          "name": "stdout",
          "output_type": "stream",
          "text": [
            "(36636, 67)\n"
          ]
        },
        {
          "data": {
            "text/html": [
              "<div>\n",
              "<style scoped>\n",
              "    .dataframe tbody tr th:only-of-type {\n",
              "        vertical-align: middle;\n",
              "    }\n",
              "\n",
              "    .dataframe tbody tr th {\n",
              "        vertical-align: top;\n",
              "    }\n",
              "\n",
              "    .dataframe thead th {\n",
              "        text-align: right;\n",
              "    }\n",
              "</style>\n",
              "<table border=\"1\" class=\"dataframe\">\n",
              "  <thead>\n",
              "    <tr style=\"text-align: right;\">\n",
              "      <th></th>\n",
              "      <th>listing_url</th>\n",
              "      <th>source</th>\n",
              "      <th>name</th>\n",
              "      <th>description</th>\n",
              "      <th>neighborhood_overview</th>\n",
              "      <th>picture_url</th>\n",
              "      <th>host_id</th>\n",
              "      <th>host_url</th>\n",
              "      <th>host_name</th>\n",
              "      <th>host_since</th>\n",
              "      <th>...</th>\n",
              "      <th>review_scores_checkin</th>\n",
              "      <th>review_scores_communication</th>\n",
              "      <th>review_scores_location</th>\n",
              "      <th>review_scores_value</th>\n",
              "      <th>instant_bookable</th>\n",
              "      <th>calculated_host_listings_count</th>\n",
              "      <th>calculated_host_listings_count_entire_homes</th>\n",
              "      <th>calculated_host_listings_count_private_rooms</th>\n",
              "      <th>calculated_host_listings_count_shared_rooms</th>\n",
              "      <th>reviews_per_month</th>\n",
              "    </tr>\n",
              "    <tr>\n",
              "      <th>id</th>\n",
              "      <th></th>\n",
              "      <th></th>\n",
              "      <th></th>\n",
              "      <th></th>\n",
              "      <th></th>\n",
              "      <th></th>\n",
              "      <th></th>\n",
              "      <th></th>\n",
              "      <th></th>\n",
              "      <th></th>\n",
              "      <th></th>\n",
              "      <th></th>\n",
              "      <th></th>\n",
              "      <th></th>\n",
              "      <th></th>\n",
              "      <th></th>\n",
              "      <th></th>\n",
              "      <th></th>\n",
              "      <th></th>\n",
              "      <th></th>\n",
              "      <th></th>\n",
              "    </tr>\n",
              "  </thead>\n",
              "  <tbody>\n",
              "    <tr>\n",
              "      <th>825491308329325404</th>\n",
              "      <td>https://www.airbnb.com/rooms/825491308329325404</td>\n",
              "      <td>city scrape</td>\n",
              "      <td>Cosy room with own bathroom</td>\n",
              "      <td>Spacious room</td>\n",
              "      <td>NaN</td>\n",
              "      <td>https://a0.muscache.com/pictures/miso/Hosting-...</td>\n",
              "      <td>500808473</td>\n",
              "      <td>https://www.airbnb.com/users/show/500808473</td>\n",
              "      <td>Ekaterina</td>\n",
              "      <td>2023-02-12</td>\n",
              "      <td>...</td>\n",
              "      <td>4.67</td>\n",
              "      <td>5.0</td>\n",
              "      <td>4.67</td>\n",
              "      <td>4.67</td>\n",
              "      <td>f</td>\n",
              "      <td>1</td>\n",
              "      <td>0</td>\n",
              "      <td>1</td>\n",
              "      <td>0</td>\n",
              "      <td>3.0</td>\n",
              "    </tr>\n",
              "  </tbody>\n",
              "</table>\n",
              "<p>1 rows × 67 columns</p>\n",
              "</div>"
            ],
            "text/plain": [
              "                                                        listing_url  \\\n",
              "id                                                                    \n",
              "825491308329325404  https://www.airbnb.com/rooms/825491308329325404   \n",
              "\n",
              "                         source                         name    description  \\\n",
              "id                                                                            \n",
              "825491308329325404  city scrape  Cosy room with own bathroom  Spacious room   \n",
              "\n",
              "                   neighborhood_overview  \\\n",
              "id                                         \n",
              "825491308329325404                   NaN   \n",
              "\n",
              "                                                          picture_url  \\\n",
              "id                                                                      \n",
              "825491308329325404  https://a0.muscache.com/pictures/miso/Hosting-...   \n",
              "\n",
              "                      host_id                                     host_url  \\\n",
              "id                                                                           \n",
              "825491308329325404  500808473  https://www.airbnb.com/users/show/500808473   \n",
              "\n",
              "                    host_name  host_since  ... review_scores_checkin  \\\n",
              "id                                         ...                         \n",
              "825491308329325404  Ekaterina  2023-02-12  ...                  4.67   \n",
              "\n",
              "                   review_scores_communication review_scores_location  \\\n",
              "id                                                                      \n",
              "825491308329325404                         5.0                   4.67   \n",
              "\n",
              "                   review_scores_value instant_bookable  \\\n",
              "id                                                        \n",
              "825491308329325404                4.67                f   \n",
              "\n",
              "                   calculated_host_listings_count  \\\n",
              "id                                                  \n",
              "825491308329325404                              1   \n",
              "\n",
              "                   calculated_host_listings_count_entire_homes  \\\n",
              "id                                                               \n",
              "825491308329325404                                           0   \n",
              "\n",
              "                   calculated_host_listings_count_private_rooms  \\\n",
              "id                                                                \n",
              "825491308329325404                                            1   \n",
              "\n",
              "                   calculated_host_listings_count_shared_rooms  \\\n",
              "id                                                               \n",
              "825491308329325404                                           0   \n",
              "\n",
              "                    reviews_per_month  \n",
              "id                                     \n",
              "825491308329325404                3.0  \n",
              "\n",
              "[1 rows x 67 columns]"
            ]
          },
          "execution_count": 25,
          "metadata": {},
          "output_type": "execute_result"
        }
      ],
      "source": [
        "print(df_listing.shape)\n",
        "df_listing.head(1)"
      ]
    },
    {
      "cell_type": "markdown",
      "id": "15fad6c4-8d4e-4297-9316-aaf60d95e492",
      "metadata": {
        "id": "15fad6c4-8d4e-4297-9316-aaf60d95e492"
      },
      "source": [
        "## Convert percentages from strings (98%) to numbers (0.98)"
      ]
    },
    {
      "cell_type": "code",
      "execution_count": null,
      "id": "1f00ffb3-0303-4bb0-b1d8-618c1f2ec2f8",
      "metadata": {
        "colab": {
          "base_uri": "https://localhost:8080/",
          "height": 238
        },
        "id": "1f00ffb3-0303-4bb0-b1d8-618c1f2ec2f8",
        "outputId": "6db50e69-ae02-44b6-cab3-7158e54f276a"
      },
      "outputs": [
        {
          "data": {
            "text/html": [
              "<div>\n",
              "<style scoped>\n",
              "    .dataframe tbody tr th:only-of-type {\n",
              "        vertical-align: middle;\n",
              "    }\n",
              "\n",
              "    .dataframe tbody tr th {\n",
              "        vertical-align: top;\n",
              "    }\n",
              "\n",
              "    .dataframe thead th {\n",
              "        text-align: right;\n",
              "    }\n",
              "</style>\n",
              "<table border=\"1\" class=\"dataframe\">\n",
              "  <thead>\n",
              "    <tr style=\"text-align: right;\">\n",
              "      <th></th>\n",
              "      <th>host_response_rate</th>\n",
              "      <th>host_acceptance_rate</th>\n",
              "    </tr>\n",
              "    <tr>\n",
              "      <th>id</th>\n",
              "      <th></th>\n",
              "      <th></th>\n",
              "    </tr>\n",
              "  </thead>\n",
              "  <tbody>\n",
              "    <tr>\n",
              "      <th>825491308329325404</th>\n",
              "      <td>100%</td>\n",
              "      <td>100%</td>\n",
              "    </tr>\n",
              "    <tr>\n",
              "      <th>786791705194673775</th>\n",
              "      <td>98%</td>\n",
              "      <td>87%</td>\n",
              "    </tr>\n",
              "    <tr>\n",
              "      <th>749834503531737273</th>\n",
              "      <td>100%</td>\n",
              "      <td>100%</td>\n",
              "    </tr>\n",
              "    <tr>\n",
              "      <th>717113207077160928</th>\n",
              "      <td>100%</td>\n",
              "      <td>100%</td>\n",
              "    </tr>\n",
              "    <tr>\n",
              "      <th>50584271</th>\n",
              "      <td>100%</td>\n",
              "      <td>93%</td>\n",
              "    </tr>\n",
              "  </tbody>\n",
              "</table>\n",
              "</div>"
            ],
            "text/plain": [
              "                   host_response_rate host_acceptance_rate\n",
              "id                                                        \n",
              "825491308329325404               100%                 100%\n",
              "786791705194673775                98%                  87%\n",
              "749834503531737273               100%                 100%\n",
              "717113207077160928               100%                 100%\n",
              "50584271                         100%                  93%"
            ]
          },
          "execution_count": 26,
          "metadata": {},
          "output_type": "execute_result"
        }
      ],
      "source": [
        "df_listing[['host_response_rate','host_acceptance_rate']].head()"
      ]
    },
    {
      "cell_type": "code",
      "execution_count": null,
      "id": "52491430-a3e1-4440-ba12-d56125bb8c6d",
      "metadata": {
        "colab": {
          "base_uri": "https://localhost:8080/",
          "height": 175
        },
        "id": "52491430-a3e1-4440-ba12-d56125bb8c6d",
        "outputId": "567dd7ae-defc-4864-f38f-1c67d57e8d82"
      },
      "outputs": [
        {
          "data": {
            "text/html": [
              "<div>\n",
              "<style scoped>\n",
              "    .dataframe tbody tr th:only-of-type {\n",
              "        vertical-align: middle;\n",
              "    }\n",
              "\n",
              "    .dataframe tbody tr th {\n",
              "        vertical-align: top;\n",
              "    }\n",
              "\n",
              "    .dataframe thead th {\n",
              "        text-align: right;\n",
              "    }\n",
              "</style>\n",
              "<table border=\"1\" class=\"dataframe\">\n",
              "  <thead>\n",
              "    <tr style=\"text-align: right;\">\n",
              "      <th></th>\n",
              "      <th>host_response_rate</th>\n",
              "      <th>host_acceptance_rate</th>\n",
              "    </tr>\n",
              "  </thead>\n",
              "  <tbody>\n",
              "    <tr>\n",
              "      <th>count</th>\n",
              "      <td>33120</td>\n",
              "      <td>36231</td>\n",
              "    </tr>\n",
              "    <tr>\n",
              "      <th>unique</th>\n",
              "      <td>75</td>\n",
              "      <td>98</td>\n",
              "    </tr>\n",
              "    <tr>\n",
              "      <th>top</th>\n",
              "      <td>100%</td>\n",
              "      <td>100%</td>\n",
              "    </tr>\n",
              "    <tr>\n",
              "      <th>freq</th>\n",
              "      <td>24379</td>\n",
              "      <td>11821</td>\n",
              "    </tr>\n",
              "  </tbody>\n",
              "</table>\n",
              "</div>"
            ],
            "text/plain": [
              "       host_response_rate host_acceptance_rate\n",
              "count               33120                36231\n",
              "unique                 75                   98\n",
              "top                  100%                 100%\n",
              "freq                24379                11821"
            ]
          },
          "execution_count": 27,
          "metadata": {},
          "output_type": "execute_result"
        }
      ],
      "source": [
        "df_listing[['host_response_rate','host_acceptance_rate']].describe()"
      ]
    },
    {
      "cell_type": "code",
      "execution_count": null,
      "id": "a37da15d-bec3-4db7-ae7b-82c9ef3eed0e",
      "metadata": {
        "id": "a37da15d-bec3-4db7-ae7b-82c9ef3eed0e",
        "scrolled": true
      },
      "outputs": [],
      "source": [
        "# df_listing[['host_response_rate']].value_counts()\n",
        "# df_listing[['host_acceptance_rate']].value_counts()\n",
        "# df_listing[['host_acceptance_rate','host_response_rate']].dtypes"
      ]
    },
    {
      "cell_type": "code",
      "execution_count": null,
      "id": "069f7123-42e9-44b3-88ad-3a7c6d27432d",
      "metadata": {
        "colab": {
          "base_uri": "https://localhost:8080/",
          "height": 238
        },
        "id": "069f7123-42e9-44b3-88ad-3a7c6d27432d",
        "outputId": "3cffda79-47f2-40ad-e58d-897ac556b85e"
      },
      "outputs": [
        {
          "data": {
            "text/html": [
              "<div>\n",
              "<style scoped>\n",
              "    .dataframe tbody tr th:only-of-type {\n",
              "        vertical-align: middle;\n",
              "    }\n",
              "\n",
              "    .dataframe tbody tr th {\n",
              "        vertical-align: top;\n",
              "    }\n",
              "\n",
              "    .dataframe thead th {\n",
              "        text-align: right;\n",
              "    }\n",
              "</style>\n",
              "<table border=\"1\" class=\"dataframe\">\n",
              "  <thead>\n",
              "    <tr style=\"text-align: right;\">\n",
              "      <th></th>\n",
              "      <th>host_response_rate</th>\n",
              "      <th>host_acceptance_rate</th>\n",
              "    </tr>\n",
              "    <tr>\n",
              "      <th>id</th>\n",
              "      <th></th>\n",
              "      <th></th>\n",
              "    </tr>\n",
              "  </thead>\n",
              "  <tbody>\n",
              "    <tr>\n",
              "      <th>825491308329325404</th>\n",
              "      <td>1.00</td>\n",
              "      <td>1.00</td>\n",
              "    </tr>\n",
              "    <tr>\n",
              "      <th>786791705194673775</th>\n",
              "      <td>0.98</td>\n",
              "      <td>0.87</td>\n",
              "    </tr>\n",
              "    <tr>\n",
              "      <th>749834503531737273</th>\n",
              "      <td>1.00</td>\n",
              "      <td>1.00</td>\n",
              "    </tr>\n",
              "    <tr>\n",
              "      <th>717113207077160928</th>\n",
              "      <td>1.00</td>\n",
              "      <td>1.00</td>\n",
              "    </tr>\n",
              "    <tr>\n",
              "      <th>50584271</th>\n",
              "      <td>1.00</td>\n",
              "      <td>0.93</td>\n",
              "    </tr>\n",
              "  </tbody>\n",
              "</table>\n",
              "</div>"
            ],
            "text/plain": [
              "                    host_response_rate  host_acceptance_rate\n",
              "id                                                          \n",
              "825491308329325404                1.00                  1.00\n",
              "786791705194673775                0.98                  0.87\n",
              "749834503531737273                1.00                  1.00\n",
              "717113207077160928                1.00                  1.00\n",
              "50584271                          1.00                  0.93"
            ]
          },
          "execution_count": 29,
          "metadata": {},
          "output_type": "execute_result"
        }
      ],
      "source": [
        "# removing the '%', converting to integer and dividing by 100\n",
        "df_listing['host_response_rate'] = df_listing['host_response_rate'].apply(\n",
        "    lambda x: int(x[:len(x)-1])/100 if isinstance(x,str) else x)\n",
        "df_listing['host_acceptance_rate'] = df_listing['host_acceptance_rate'].apply(\n",
        "    lambda x: int(x[:len(x)-1])/100 if isinstance(x,str) else x)\n",
        "\n",
        "df_listing[['host_response_rate','host_acceptance_rate']].head()"
      ]
    },
    {
      "cell_type": "code",
      "execution_count": null,
      "id": "86d0017e-3c4f-4d97-929a-03d1baff23d9",
      "metadata": {
        "id": "86d0017e-3c4f-4d97-929a-03d1baff23d9"
      },
      "outputs": [],
      "source": [
        "# df_listing[['host_acceptance_rate','host_response_rate']].dtypes"
      ]
    },
    {
      "cell_type": "code",
      "execution_count": null,
      "id": "b8842024-da34-4ea4-a773-4fe8f29573ba",
      "metadata": {
        "colab": {
          "base_uri": "https://localhost:8080/",
          "height": 300
        },
        "id": "b8842024-da34-4ea4-a773-4fe8f29573ba",
        "outputId": "2b1ded42-b781-4714-cdc2-46bc4aa5da3a"
      },
      "outputs": [
        {
          "data": {
            "text/html": [
              "<div>\n",
              "<style scoped>\n",
              "    .dataframe tbody tr th:only-of-type {\n",
              "        vertical-align: middle;\n",
              "    }\n",
              "\n",
              "    .dataframe tbody tr th {\n",
              "        vertical-align: top;\n",
              "    }\n",
              "\n",
              "    .dataframe thead th {\n",
              "        text-align: right;\n",
              "    }\n",
              "</style>\n",
              "<table border=\"1\" class=\"dataframe\">\n",
              "  <thead>\n",
              "    <tr style=\"text-align: right;\">\n",
              "      <th></th>\n",
              "      <th>host_acceptance_rate</th>\n",
              "      <th>host_response_rate</th>\n",
              "    </tr>\n",
              "  </thead>\n",
              "  <tbody>\n",
              "    <tr>\n",
              "      <th>count</th>\n",
              "      <td>36231.00</td>\n",
              "      <td>33120.00</td>\n",
              "    </tr>\n",
              "    <tr>\n",
              "      <th>mean</th>\n",
              "      <td>0.88</td>\n",
              "      <td>0.96</td>\n",
              "    </tr>\n",
              "    <tr>\n",
              "      <th>std</th>\n",
              "      <td>0.18</td>\n",
              "      <td>0.12</td>\n",
              "    </tr>\n",
              "    <tr>\n",
              "      <th>min</th>\n",
              "      <td>0.00</td>\n",
              "      <td>0.00</td>\n",
              "    </tr>\n",
              "    <tr>\n",
              "      <th>25%</th>\n",
              "      <td>0.83</td>\n",
              "      <td>0.99</td>\n",
              "    </tr>\n",
              "    <tr>\n",
              "      <th>50%</th>\n",
              "      <td>0.97</td>\n",
              "      <td>1.00</td>\n",
              "    </tr>\n",
              "    <tr>\n",
              "      <th>75%</th>\n",
              "      <td>1.00</td>\n",
              "      <td>1.00</td>\n",
              "    </tr>\n",
              "    <tr>\n",
              "      <th>max</th>\n",
              "      <td>1.00</td>\n",
              "      <td>1.00</td>\n",
              "    </tr>\n",
              "  </tbody>\n",
              "</table>\n",
              "</div>"
            ],
            "text/plain": [
              "       host_acceptance_rate  host_response_rate\n",
              "count              36231.00            33120.00\n",
              "mean                   0.88                0.96\n",
              "std                    0.18                0.12\n",
              "min                    0.00                0.00\n",
              "25%                    0.83                0.99\n",
              "50%                    0.97                1.00\n",
              "75%                    1.00                1.00\n",
              "max                    1.00                1.00"
            ]
          },
          "execution_count": 31,
          "metadata": {},
          "output_type": "execute_result"
        }
      ],
      "source": [
        "df_listing[['host_acceptance_rate','host_response_rate']].describe().round(2)"
      ]
    },
    {
      "cell_type": "code",
      "execution_count": null,
      "id": "69112f0e-da1f-4978-86fa-70d9dfcb9057",
      "metadata": {
        "id": "69112f0e-da1f-4978-86fa-70d9dfcb9057",
        "scrolled": true
      },
      "outputs": [],
      "source": [
        "# df_listing[['host_acceptance_rate']].value_counts()\n",
        "# df_listing[['host_response_rate']].value_counts()"
      ]
    },
    {
      "cell_type": "markdown",
      "id": "f267a89e-35e1-44a6-b2e8-9562c85bd7f3",
      "metadata": {
        "id": "f267a89e-35e1-44a6-b2e8-9562c85bd7f3"
      },
      "source": [
        "## Convert 'bathrooms_text' to numbers ('bathrooms_count')"
      ]
    },
    {
      "cell_type": "code",
      "execution_count": null,
      "id": "3c21eb70-62f9-4e16-8778-e699e60c9dcb",
      "metadata": {
        "colab": {
          "base_uri": "https://localhost:8080/"
        },
        "id": "3c21eb70-62f9-4e16-8778-e699e60c9dcb",
        "outputId": "b2666c0a-14ef-4307-cee3-73aba640d55c"
      },
      "outputs": [
        {
          "data": {
            "text/plain": [
              "array(['1 private bath', '1 bath', '1 shared bath', '2 shared baths',\n",
              "       '2 baths', '1.5 shared baths', '1.5 baths', '2.5 baths',\n",
              "       '3 shared baths', '3 baths', '6.5 baths', '3.5 baths', '4.5 baths',\n",
              "       'Half-bath', '4 baths', '5.5 baths', '2.5 shared baths',\n",
              "       '3.5 shared baths', '5 baths', '4.5 shared baths', nan, '0 baths',\n",
              "       '0 shared baths', '10.5 baths', 'Private half-bath',\n",
              "       'Shared half-bath', '7.5 baths', '4 shared baths', '10 baths',\n",
              "       '6 baths', '8.5 baths', '12.5 baths', '8 baths',\n",
              "       '5.5 shared baths', '9 baths', '12 baths', '7 shared baths',\n",
              "       '5 shared baths', '8.5 shared baths', '8 shared baths'],\n",
              "      dtype=object)"
            ]
          },
          "execution_count": 33,
          "metadata": {},
          "output_type": "execute_result"
        }
      ],
      "source": [
        "df_listing['bathrooms_text'].unique()"
      ]
    },
    {
      "cell_type": "code",
      "execution_count": null,
      "id": "21b6694e-e108-4cda-82a7-94f85da294ed",
      "metadata": {
        "colab": {
          "base_uri": "https://localhost:8080/",
          "height": 238
        },
        "id": "21b6694e-e108-4cda-82a7-94f85da294ed",
        "outputId": "debcb9f4-afa7-421f-92e8-060406c5ac79"
      },
      "outputs": [
        {
          "data": {
            "text/html": [
              "<div>\n",
              "<style scoped>\n",
              "    .dataframe tbody tr th:only-of-type {\n",
              "        vertical-align: middle;\n",
              "    }\n",
              "\n",
              "    .dataframe tbody tr th {\n",
              "        vertical-align: top;\n",
              "    }\n",
              "\n",
              "    .dataframe thead th {\n",
              "        text-align: right;\n",
              "    }\n",
              "</style>\n",
              "<table border=\"1\" class=\"dataframe\">\n",
              "  <thead>\n",
              "    <tr style=\"text-align: right;\">\n",
              "      <th></th>\n",
              "      <th>bathrooms_text</th>\n",
              "      <th>bathrooms_count</th>\n",
              "    </tr>\n",
              "    <tr>\n",
              "      <th>id</th>\n",
              "      <th></th>\n",
              "      <th></th>\n",
              "    </tr>\n",
              "  </thead>\n",
              "  <tbody>\n",
              "    <tr>\n",
              "      <th>18762362</th>\n",
              "      <td>1 bath</td>\n",
              "      <td>1.0</td>\n",
              "    </tr>\n",
              "    <tr>\n",
              "      <th>3191081</th>\n",
              "      <td>1.5 baths</td>\n",
              "      <td>1.5</td>\n",
              "    </tr>\n",
              "    <tr>\n",
              "      <th>654949753111689538</th>\n",
              "      <td>1 bath</td>\n",
              "      <td>1.0</td>\n",
              "    </tr>\n",
              "    <tr>\n",
              "      <th>827653589245352551</th>\n",
              "      <td>2 baths</td>\n",
              "      <td>2.0</td>\n",
              "    </tr>\n",
              "    <tr>\n",
              "      <th>599135204165144789</th>\n",
              "      <td>1 private bath</td>\n",
              "      <td>1.0</td>\n",
              "    </tr>\n",
              "  </tbody>\n",
              "</table>\n",
              "</div>"
            ],
            "text/plain": [
              "                    bathrooms_text  bathrooms_count\n",
              "id                                                 \n",
              "18762362                    1 bath              1.0\n",
              "3191081                  1.5 baths              1.5\n",
              "654949753111689538          1 bath              1.0\n",
              "827653589245352551         2 baths              2.0\n",
              "599135204165144789  1 private bath              1.0"
            ]
          },
          "execution_count": 34,
          "metadata": {},
          "output_type": "execute_result"
        }
      ],
      "source": [
        "df_listing['bathrooms_text'] = df_listing['bathrooms_text'].str.lower()\n",
        "\n",
        "# extracts numerical values\n",
        "df_listing['bathrooms_count'] = df_listing['bathrooms_text'].str.extract('(\\\\d+\\\\.\\\\d+)').astype(float).fillna(\n",
        "    df_listing['bathrooms_text'].str.extract('(\\\\d+)').astype(float))\n",
        "df_listing['bathrooms_count'] = df_listing['bathrooms_count'].fillna('none')\n",
        "\n",
        "# extract half-bath as 0.5\n",
        "df_listing.loc[df_listing['bathrooms_text'].str.contains('half-bath',na=False).fillna(False),'bathrooms_count']=0.5\n",
        "\n",
        "df_listing['bathrooms_count'] = df_listing['bathrooms_count'].replace('none', np.nan)\n",
        "df_listing['bathrooms_count'] = df_listing['bathrooms_count'].astype(float)\n",
        "\n",
        "df_listing[['bathrooms_text', 'bathrooms_count']].tail()"
      ]
    },
    {
      "cell_type": "code",
      "execution_count": null,
      "id": "5663ecd6-bb5e-4d2e-8117-c60a0e5fa195",
      "metadata": {
        "id": "5663ecd6-bb5e-4d2e-8117-c60a0e5fa195"
      },
      "outputs": [],
      "source": [
        "# df_listing[['bathrooms_text','bathrooms_count']].dtypes"
      ]
    },
    {
      "cell_type": "code",
      "execution_count": null,
      "id": "1c3529f2-f006-4637-89f4-1d3b6f5f6791",
      "metadata": {
        "colab": {
          "base_uri": "https://localhost:8080/"
        },
        "id": "1c3529f2-f006-4637-89f4-1d3b6f5f6791",
        "outputId": "b9893250-d0b5-4b8e-b985-117e881f5dc3"
      },
      "outputs": [
        {
          "name": "stdout",
          "output_type": "stream",
          "text": [
            "bathrooms_text     32\n",
            "bathrooms_count    32\n",
            "dtype: int64\n",
            "\n",
            "35\n",
            "35\n"
          ]
        }
      ],
      "source": [
        "print(df_listing[['bathrooms_text', 'bathrooms_count']].isnull().sum())\n",
        "print(\"\")\n",
        "print(df_listing['bathrooms_text'].str.contains('half-bath').sum())\n",
        "print((df_listing['bathrooms_count']==0.5).sum())"
      ]
    },
    {
      "cell_type": "code",
      "execution_count": null,
      "id": "eaa22576-6768-4b38-a491-2efd6ef24547",
      "metadata": {
        "colab": {
          "base_uri": "https://localhost:8080/"
        },
        "id": "eaa22576-6768-4b38-a491-2efd6ef24547",
        "outputId": "199ce728-3237-457a-8f49-8b6e90bf5c00"
      },
      "outputs": [
        {
          "data": {
            "text/plain": [
              "count    36604.00\n",
              "mean         1.33\n",
              "std          0.61\n",
              "min          0.00\n",
              "25%          1.00\n",
              "50%          1.00\n",
              "75%          1.50\n",
              "max         12.50\n",
              "Name: bathrooms_count, dtype: float64"
            ]
          },
          "execution_count": 37,
          "metadata": {},
          "output_type": "execute_result"
        }
      ],
      "source": [
        "df_listing['bathrooms_count'].describe().round(2)"
      ]
    },
    {
      "cell_type": "code",
      "execution_count": null,
      "id": "8391e2a2-56bd-4113-bf98-17cd12bf6ae3",
      "metadata": {
        "id": "8391e2a2-56bd-4113-bf98-17cd12bf6ae3"
      },
      "outputs": [],
      "source": [
        "# df_listing[['bathrooms_text']].describe()"
      ]
    },
    {
      "cell_type": "code",
      "execution_count": null,
      "id": "60c5a491-bca1-4dbb-862a-0b1fdb21b2af",
      "metadata": {
        "id": "60c5a491-bca1-4dbb-862a-0b1fdb21b2af",
        "scrolled": true
      },
      "outputs": [],
      "source": [
        "# df_listing[['bathrooms_text']].value_counts()\n",
        "# df_listing[['bathrooms']].value_counts()"
      ]
    },
    {
      "cell_type": "markdown",
      "id": "8c8dc960-636d-43cd-9ab0-22288d3c2aef",
      "metadata": {
        "id": "8c8dc960-636d-43cd-9ab0-22288d3c2aef"
      },
      "source": [
        "## Extract bathroom sharing information ('bathroom_sharing')"
      ]
    },
    {
      "cell_type": "code",
      "execution_count": null,
      "id": "994cff3f-9d93-4677-b863-f0ae0d31fdc4",
      "metadata": {
        "colab": {
          "base_uri": "https://localhost:8080/",
          "height": 282
        },
        "id": "994cff3f-9d93-4677-b863-f0ae0d31fdc4",
        "outputId": "35dd7136-4978-47db-a2e2-e2a0e345fffe"
      },
      "outputs": [
        {
          "data": {
            "text/html": [
              "<div>\n",
              "<style scoped>\n",
              "    .dataframe tbody tr th:only-of-type {\n",
              "        vertical-align: middle;\n",
              "    }\n",
              "\n",
              "    .dataframe tbody tr th {\n",
              "        vertical-align: top;\n",
              "    }\n",
              "\n",
              "    .dataframe thead th {\n",
              "        text-align: right;\n",
              "    }\n",
              "</style>\n",
              "<table border=\"1\" class=\"dataframe\">\n",
              "  <thead>\n",
              "    <tr style=\"text-align: right;\">\n",
              "      <th></th>\n",
              "      <th>bathrooms_text</th>\n",
              "      <th>bathroom_sharing</th>\n",
              "      <th>bathrooms_count</th>\n",
              "    </tr>\n",
              "    <tr>\n",
              "      <th>id</th>\n",
              "      <th></th>\n",
              "      <th></th>\n",
              "      <th></th>\n",
              "    </tr>\n",
              "  </thead>\n",
              "  <tbody>\n",
              "    <tr>\n",
              "      <th>825491308329325404</th>\n",
              "      <td>1 private bath</td>\n",
              "      <td>private</td>\n",
              "      <td>1.0</td>\n",
              "    </tr>\n",
              "    <tr>\n",
              "      <th>786791705194673775</th>\n",
              "      <td>1 bath</td>\n",
              "      <td>unknown</td>\n",
              "      <td>1.0</td>\n",
              "    </tr>\n",
              "    <tr>\n",
              "      <th>749834503531737273</th>\n",
              "      <td>1 shared bath</td>\n",
              "      <td>shared</td>\n",
              "      <td>1.0</td>\n",
              "    </tr>\n",
              "    <tr>\n",
              "      <th>717113207077160928</th>\n",
              "      <td>1 private bath</td>\n",
              "      <td>private</td>\n",
              "      <td>1.0</td>\n",
              "    </tr>\n",
              "    <tr>\n",
              "      <th>50584271</th>\n",
              "      <td>1 shared bath</td>\n",
              "      <td>shared</td>\n",
              "      <td>1.0</td>\n",
              "    </tr>\n",
              "  </tbody>\n",
              "</table>\n",
              "</div>"
            ],
            "text/plain": [
              "                    bathrooms_text bathroom_sharing  bathrooms_count\n",
              "id                                                                  \n",
              "825491308329325404  1 private bath          private              1.0\n",
              "786791705194673775          1 bath          unknown              1.0\n",
              "749834503531737273   1 shared bath           shared              1.0\n",
              "717113207077160928  1 private bath          private              1.0\n",
              "50584271             1 shared bath           shared              1.0"
            ]
          },
          "execution_count": 40,
          "metadata": {},
          "output_type": "execute_result"
        }
      ],
      "source": [
        "df_listing['bathroom_sharing'] = df_listing['bathrooms_text'].str.extract(pat=r\"(shared|private)\")\n",
        "df_listing['bathroom_sharing'].fillna('unknown', inplace=True)\n",
        "df_listing[['bathrooms_text','bathroom_sharing','bathrooms_count']].head()"
      ]
    },
    {
      "cell_type": "code",
      "execution_count": null,
      "id": "10b91227-0beb-4e87-a24c-2eb481c65981",
      "metadata": {
        "id": "10b91227-0beb-4e87-a24c-2eb481c65981"
      },
      "outputs": [],
      "source": [
        "df_listing.drop(['bathrooms_text'],axis=1,inplace=True)"
      ]
    },
    {
      "cell_type": "code",
      "execution_count": null,
      "id": "9769d94d-361b-432d-948f-d328a004b2fd",
      "metadata": {
        "colab": {
          "base_uri": "https://localhost:8080/"
        },
        "id": "9769d94d-361b-432d-948f-d328a004b2fd",
        "outputId": "7ae47be0-0f9d-4ea6-d9de-5896c399ff68"
      },
      "outputs": [
        {
          "data": {
            "text/plain": [
              "unknown    25248\n",
              "shared      8154\n",
              "private     3234\n",
              "Name: bathroom_sharing, dtype: int64"
            ]
          },
          "execution_count": 42,
          "metadata": {},
          "output_type": "execute_result"
        }
      ],
      "source": [
        "df_listing['bathroom_sharing'].value_counts()"
      ]
    },
    {
      "cell_type": "code",
      "execution_count": null,
      "id": "69f673cf-52f6-4e95-88ea-b31315e00c96",
      "metadata": {
        "id": "69f673cf-52f6-4e95-88ea-b31315e00c96"
      },
      "outputs": [],
      "source": [
        "# df_listing[['bathroom_sharing']].describe()"
      ]
    },
    {
      "cell_type": "markdown",
      "id": "7e0788e6-fecf-4833-8ac1-d5a9c85df192",
      "metadata": {
        "id": "7e0788e6-fecf-4833-8ac1-d5a9c85df192"
      },
      "source": [
        "## Number of amenities ('amenities_count')"
      ]
    },
    {
      "cell_type": "code",
      "execution_count": null,
      "id": "cf1cf2b1-6c00-479f-bcd4-d925ddc66d66",
      "metadata": {
        "colab": {
          "base_uri": "https://localhost:8080/"
        },
        "id": "cf1cf2b1-6c00-479f-bcd4-d925ddc66d66",
        "outputId": "2012f3ce-35e2-4779-db47-94d58574e09a"
      },
      "outputs": [
        {
          "data": {
            "text/plain": [
              "id\n",
              "825491308329325404    [\"Washer\", \"First aid kit\", \"Fire extinguisher...\n",
              "786791705194673775                          [\"Washer\", \"TV\", \"Kitchen\"]\n",
              "749834503531737273    [\"Washer\", \"Smoke alarm\", \"Free parking on pre...\n",
              "717113207077160928                          [\"Outdoor furniture\", \"TV\"]\n",
              "50584271              [\"Washer\", \"Outdoor furniture\", \"Hangers\", \"Di...\n",
              "Name: amenities, dtype: object"
            ]
          },
          "execution_count": 44,
          "metadata": {},
          "output_type": "execute_result"
        }
      ],
      "source": [
        "df_listing['amenities'].head()"
      ]
    },
    {
      "cell_type": "code",
      "execution_count": null,
      "id": "c14577e7-70e2-49f7-8d9e-c9cded6317a4",
      "metadata": {
        "id": "c14577e7-70e2-49f7-8d9e-c9cded6317a4"
      },
      "outputs": [],
      "source": [
        "# df_listing[['amenities']].describe()"
      ]
    },
    {
      "cell_type": "code",
      "execution_count": null,
      "id": "cdd9bd38-95ee-4477-9d15-428884b542e9",
      "metadata": {
        "colab": {
          "base_uri": "https://localhost:8080/",
          "height": 334
        },
        "id": "cdd9bd38-95ee-4477-9d15-428884b542e9",
        "outputId": "4ed04ab6-822c-4dee-9463-32c50b1bc941"
      },
      "outputs": [
        {
          "data": {
            "text/html": [
              "<div>\n",
              "<style scoped>\n",
              "    .dataframe tbody tr th:only-of-type {\n",
              "        vertical-align: middle;\n",
              "    }\n",
              "\n",
              "    .dataframe tbody tr th {\n",
              "        vertical-align: top;\n",
              "    }\n",
              "\n",
              "    .dataframe thead th {\n",
              "        text-align: right;\n",
              "    }\n",
              "</style>\n",
              "<table border=\"1\" class=\"dataframe\">\n",
              "  <thead>\n",
              "    <tr style=\"text-align: right;\">\n",
              "      <th></th>\n",
              "      <th>amenities</th>\n",
              "      <th>amenities_clean</th>\n",
              "    </tr>\n",
              "    <tr>\n",
              "      <th>id</th>\n",
              "      <th></th>\n",
              "      <th></th>\n",
              "    </tr>\n",
              "  </thead>\n",
              "  <tbody>\n",
              "    <tr>\n",
              "      <th>825491308329325404</th>\n",
              "      <td>[\"Washer\", \"First aid kit\", \"Fire extinguisher...</td>\n",
              "      <td>[washer, first aid kit, fire extinguisher, smo...</td>\n",
              "    </tr>\n",
              "    <tr>\n",
              "      <th>786791705194673775</th>\n",
              "      <td>[\"Washer\", \"TV\", \"Kitchen\"]</td>\n",
              "      <td>[washer, tv, kitchen]</td>\n",
              "    </tr>\n",
              "    <tr>\n",
              "      <th>749834503531737273</th>\n",
              "      <td>[\"Washer\", \"Smoke alarm\", \"Free parking on pre...</td>\n",
              "      <td>[washer, smoke alarm, free parking on premises...</td>\n",
              "    </tr>\n",
              "    <tr>\n",
              "      <th>717113207077160928</th>\n",
              "      <td>[\"Outdoor furniture\", \"TV\"]</td>\n",
              "      <td>[outdoor furniture, tv]</td>\n",
              "    </tr>\n",
              "    <tr>\n",
              "      <th>50584271</th>\n",
              "      <td>[\"Washer\", \"Outdoor furniture\", \"Hangers\", \"Di...</td>\n",
              "      <td>[washer, outdoor furniture, hangers, dishwashe...</td>\n",
              "    </tr>\n",
              "  </tbody>\n",
              "</table>\n",
              "</div>"
            ],
            "text/plain": [
              "                                                            amenities  \\\n",
              "id                                                                      \n",
              "825491308329325404  [\"Washer\", \"First aid kit\", \"Fire extinguisher...   \n",
              "786791705194673775                        [\"Washer\", \"TV\", \"Kitchen\"]   \n",
              "749834503531737273  [\"Washer\", \"Smoke alarm\", \"Free parking on pre...   \n",
              "717113207077160928                        [\"Outdoor furniture\", \"TV\"]   \n",
              "50584271            [\"Washer\", \"Outdoor furniture\", \"Hangers\", \"Di...   \n",
              "\n",
              "                                                      amenities_clean  \n",
              "id                                                                     \n",
              "825491308329325404  [washer, first aid kit, fire extinguisher, smo...  \n",
              "786791705194673775                              [washer, tv, kitchen]  \n",
              "749834503531737273  [washer, smoke alarm, free parking on premises...  \n",
              "717113207077160928                            [outdoor furniture, tv]  \n",
              "50584271            [washer, outdoor furniture, hangers, dishwashe...  "
            ]
          },
          "execution_count": 46,
          "metadata": {},
          "output_type": "execute_result"
        }
      ],
      "source": [
        "df_listing['amenities_clean'] = df_listing['amenities'].str.lower()\n",
        "df_listing['amenities_clean'] = df_listing['amenities_clean'].apply(lambda x: ast.literal_eval(x))\n",
        "df_listing[['amenities', 'amenities_clean']].head()"
      ]
    },
    {
      "cell_type": "code",
      "execution_count": null,
      "id": "f900cb91-8695-4d49-b2e3-5979db3ca11e",
      "metadata": {
        "colab": {
          "base_uri": "https://localhost:8080/",
          "height": 316
        },
        "id": "f900cb91-8695-4d49-b2e3-5979db3ca11e",
        "outputId": "7a6469dd-6990-4667-862f-c835eab1a6fa"
      },
      "outputs": [
        {
          "data": {
            "text/html": [
              "<div>\n",
              "<style scoped>\n",
              "    .dataframe tbody tr th:only-of-type {\n",
              "        vertical-align: middle;\n",
              "    }\n",
              "\n",
              "    .dataframe tbody tr th {\n",
              "        vertical-align: top;\n",
              "    }\n",
              "\n",
              "    .dataframe thead th {\n",
              "        text-align: right;\n",
              "    }\n",
              "</style>\n",
              "<table border=\"1\" class=\"dataframe\">\n",
              "  <thead>\n",
              "    <tr style=\"text-align: right;\">\n",
              "      <th></th>\n",
              "      <th>amenities_clean</th>\n",
              "      <th>amenities_count</th>\n",
              "    </tr>\n",
              "    <tr>\n",
              "      <th>id</th>\n",
              "      <th></th>\n",
              "      <th></th>\n",
              "    </tr>\n",
              "  </thead>\n",
              "  <tbody>\n",
              "    <tr>\n",
              "      <th>825491308329325404</th>\n",
              "      <td>[washer, first aid kit, fire extinguisher, smo...</td>\n",
              "      <td>9</td>\n",
              "    </tr>\n",
              "    <tr>\n",
              "      <th>786791705194673775</th>\n",
              "      <td>[washer, tv, kitchen]</td>\n",
              "      <td>3</td>\n",
              "    </tr>\n",
              "    <tr>\n",
              "      <th>749834503531737273</th>\n",
              "      <td>[washer, smoke alarm, free parking on premises...</td>\n",
              "      <td>7</td>\n",
              "    </tr>\n",
              "    <tr>\n",
              "      <th>717113207077160928</th>\n",
              "      <td>[outdoor furniture, tv]</td>\n",
              "      <td>2</td>\n",
              "    </tr>\n",
              "    <tr>\n",
              "      <th>50584271</th>\n",
              "      <td>[washer, outdoor furniture, hangers, dishwashe...</td>\n",
              "      <td>49</td>\n",
              "    </tr>\n",
              "  </tbody>\n",
              "</table>\n",
              "</div>"
            ],
            "text/plain": [
              "                                                      amenities_clean  \\\n",
              "id                                                                      \n",
              "825491308329325404  [washer, first aid kit, fire extinguisher, smo...   \n",
              "786791705194673775                              [washer, tv, kitchen]   \n",
              "749834503531737273  [washer, smoke alarm, free parking on premises...   \n",
              "717113207077160928                            [outdoor furniture, tv]   \n",
              "50584271            [washer, outdoor furniture, hangers, dishwashe...   \n",
              "\n",
              "                    amenities_count  \n",
              "id                                   \n",
              "825491308329325404                9  \n",
              "786791705194673775                3  \n",
              "749834503531737273                7  \n",
              "717113207077160928                2  \n",
              "50584271                         49  "
            ]
          },
          "execution_count": 47,
          "metadata": {},
          "output_type": "execute_result"
        }
      ],
      "source": [
        "df_listing['amenities_count'] = df_listing['amenities_clean'].apply(lambda x: len(x))\n",
        "df_listing[['amenities_clean','amenities_count']].head()"
      ]
    },
    {
      "cell_type": "code",
      "execution_count": null,
      "id": "8ceeaf9a-7f48-47f2-a129-2f6eb9ae6930",
      "metadata": {
        "colab": {
          "base_uri": "https://localhost:8080/"
        },
        "id": "8ceeaf9a-7f48-47f2-a129-2f6eb9ae6930",
        "outputId": "d14d7502-fd17-41f3-fb77-a26101d4d68c"
      },
      "outputs": [
        {
          "data": {
            "text/plain": [
              "count    36636.0\n",
              "mean        31.0\n",
              "std         14.0\n",
              "min          0.0\n",
              "25%         21.0\n",
              "50%         30.0\n",
              "75%         41.0\n",
              "max        116.0\n",
              "Name: amenities_count, dtype: float64"
            ]
          },
          "execution_count": 48,
          "metadata": {},
          "output_type": "execute_result"
        }
      ],
      "source": [
        "df_listing['amenities_count'].describe().round(0)"
      ]
    },
    {
      "cell_type": "code",
      "execution_count": null,
      "id": "ImMQJ23uXVPU",
      "metadata": {
        "colab": {
          "base_uri": "https://localhost:8080/"
        },
        "id": "ImMQJ23uXVPU",
        "outputId": "5928e493-cd56-4eae-c85f-5a0be3f821e2"
      },
      "outputs": [
        {
          "data": {
            "text/plain": [
              "(36636, 69)"
            ]
          },
          "execution_count": 49,
          "metadata": {},
          "output_type": "execute_result"
        }
      ],
      "source": [
        "df_listing.drop(columns=['amenities'],inplace=True)\n",
        "df_listing.shape"
      ]
    },
    {
      "cell_type": "code",
      "execution_count": null,
      "id": "dd3bc209-23e7-49d1-a463-b9a5b3a120c4",
      "metadata": {
        "id": "dd3bc209-23e7-49d1-a463-b9a5b3a120c4",
        "scrolled": true
      },
      "outputs": [],
      "source": [
        "# df_listing['amenities_count'].dtypes\n",
        "# df_listing[['amenities_count']].value_counts()\n",
        "# df_listing[df_listing['amenities_count'] == 1][['amenities','amenities_count']].reset_index()\n",
        "# df_listing[df_listing['amenities_count'] == 0][['amenities','amenities_count']].reset_index()"
      ]
    },
    {
      "cell_type": "markdown",
      "id": "15561c3a-d708-455e-8609-be96c8abd61e",
      "metadata": {
        "id": "15561c3a-d708-455e-8609-be96c8abd61e"
      },
      "source": [
        "## Description length"
      ]
    },
    {
      "cell_type": "code",
      "execution_count": null,
      "id": "1fee9c1e-83f1-48da-a3bc-6fe05d7aa581",
      "metadata": {
        "id": "1fee9c1e-83f1-48da-a3bc-6fe05d7aa581"
      },
      "outputs": [],
      "source": [
        "# df_listing['description'].head()"
      ]
    },
    {
      "cell_type": "code",
      "execution_count": null,
      "id": "da98229f-ad68-47af-926a-6a57d90f1183",
      "metadata": {
        "colab": {
          "base_uri": "https://localhost:8080/",
          "height": 316
        },
        "id": "da98229f-ad68-47af-926a-6a57d90f1183",
        "outputId": "0caf9942-e035-43f0-b9a5-6f2810c8349d"
      },
      "outputs": [
        {
          "data": {
            "text/html": [
              "<div>\n",
              "<style scoped>\n",
              "    .dataframe tbody tr th:only-of-type {\n",
              "        vertical-align: middle;\n",
              "    }\n",
              "\n",
              "    .dataframe tbody tr th {\n",
              "        vertical-align: top;\n",
              "    }\n",
              "\n",
              "    .dataframe thead th {\n",
              "        text-align: right;\n",
              "    }\n",
              "</style>\n",
              "<table border=\"1\" class=\"dataframe\">\n",
              "  <thead>\n",
              "    <tr style=\"text-align: right;\">\n",
              "      <th></th>\n",
              "      <th>description</th>\n",
              "      <th>description_length</th>\n",
              "    </tr>\n",
              "    <tr>\n",
              "      <th>id</th>\n",
              "      <th></th>\n",
              "      <th></th>\n",
              "    </tr>\n",
              "  </thead>\n",
              "  <tbody>\n",
              "    <tr>\n",
              "      <th>825491308329325404</th>\n",
              "      <td>Spacious room</td>\n",
              "      <td>2.0</td>\n",
              "    </tr>\n",
              "    <tr>\n",
              "      <th>786791705194673775</th>\n",
              "      <td>This unique place has a style all its own. Tak...</td>\n",
              "      <td>16.0</td>\n",
              "    </tr>\n",
              "    <tr>\n",
              "      <th>749834503531737273</th>\n",
              "      <td>Get comfortable and enjoy plenty of extra room...</td>\n",
              "      <td>12.0</td>\n",
              "    </tr>\n",
              "    <tr>\n",
              "      <th>717113207077160928</th>\n",
              "      <td>Relax at this peaceful place to stay.</td>\n",
              "      <td>7.0</td>\n",
              "    </tr>\n",
              "    <tr>\n",
              "      <th>50584271</th>\n",
              "      <td>This unique place has a style all its own.</td>\n",
              "      <td>9.0</td>\n",
              "    </tr>\n",
              "  </tbody>\n",
              "</table>\n",
              "</div>"
            ],
            "text/plain": [
              "                                                          description  \\\n",
              "id                                                                      \n",
              "825491308329325404                                      Spacious room   \n",
              "786791705194673775  This unique place has a style all its own. Tak...   \n",
              "749834503531737273  Get comfortable and enjoy plenty of extra room...   \n",
              "717113207077160928              Relax at this peaceful place to stay.   \n",
              "50584271                   This unique place has a style all its own.   \n",
              "\n",
              "                    description_length  \n",
              "id                                      \n",
              "825491308329325404                 2.0  \n",
              "786791705194673775                16.0  \n",
              "749834503531737273                12.0  \n",
              "717113207077160928                 7.0  \n",
              "50584271                           9.0  "
            ]
          },
          "execution_count": 52,
          "metadata": {},
          "output_type": "execute_result"
        }
      ],
      "source": [
        "def remove_html_tags(text):\n",
        "    if isinstance(text, str):\n",
        "        clean = re.compile('<.*?>')\n",
        "        return re.sub(clean, ' ', text)\n",
        "    else:\n",
        "        return text\n",
        "\n",
        "df_listing['description'] = df_listing['description'].apply(remove_html_tags)\n",
        "df_listing['description_length'] = df_listing['description'].apply(\n",
        "    lambda x: len(str(x).split()) if isinstance(x, str) else 0)\n",
        "df_listing['description_length'] = df_listing['description_length'].replace(0, np.nan)\n",
        "df_listing[['description', 'description_length']].head()"
      ]
    },
    {
      "cell_type": "code",
      "execution_count": null,
      "id": "4e05c40b-41dd-4cc2-939a-3946dffe34e0",
      "metadata": {
        "colab": {
          "base_uri": "https://localhost:8080/"
        },
        "id": "4e05c40b-41dd-4cc2-939a-3946dffe34e0",
        "outputId": "23b505e5-feca-48dc-f4b3-a4e358bc1caf"
      },
      "outputs": [
        {
          "data": {
            "text/plain": [
              "count    36264.0\n",
              "mean       117.0\n",
              "std         49.0\n",
              "min          1.0\n",
              "25%         78.0\n",
              "50%        137.0\n",
              "75%        158.0\n",
              "max        203.0\n",
              "Name: description_length, dtype: float64"
            ]
          },
          "execution_count": 53,
          "metadata": {},
          "output_type": "execute_result"
        }
      ],
      "source": [
        "df_listing['description_length'].describe().round(0)"
      ]
    },
    {
      "cell_type": "code",
      "execution_count": null,
      "id": "2548e0ca-bb2f-444d-a9ff-315dac4b35bb",
      "metadata": {
        "id": "2548e0ca-bb2f-444d-a9ff-315dac4b35bb"
      },
      "outputs": [],
      "source": [
        "# df_listing['description_length'].dtypes\n",
        "# df_listing[['description_length']].value_counts()\n",
        "\n",
        "# plt.figure(figsize=(8,5))\n",
        "# sns.histplot(df_listing['description_length'], bins=30, kde=True)\n",
        "# plt.title(\"Distribution of 'description_length'\")\n",
        "# plt.xlabel('description_length')\n",
        "# plt.ylabel('Density')\n",
        "# plt.show()"
      ]
    },
    {
      "cell_type": "markdown",
      "id": "e0cfc2a3-3987-4f1e-bcda-be14abdfaa25",
      "metadata": {
        "id": "e0cfc2a3-3987-4f1e-bcda-be14abdfaa25"
      },
      "source": [
        "## Replace 'f' and 't' with 0 and 1"
      ]
    },
    {
      "cell_type": "code",
      "execution_count": null,
      "id": "4962f32c-667e-4663-acb9-38cff6fda02b",
      "metadata": {
        "colab": {
          "base_uri": "https://localhost:8080/"
        },
        "id": "4962f32c-667e-4663-acb9-38cff6fda02b",
        "outputId": "1425bdc0-f988-460f-a15c-bb60d774b4f9"
      },
      "outputs": [
        {
          "data": {
            "text/plain": [
              "['host_is_superhost',\n",
              " 'host_has_profile_pic',\n",
              " 'host_identity_verified',\n",
              " 'has_availability',\n",
              " 'instant_bookable']"
            ]
          },
          "execution_count": 55,
          "metadata": {},
          "output_type": "execute_result"
        }
      ],
      "source": [
        "cols_with_f_t = [col for col in df_listing.columns if df_listing[col].isin(['f', 't']).any()]\n",
        "cols_with_f_t"
      ]
    },
    {
      "cell_type": "code",
      "execution_count": null,
      "id": "a6d6413d-0dba-4232-bf60-ed0f7fe1de54",
      "metadata": {
        "colab": {
          "base_uri": "https://localhost:8080/",
          "height": 302
        },
        "id": "a6d6413d-0dba-4232-bf60-ed0f7fe1de54",
        "outputId": "914a5349-0b85-484b-9e8a-ba97cf9102a9"
      },
      "outputs": [
        {
          "data": {
            "text/html": [
              "<div>\n",
              "<style scoped>\n",
              "    .dataframe tbody tr th:only-of-type {\n",
              "        vertical-align: middle;\n",
              "    }\n",
              "\n",
              "    .dataframe tbody tr th {\n",
              "        vertical-align: top;\n",
              "    }\n",
              "\n",
              "    .dataframe thead th {\n",
              "        text-align: right;\n",
              "    }\n",
              "</style>\n",
              "<table border=\"1\" class=\"dataframe\">\n",
              "  <thead>\n",
              "    <tr style=\"text-align: right;\">\n",
              "      <th></th>\n",
              "      <th>host_is_superhost</th>\n",
              "      <th>host_has_profile_pic</th>\n",
              "      <th>host_identity_verified</th>\n",
              "      <th>has_availability</th>\n",
              "      <th>instant_bookable</th>\n",
              "    </tr>\n",
              "    <tr>\n",
              "      <th>id</th>\n",
              "      <th></th>\n",
              "      <th></th>\n",
              "      <th></th>\n",
              "      <th></th>\n",
              "      <th></th>\n",
              "    </tr>\n",
              "  </thead>\n",
              "  <tbody>\n",
              "    <tr>\n",
              "      <th>825491308329325404</th>\n",
              "      <td>f</td>\n",
              "      <td>f</td>\n",
              "      <td>f</td>\n",
              "      <td>t</td>\n",
              "      <td>f</td>\n",
              "    </tr>\n",
              "    <tr>\n",
              "      <th>786791705194673775</th>\n",
              "      <td>f</td>\n",
              "      <td>f</td>\n",
              "      <td>t</td>\n",
              "      <td>t</td>\n",
              "      <td>f</td>\n",
              "    </tr>\n",
              "    <tr>\n",
              "      <th>749834503531737273</th>\n",
              "      <td>f</td>\n",
              "      <td>t</td>\n",
              "      <td>t</td>\n",
              "      <td>t</td>\n",
              "      <td>f</td>\n",
              "    </tr>\n",
              "    <tr>\n",
              "      <th>717113207077160928</th>\n",
              "      <td>t</td>\n",
              "      <td>t</td>\n",
              "      <td>t</td>\n",
              "      <td>t</td>\n",
              "      <td>t</td>\n",
              "    </tr>\n",
              "    <tr>\n",
              "      <th>50584271</th>\n",
              "      <td>t</td>\n",
              "      <td>t</td>\n",
              "      <td>t</td>\n",
              "      <td>t</td>\n",
              "      <td>f</td>\n",
              "    </tr>\n",
              "  </tbody>\n",
              "</table>\n",
              "</div>"
            ],
            "text/plain": [
              "                   host_is_superhost host_has_profile_pic  \\\n",
              "id                                                          \n",
              "825491308329325404                 f                    f   \n",
              "786791705194673775                 f                    f   \n",
              "749834503531737273                 f                    t   \n",
              "717113207077160928                 t                    t   \n",
              "50584271                           t                    t   \n",
              "\n",
              "                   host_identity_verified has_availability instant_bookable  \n",
              "id                                                                           \n",
              "825491308329325404                      f                t                f  \n",
              "786791705194673775                      t                t                f  \n",
              "749834503531737273                      t                t                f  \n",
              "717113207077160928                      t                t                t  \n",
              "50584271                                t                t                f  "
            ]
          },
          "execution_count": 56,
          "metadata": {},
          "output_type": "execute_result"
        }
      ],
      "source": [
        "df_listing[cols_with_f_t].head()"
      ]
    },
    {
      "cell_type": "code",
      "execution_count": null,
      "id": "41424dcb-6e84-422e-9e5e-f9c8ce11a14d",
      "metadata": {
        "colab": {
          "base_uri": "https://localhost:8080/",
          "height": 302
        },
        "id": "41424dcb-6e84-422e-9e5e-f9c8ce11a14d",
        "outputId": "5215cb0b-b41a-49e4-d48f-a6656fc50aa5"
      },
      "outputs": [
        {
          "data": {
            "text/html": [
              "<div>\n",
              "<style scoped>\n",
              "    .dataframe tbody tr th:only-of-type {\n",
              "        vertical-align: middle;\n",
              "    }\n",
              "\n",
              "    .dataframe tbody tr th {\n",
              "        vertical-align: top;\n",
              "    }\n",
              "\n",
              "    .dataframe thead th {\n",
              "        text-align: right;\n",
              "    }\n",
              "</style>\n",
              "<table border=\"1\" class=\"dataframe\">\n",
              "  <thead>\n",
              "    <tr style=\"text-align: right;\">\n",
              "      <th></th>\n",
              "      <th>host_is_superhost</th>\n",
              "      <th>host_has_profile_pic</th>\n",
              "      <th>host_identity_verified</th>\n",
              "      <th>has_availability</th>\n",
              "      <th>instant_bookable</th>\n",
              "    </tr>\n",
              "    <tr>\n",
              "      <th>id</th>\n",
              "      <th></th>\n",
              "      <th></th>\n",
              "      <th></th>\n",
              "      <th></th>\n",
              "      <th></th>\n",
              "    </tr>\n",
              "  </thead>\n",
              "  <tbody>\n",
              "    <tr>\n",
              "      <th>825491308329325404</th>\n",
              "      <td>0.0</td>\n",
              "      <td>0</td>\n",
              "      <td>0</td>\n",
              "      <td>1</td>\n",
              "      <td>0</td>\n",
              "    </tr>\n",
              "    <tr>\n",
              "      <th>786791705194673775</th>\n",
              "      <td>0.0</td>\n",
              "      <td>0</td>\n",
              "      <td>1</td>\n",
              "      <td>1</td>\n",
              "      <td>0</td>\n",
              "    </tr>\n",
              "    <tr>\n",
              "      <th>749834503531737273</th>\n",
              "      <td>0.0</td>\n",
              "      <td>1</td>\n",
              "      <td>1</td>\n",
              "      <td>1</td>\n",
              "      <td>0</td>\n",
              "    </tr>\n",
              "    <tr>\n",
              "      <th>717113207077160928</th>\n",
              "      <td>1.0</td>\n",
              "      <td>1</td>\n",
              "      <td>1</td>\n",
              "      <td>1</td>\n",
              "      <td>1</td>\n",
              "    </tr>\n",
              "    <tr>\n",
              "      <th>50584271</th>\n",
              "      <td>1.0</td>\n",
              "      <td>1</td>\n",
              "      <td>1</td>\n",
              "      <td>1</td>\n",
              "      <td>0</td>\n",
              "    </tr>\n",
              "  </tbody>\n",
              "</table>\n",
              "</div>"
            ],
            "text/plain": [
              "                    host_is_superhost  host_has_profile_pic  \\\n",
              "id                                                            \n",
              "825491308329325404                0.0                     0   \n",
              "786791705194673775                0.0                     0   \n",
              "749834503531737273                0.0                     1   \n",
              "717113207077160928                1.0                     1   \n",
              "50584271                          1.0                     1   \n",
              "\n",
              "                    host_identity_verified  has_availability  instant_bookable  \n",
              "id                                                                              \n",
              "825491308329325404                       0                 1                 0  \n",
              "786791705194673775                       1                 1                 0  \n",
              "749834503531737273                       1                 1                 0  \n",
              "717113207077160928                       1                 1                 1  \n",
              "50584271                                 1                 1                 0  "
            ]
          },
          "execution_count": 57,
          "metadata": {},
          "output_type": "execute_result"
        }
      ],
      "source": [
        "for col in cols_with_f_t:\n",
        "    df_listing[col] = df_listing[col].map({'f': 0, 't': 1})\n",
        "df_listing[cols_with_f_t].head()"
      ]
    },
    {
      "cell_type": "code",
      "execution_count": null,
      "id": "155abce6-aa33-493f-bad2-2477f9a9eb23",
      "metadata": {
        "id": "155abce6-aa33-493f-bad2-2477f9a9eb23"
      },
      "outputs": [],
      "source": [
        "# df_listing[cols_with_f_t].dtypes\n",
        "# df_listing[cols_with_f_t].nunique()"
      ]
    },
    {
      "cell_type": "code",
      "execution_count": null,
      "id": "cf41a3e2-450b-4be1-8b5f-52db251092e6",
      "metadata": {
        "colab": {
          "base_uri": "https://localhost:8080/"
        },
        "id": "cf41a3e2-450b-4be1-8b5f-52db251092e6",
        "outputId": "89b78bfe-ec59-4b03-c502-12b30f311749"
      },
      "outputs": [
        {
          "data": {
            "text/plain": [
              "host_is_superhost         1\n",
              "host_has_profile_pic      0\n",
              "host_identity_verified    0\n",
              "has_availability          0\n",
              "instant_bookable          0\n",
              "dtype: int64"
            ]
          },
          "execution_count": 59,
          "metadata": {},
          "output_type": "execute_result"
        }
      ],
      "source": [
        "df_listing[cols_with_f_t].isnull().sum()"
      ]
    },
    {
      "cell_type": "code",
      "execution_count": null,
      "id": "c1c7d971-8ea6-44da-b611-360dbf75f300",
      "metadata": {
        "id": "c1c7d971-8ea6-44da-b611-360dbf75f300",
        "scrolled": true
      },
      "outputs": [],
      "source": [
        "# for col in cols_with_f_t:\n",
        "#     print(f\"\\nValue counts for '{col}':\")\n",
        "#     display(df_listing[col].value_counts(dropna=False).to_frame())"
      ]
    },
    {
      "cell_type": "markdown",
      "id": "87ab89cb-574e-4cba-80cc-2d33abceb1f7",
      "metadata": {
        "id": "87ab89cb-574e-4cba-80cc-2d33abceb1f7"
      },
      "source": [
        "## Date columns"
      ]
    },
    {
      "cell_type": "code",
      "execution_count": null,
      "id": "707e02a7-a4e8-402c-ae92-3b867fce0abe",
      "metadata": {
        "colab": {
          "base_uri": "https://localhost:8080/",
          "height": 309
        },
        "id": "707e02a7-a4e8-402c-ae92-3b867fce0abe",
        "outputId": "87ce79e8-6767-4fe5-d56e-0b3a4c3f737d"
      },
      "outputs": [
        {
          "name": "stdout",
          "output_type": "stream",
          "text": [
            "host_since      0\n",
            "first_review    0\n",
            "last_review     0\n",
            "dtype: int64\n"
          ]
        },
        {
          "data": {
            "text/plain": [
              "id\n",
              "825491308329325404    2023-02-12\n",
              "786791705194673775    2022-12-09\n",
              "749834503531737273    2021-06-17\n",
              "717113207077160928    2015-11-09\n",
              "50584271              2015-02-13\n",
              "Name: host_since, dtype: object"
            ]
          },
          "execution_count": 61,
          "metadata": {},
          "output_type": "execute_result"
        }
      ],
      "source": [
        "print(df_listing[['host_since','first_review','last_review']].isnull().sum())\n",
        "df_listing['host_since'].head()"
      ]
    },
    {
      "cell_type": "code",
      "execution_count": null,
      "id": "2590bdc3-80fa-4d1b-89ca-dd4f7d4f8eb7",
      "metadata": {
        "colab": {
          "base_uri": "https://localhost:8080/",
          "height": 175
        },
        "id": "2590bdc3-80fa-4d1b-89ca-dd4f7d4f8eb7",
        "outputId": "d0c0d5fe-4471-4b97-ee4f-62f40997a146"
      },
      "outputs": [
        {
          "data": {
            "text/html": [
              "<div>\n",
              "<style scoped>\n",
              "    .dataframe tbody tr th:only-of-type {\n",
              "        vertical-align: middle;\n",
              "    }\n",
              "\n",
              "    .dataframe tbody tr th {\n",
              "        vertical-align: top;\n",
              "    }\n",
              "\n",
              "    .dataframe thead th {\n",
              "        text-align: right;\n",
              "    }\n",
              "</style>\n",
              "<table border=\"1\" class=\"dataframe\">\n",
              "  <thead>\n",
              "    <tr style=\"text-align: right;\">\n",
              "      <th></th>\n",
              "      <th>host_since</th>\n",
              "      <th>first_review</th>\n",
              "      <th>last_review</th>\n",
              "    </tr>\n",
              "  </thead>\n",
              "  <tbody>\n",
              "    <tr>\n",
              "      <th>count</th>\n",
              "      <td>36636</td>\n",
              "      <td>36636</td>\n",
              "      <td>36636</td>\n",
              "    </tr>\n",
              "    <tr>\n",
              "      <th>unique</th>\n",
              "      <td>4274</td>\n",
              "      <td>3553</td>\n",
              "      <td>372</td>\n",
              "    </tr>\n",
              "    <tr>\n",
              "      <th>top</th>\n",
              "      <td>2011-11-22</td>\n",
              "      <td>2023-01-02</td>\n",
              "      <td>2023-03-12</td>\n",
              "    </tr>\n",
              "    <tr>\n",
              "      <th>freq</th>\n",
              "      <td>170</td>\n",
              "      <td>218</td>\n",
              "      <td>1405</td>\n",
              "    </tr>\n",
              "  </tbody>\n",
              "</table>\n",
              "</div>"
            ],
            "text/plain": [
              "        host_since first_review last_review\n",
              "count        36636        36636       36636\n",
              "unique        4274         3553         372\n",
              "top     2011-11-22   2023-01-02  2023-03-12\n",
              "freq           170          218        1405"
            ]
          },
          "execution_count": 62,
          "metadata": {},
          "output_type": "execute_result"
        }
      ],
      "source": [
        "df_listing[['host_since','first_review','last_review']].describe()"
      ]
    },
    {
      "cell_type": "code",
      "execution_count": null,
      "id": "1a5f63c4-4211-4fe7-956a-e595d34a4773",
      "metadata": {
        "colab": {
          "base_uri": "https://localhost:8080/"
        },
        "id": "1a5f63c4-4211-4fe7-956a-e595d34a4773",
        "outputId": "446e11e6-dee5-4f7f-bc47-084a2f41f353"
      },
      "outputs": [
        {
          "name": "stdout",
          "output_type": "stream",
          "text": [
            "Latest date for 'host_since': 2023-03-10\n",
            "Latest date for 'first_review': 2023-03-14\n",
            "Latest date for 'last_review': 2023-03-26\n"
          ]
        }
      ],
      "source": [
        "columns = ['host_since','first_review','last_review']\n",
        "\n",
        "for col in columns:\n",
        "    print(f\"Latest date for '{col}': {df_listing[col].max()}\")"
      ]
    },
    {
      "cell_type": "code",
      "execution_count": null,
      "id": "3b0c81e7-b8fc-41d0-94ff-41f19fef784a",
      "metadata": {
        "id": "3b0c81e7-b8fc-41d0-94ff-41f19fef784a"
      },
      "outputs": [],
      "source": [
        "# df_listing[columns].dtypes"
      ]
    },
    {
      "cell_type": "code",
      "execution_count": null,
      "id": "47225841-e356-4e3c-88cd-c6ed99840596",
      "metadata": {
        "colab": {
          "base_uri": "https://localhost:8080/",
          "height": 302
        },
        "id": "47225841-e356-4e3c-88cd-c6ed99840596",
        "outputId": "8df262f3-b9ff-4ac3-e723-bce11e1728ad"
      },
      "outputs": [
        {
          "data": {
            "text/html": [
              "<div>\n",
              "<style scoped>\n",
              "    .dataframe tbody tr th:only-of-type {\n",
              "        vertical-align: middle;\n",
              "    }\n",
              "\n",
              "    .dataframe tbody tr th {\n",
              "        vertical-align: top;\n",
              "    }\n",
              "\n",
              "    .dataframe thead th {\n",
              "        text-align: right;\n",
              "    }\n",
              "</style>\n",
              "<table border=\"1\" class=\"dataframe\">\n",
              "  <thead>\n",
              "    <tr style=\"text-align: right;\">\n",
              "      <th></th>\n",
              "      <th>day_since_last_review</th>\n",
              "      <th>last_review</th>\n",
              "      <th>day_since_first_review</th>\n",
              "      <th>first_review</th>\n",
              "      <th>host_duration</th>\n",
              "      <th>host_since</th>\n",
              "    </tr>\n",
              "    <tr>\n",
              "      <th>id</th>\n",
              "      <th></th>\n",
              "      <th></th>\n",
              "      <th></th>\n",
              "      <th></th>\n",
              "      <th></th>\n",
              "      <th></th>\n",
              "    </tr>\n",
              "  </thead>\n",
              "  <tbody>\n",
              "    <tr>\n",
              "      <th>825491308329325404</th>\n",
              "      <td>16</td>\n",
              "      <td>2023-03-13</td>\n",
              "      <td>38</td>\n",
              "      <td>2023-02-19</td>\n",
              "      <td>45</td>\n",
              "      <td>2023-02-12</td>\n",
              "    </tr>\n",
              "    <tr>\n",
              "      <th>786791705194673775</th>\n",
              "      <td>20</td>\n",
              "      <td>2023-03-09</td>\n",
              "      <td>61</td>\n",
              "      <td>2023-01-27</td>\n",
              "      <td>110</td>\n",
              "      <td>2022-12-09</td>\n",
              "    </tr>\n",
              "    <tr>\n",
              "      <th>749834503531737273</th>\n",
              "      <td>88</td>\n",
              "      <td>2022-12-31</td>\n",
              "      <td>104</td>\n",
              "      <td>2022-12-15</td>\n",
              "      <td>650</td>\n",
              "      <td>2021-06-17</td>\n",
              "    </tr>\n",
              "    <tr>\n",
              "      <th>717113207077160928</th>\n",
              "      <td>122</td>\n",
              "      <td>2022-11-27</td>\n",
              "      <td>182</td>\n",
              "      <td>2022-09-28</td>\n",
              "      <td>2697</td>\n",
              "      <td>2015-11-09</td>\n",
              "    </tr>\n",
              "    <tr>\n",
              "      <th>50584271</th>\n",
              "      <td>122</td>\n",
              "      <td>2022-11-27</td>\n",
              "      <td>566</td>\n",
              "      <td>2021-09-09</td>\n",
              "      <td>2966</td>\n",
              "      <td>2015-02-13</td>\n",
              "    </tr>\n",
              "  </tbody>\n",
              "</table>\n",
              "</div>"
            ],
            "text/plain": [
              "                    day_since_last_review last_review  day_since_first_review  \\\n",
              "id                                                                              \n",
              "825491308329325404                     16  2023-03-13                      38   \n",
              "786791705194673775                     20  2023-03-09                      61   \n",
              "749834503531737273                     88  2022-12-31                     104   \n",
              "717113207077160928                    122  2022-11-27                     182   \n",
              "50584271                              122  2022-11-27                     566   \n",
              "\n",
              "                   first_review  host_duration  host_since  \n",
              "id                                                          \n",
              "825491308329325404   2023-02-19             45  2023-02-12  \n",
              "786791705194673775   2023-01-27            110  2022-12-09  \n",
              "749834503531737273   2022-12-15            650  2021-06-17  \n",
              "717113207077160928   2022-09-28           2697  2015-11-09  \n",
              "50584271             2021-09-09           2966  2015-02-13  "
            ]
          },
          "execution_count": 65,
          "metadata": {},
          "output_type": "execute_result"
        }
      ],
      "source": [
        "df_listing['host_duration'] = (pd.to_datetime('2023-03-29')-pd.to_datetime(df_listing['host_since'])).dt.days\n",
        "df_listing['day_since_first_review'] = (pd.to_datetime('2023-03-29')-pd.to_datetime(df_listing['first_review'])).dt.days\n",
        "df_listing['day_since_last_review'] = (pd.to_datetime('2023-03-29')-pd.to_datetime(df_listing['last_review'])).dt.days\n",
        "df_listing[[\n",
        "    'day_since_last_review','last_review','day_since_first_review','first_review','host_duration','host_since'\n",
        "    ]].head()"
      ]
    },
    {
      "cell_type": "code",
      "execution_count": null,
      "id": "5ee7728e-dc3c-4993-a1b6-f93e5d75de79",
      "metadata": {
        "colab": {
          "base_uri": "https://localhost:8080/"
        },
        "id": "5ee7728e-dc3c-4993-a1b6-f93e5d75de79",
        "outputId": "1ed004d6-1179-4f26-c8a7-ce0f70aee323"
      },
      "outputs": [
        {
          "data": {
            "text/plain": [
              "(36636, 70)"
            ]
          },
          "execution_count": 66,
          "metadata": {},
          "output_type": "execute_result"
        }
      ],
      "source": [
        "df_listing.drop(['host_since','first_review','last_review'],axis=1,inplace=True)\n",
        "df_listing.shape"
      ]
    },
    {
      "cell_type": "code",
      "execution_count": null,
      "id": "110ea8ac-d691-4fc7-912c-e706997394a6",
      "metadata": {
        "id": "110ea8ac-d691-4fc7-912c-e706997394a6"
      },
      "outputs": [],
      "source": [
        "# columns = ['host_duration', 'day_since_first_review', 'day_since_last_review']\n",
        "# df_listing[columns].describe().round(0).astype(int)\n",
        "\n",
        "# df_listing[columns].dtypes"
      ]
    },
    {
      "cell_type": "markdown",
      "id": "da455cfb-6379-4f5e-8b9f-aeb673fc0687",
      "metadata": {
        "id": "da455cfb-6379-4f5e-8b9f-aeb673fc0687"
      },
      "source": [
        "## Create dummy for some nulls (eg. 'name_missing')"
      ]
    },
    {
      "cell_type": "markdown",
      "id": "45ac2e34-8387-4204-a05a-43bf72fe9a50",
      "metadata": {
        "id": "45ac2e34-8387-4204-a05a-43bf72fe9a50"
      },
      "source": [
        "To get the most information out of nulls I made a dummy for some nulls in order to check if there was a pattern in it. For example, if the description of a property was missing I believe that it may have some impact on price."
      ]
    },
    {
      "cell_type": "code",
      "execution_count": null,
      "id": "fe9da844-cd98-436b-9827-b78ac0d93b85",
      "metadata": {
        "colab": {
          "base_uri": "https://localhost:8080/"
        },
        "id": "fe9da844-cd98-436b-9827-b78ac0d93b85",
        "outputId": "43c3d14f-89f4-4f18-bfa7-dc16e0f6c573",
        "scrolled": true,
        "tags": []
      },
      "outputs": [
        {
          "data": {
            "text/plain": [
              "name                              10\n",
              "description                      372\n",
              "neighborhood_overview          14342\n",
              "host_location                   7953\n",
              "host_about                     16002\n",
              "host_response_time              3516\n",
              "host_response_rate              3516\n",
              "host_acceptance_rate             405\n",
              "host_is_superhost                  1\n",
              "host_neighbourhood             16795\n",
              "neighbourhood                  14342\n",
              "bedrooms                        1776\n",
              "beds                             467\n",
              "review_scores_accuracy             1\n",
              "review_scores_cleanliness          3\n",
              "review_scores_checkin              1\n",
              "review_scores_communication        2\n",
              "review_scores_location             1\n",
              "review_scores_value                1\n",
              "bathrooms_count                   32\n",
              "description_length               372\n",
              "dtype: int64"
            ]
          },
          "execution_count": 68,
          "metadata": {},
          "output_type": "execute_result"
        }
      ],
      "source": [
        "nulls = df_listing.isnull().sum()\n",
        "nulls = nulls[nulls!=0]\n",
        "nulls"
      ]
    },
    {
      "cell_type": "code",
      "execution_count": null,
      "id": "0137bb8e-148d-4ba4-9619-4df41aab6667",
      "metadata": {
        "id": "0137bb8e-148d-4ba4-9619-4df41aab6667"
      },
      "outputs": [],
      "source": [
        "# df_listing[['host_about']].head()"
      ]
    },
    {
      "cell_type": "code",
      "execution_count": null,
      "id": "f297974c-bc03-47b0-a8d1-7edd9d863154",
      "metadata": {
        "colab": {
          "base_uri": "https://localhost:8080/",
          "height": 1000
        },
        "id": "f297974c-bc03-47b0-a8d1-7edd9d863154",
        "outputId": "ae914b43-0dbb-41a0-fb23-5cf343d13574",
        "scrolled": true,
        "tags": []
      },
      "outputs": [
        {
          "name": "stdout",
          "output_type": "stream",
          "text": [
            "\n",
            "Value counts for 'name_missing':\n"
          ]
        },
        {
          "data": {
            "text/html": [
              "<div>\n",
              "<style scoped>\n",
              "    .dataframe tbody tr th:only-of-type {\n",
              "        vertical-align: middle;\n",
              "    }\n",
              "\n",
              "    .dataframe tbody tr th {\n",
              "        vertical-align: top;\n",
              "    }\n",
              "\n",
              "    .dataframe thead th {\n",
              "        text-align: right;\n",
              "    }\n",
              "</style>\n",
              "<table border=\"1\" class=\"dataframe\">\n",
              "  <thead>\n",
              "    <tr style=\"text-align: right;\">\n",
              "      <th></th>\n",
              "      <th>name_missing</th>\n",
              "    </tr>\n",
              "  </thead>\n",
              "  <tbody>\n",
              "    <tr>\n",
              "      <th>0</th>\n",
              "      <td>36626</td>\n",
              "    </tr>\n",
              "    <tr>\n",
              "      <th>1</th>\n",
              "      <td>10</td>\n",
              "    </tr>\n",
              "  </tbody>\n",
              "</table>\n",
              "</div>"
            ],
            "text/plain": [
              "   name_missing\n",
              "0         36626\n",
              "1            10"
            ]
          },
          "metadata": {},
          "output_type": "display_data"
        },
        {
          "name": "stdout",
          "output_type": "stream",
          "text": [
            "\n",
            "Value counts for 'description_missing':\n"
          ]
        },
        {
          "data": {
            "text/html": [
              "<div>\n",
              "<style scoped>\n",
              "    .dataframe tbody tr th:only-of-type {\n",
              "        vertical-align: middle;\n",
              "    }\n",
              "\n",
              "    .dataframe tbody tr th {\n",
              "        vertical-align: top;\n",
              "    }\n",
              "\n",
              "    .dataframe thead th {\n",
              "        text-align: right;\n",
              "    }\n",
              "</style>\n",
              "<table border=\"1\" class=\"dataframe\">\n",
              "  <thead>\n",
              "    <tr style=\"text-align: right;\">\n",
              "      <th></th>\n",
              "      <th>description_missing</th>\n",
              "    </tr>\n",
              "  </thead>\n",
              "  <tbody>\n",
              "    <tr>\n",
              "      <th>0</th>\n",
              "      <td>36264</td>\n",
              "    </tr>\n",
              "    <tr>\n",
              "      <th>1</th>\n",
              "      <td>372</td>\n",
              "    </tr>\n",
              "  </tbody>\n",
              "</table>\n",
              "</div>"
            ],
            "text/plain": [
              "   description_missing\n",
              "0                36264\n",
              "1                  372"
            ]
          },
          "metadata": {},
          "output_type": "display_data"
        },
        {
          "name": "stdout",
          "output_type": "stream",
          "text": [
            "\n",
            "Value counts for 'neighborhood_overview_missing':\n"
          ]
        },
        {
          "data": {
            "text/html": [
              "<div>\n",
              "<style scoped>\n",
              "    .dataframe tbody tr th:only-of-type {\n",
              "        vertical-align: middle;\n",
              "    }\n",
              "\n",
              "    .dataframe tbody tr th {\n",
              "        vertical-align: top;\n",
              "    }\n",
              "\n",
              "    .dataframe thead th {\n",
              "        text-align: right;\n",
              "    }\n",
              "</style>\n",
              "<table border=\"1\" class=\"dataframe\">\n",
              "  <thead>\n",
              "    <tr style=\"text-align: right;\">\n",
              "      <th></th>\n",
              "      <th>neighborhood_overview_missing</th>\n",
              "    </tr>\n",
              "  </thead>\n",
              "  <tbody>\n",
              "    <tr>\n",
              "      <th>0</th>\n",
              "      <td>22294</td>\n",
              "    </tr>\n",
              "    <tr>\n",
              "      <th>1</th>\n",
              "      <td>14342</td>\n",
              "    </tr>\n",
              "  </tbody>\n",
              "</table>\n",
              "</div>"
            ],
            "text/plain": [
              "   neighborhood_overview_missing\n",
              "0                          22294\n",
              "1                          14342"
            ]
          },
          "metadata": {},
          "output_type": "display_data"
        },
        {
          "name": "stdout",
          "output_type": "stream",
          "text": [
            "\n",
            "Value counts for 'host_location_missing':\n"
          ]
        },
        {
          "data": {
            "text/html": [
              "<div>\n",
              "<style scoped>\n",
              "    .dataframe tbody tr th:only-of-type {\n",
              "        vertical-align: middle;\n",
              "    }\n",
              "\n",
              "    .dataframe tbody tr th {\n",
              "        vertical-align: top;\n",
              "    }\n",
              "\n",
              "    .dataframe thead th {\n",
              "        text-align: right;\n",
              "    }\n",
              "</style>\n",
              "<table border=\"1\" class=\"dataframe\">\n",
              "  <thead>\n",
              "    <tr style=\"text-align: right;\">\n",
              "      <th></th>\n",
              "      <th>host_location_missing</th>\n",
              "    </tr>\n",
              "  </thead>\n",
              "  <tbody>\n",
              "    <tr>\n",
              "      <th>0</th>\n",
              "      <td>28683</td>\n",
              "    </tr>\n",
              "    <tr>\n",
              "      <th>1</th>\n",
              "      <td>7953</td>\n",
              "    </tr>\n",
              "  </tbody>\n",
              "</table>\n",
              "</div>"
            ],
            "text/plain": [
              "   host_location_missing\n",
              "0                  28683\n",
              "1                   7953"
            ]
          },
          "metadata": {},
          "output_type": "display_data"
        },
        {
          "name": "stdout",
          "output_type": "stream",
          "text": [
            "\n",
            "Value counts for 'host_about_missing':\n"
          ]
        },
        {
          "data": {
            "text/html": [
              "<div>\n",
              "<style scoped>\n",
              "    .dataframe tbody tr th:only-of-type {\n",
              "        vertical-align: middle;\n",
              "    }\n",
              "\n",
              "    .dataframe tbody tr th {\n",
              "        vertical-align: top;\n",
              "    }\n",
              "\n",
              "    .dataframe thead th {\n",
              "        text-align: right;\n",
              "    }\n",
              "</style>\n",
              "<table border=\"1\" class=\"dataframe\">\n",
              "  <thead>\n",
              "    <tr style=\"text-align: right;\">\n",
              "      <th></th>\n",
              "      <th>host_about_missing</th>\n",
              "    </tr>\n",
              "  </thead>\n",
              "  <tbody>\n",
              "    <tr>\n",
              "      <th>0</th>\n",
              "      <td>20634</td>\n",
              "    </tr>\n",
              "    <tr>\n",
              "      <th>1</th>\n",
              "      <td>16002</td>\n",
              "    </tr>\n",
              "  </tbody>\n",
              "</table>\n",
              "</div>"
            ],
            "text/plain": [
              "   host_about_missing\n",
              "0               20634\n",
              "1               16002"
            ]
          },
          "metadata": {},
          "output_type": "display_data"
        },
        {
          "name": "stdout",
          "output_type": "stream",
          "text": [
            "\n",
            "Value counts for 'host_acceptance_rate_missing':\n"
          ]
        },
        {
          "data": {
            "text/html": [
              "<div>\n",
              "<style scoped>\n",
              "    .dataframe tbody tr th:only-of-type {\n",
              "        vertical-align: middle;\n",
              "    }\n",
              "\n",
              "    .dataframe tbody tr th {\n",
              "        vertical-align: top;\n",
              "    }\n",
              "\n",
              "    .dataframe thead th {\n",
              "        text-align: right;\n",
              "    }\n",
              "</style>\n",
              "<table border=\"1\" class=\"dataframe\">\n",
              "  <thead>\n",
              "    <tr style=\"text-align: right;\">\n",
              "      <th></th>\n",
              "      <th>host_acceptance_rate_missing</th>\n",
              "    </tr>\n",
              "  </thead>\n",
              "  <tbody>\n",
              "    <tr>\n",
              "      <th>0</th>\n",
              "      <td>36231</td>\n",
              "    </tr>\n",
              "    <tr>\n",
              "      <th>1</th>\n",
              "      <td>405</td>\n",
              "    </tr>\n",
              "  </tbody>\n",
              "</table>\n",
              "</div>"
            ],
            "text/plain": [
              "   host_acceptance_rate_missing\n",
              "0                         36231\n",
              "1                           405"
            ]
          },
          "metadata": {},
          "output_type": "display_data"
        },
        {
          "name": "stdout",
          "output_type": "stream",
          "text": [
            "\n",
            "Value counts for 'host_neighbourhood_missing':\n"
          ]
        },
        {
          "data": {
            "text/html": [
              "<div>\n",
              "<style scoped>\n",
              "    .dataframe tbody tr th:only-of-type {\n",
              "        vertical-align: middle;\n",
              "    }\n",
              "\n",
              "    .dataframe tbody tr th {\n",
              "        vertical-align: top;\n",
              "    }\n",
              "\n",
              "    .dataframe thead th {\n",
              "        text-align: right;\n",
              "    }\n",
              "</style>\n",
              "<table border=\"1\" class=\"dataframe\">\n",
              "  <thead>\n",
              "    <tr style=\"text-align: right;\">\n",
              "      <th></th>\n",
              "      <th>host_neighbourhood_missing</th>\n",
              "    </tr>\n",
              "  </thead>\n",
              "  <tbody>\n",
              "    <tr>\n",
              "      <th>0</th>\n",
              "      <td>19841</td>\n",
              "    </tr>\n",
              "    <tr>\n",
              "      <th>1</th>\n",
              "      <td>16795</td>\n",
              "    </tr>\n",
              "  </tbody>\n",
              "</table>\n",
              "</div>"
            ],
            "text/plain": [
              "   host_neighbourhood_missing\n",
              "0                       19841\n",
              "1                       16795"
            ]
          },
          "metadata": {},
          "output_type": "display_data"
        },
        {
          "name": "stdout",
          "output_type": "stream",
          "text": [
            "\n",
            "Value counts for 'bedrooms_missing':\n"
          ]
        },
        {
          "data": {
            "text/html": [
              "<div>\n",
              "<style scoped>\n",
              "    .dataframe tbody tr th:only-of-type {\n",
              "        vertical-align: middle;\n",
              "    }\n",
              "\n",
              "    .dataframe tbody tr th {\n",
              "        vertical-align: top;\n",
              "    }\n",
              "\n",
              "    .dataframe thead th {\n",
              "        text-align: right;\n",
              "    }\n",
              "</style>\n",
              "<table border=\"1\" class=\"dataframe\">\n",
              "  <thead>\n",
              "    <tr style=\"text-align: right;\">\n",
              "      <th></th>\n",
              "      <th>bedrooms_missing</th>\n",
              "    </tr>\n",
              "  </thead>\n",
              "  <tbody>\n",
              "    <tr>\n",
              "      <th>0</th>\n",
              "      <td>34860</td>\n",
              "    </tr>\n",
              "    <tr>\n",
              "      <th>1</th>\n",
              "      <td>1776</td>\n",
              "    </tr>\n",
              "  </tbody>\n",
              "</table>\n",
              "</div>"
            ],
            "text/plain": [
              "   bedrooms_missing\n",
              "0             34860\n",
              "1              1776"
            ]
          },
          "metadata": {},
          "output_type": "display_data"
        },
        {
          "name": "stdout",
          "output_type": "stream",
          "text": [
            "\n",
            "Value counts for 'beds_missing':\n"
          ]
        },
        {
          "data": {
            "text/html": [
              "<div>\n",
              "<style scoped>\n",
              "    .dataframe tbody tr th:only-of-type {\n",
              "        vertical-align: middle;\n",
              "    }\n",
              "\n",
              "    .dataframe tbody tr th {\n",
              "        vertical-align: top;\n",
              "    }\n",
              "\n",
              "    .dataframe thead th {\n",
              "        text-align: right;\n",
              "    }\n",
              "</style>\n",
              "<table border=\"1\" class=\"dataframe\">\n",
              "  <thead>\n",
              "    <tr style=\"text-align: right;\">\n",
              "      <th></th>\n",
              "      <th>beds_missing</th>\n",
              "    </tr>\n",
              "  </thead>\n",
              "  <tbody>\n",
              "    <tr>\n",
              "      <th>0</th>\n",
              "      <td>36169</td>\n",
              "    </tr>\n",
              "    <tr>\n",
              "      <th>1</th>\n",
              "      <td>467</td>\n",
              "    </tr>\n",
              "  </tbody>\n",
              "</table>\n",
              "</div>"
            ],
            "text/plain": [
              "   beds_missing\n",
              "0         36169\n",
              "1           467"
            ]
          },
          "metadata": {},
          "output_type": "display_data"
        },
        {
          "name": "stdout",
          "output_type": "stream",
          "text": [
            "\n",
            "Value counts for 'bathrooms_count_missing':\n"
          ]
        },
        {
          "data": {
            "text/html": [
              "<div>\n",
              "<style scoped>\n",
              "    .dataframe tbody tr th:only-of-type {\n",
              "        vertical-align: middle;\n",
              "    }\n",
              "\n",
              "    .dataframe tbody tr th {\n",
              "        vertical-align: top;\n",
              "    }\n",
              "\n",
              "    .dataframe thead th {\n",
              "        text-align: right;\n",
              "    }\n",
              "</style>\n",
              "<table border=\"1\" class=\"dataframe\">\n",
              "  <thead>\n",
              "    <tr style=\"text-align: right;\">\n",
              "      <th></th>\n",
              "      <th>bathrooms_count_missing</th>\n",
              "    </tr>\n",
              "  </thead>\n",
              "  <tbody>\n",
              "    <tr>\n",
              "      <th>0</th>\n",
              "      <td>36604</td>\n",
              "    </tr>\n",
              "    <tr>\n",
              "      <th>1</th>\n",
              "      <td>32</td>\n",
              "    </tr>\n",
              "  </tbody>\n",
              "</table>\n",
              "</div>"
            ],
            "text/plain": [
              "   bathrooms_count_missing\n",
              "0                    36604\n",
              "1                       32"
            ]
          },
          "metadata": {},
          "output_type": "display_data"
        }
      ],
      "source": [
        "cols = [\n",
        "    'name','description','neighborhood_overview','host_location','host_about',\n",
        "    'host_acceptance_rate','host_neighbourhood','bedrooms','beds','bathrooms_count'\n",
        "]\n",
        "\n",
        "df_listing = df_listing.join(df_listing[cols].isnull().astype(int),rsuffix='_missing')\n",
        "\n",
        "new_cols = [col + '_missing' for col in cols]\n",
        "for col in new_cols:\n",
        "    print(f\"\\nValue counts for '{col}':\")\n",
        "    display(df_listing[col].value_counts().to_frame())"
      ]
    },
    {
      "cell_type": "code",
      "execution_count": null,
      "id": "17cd1127-e88c-45be-9c44-bcb9f6f65c0e",
      "metadata": {
        "colab": {
          "base_uri": "https://localhost:8080/"
        },
        "id": "17cd1127-e88c-45be-9c44-bcb9f6f65c0e",
        "outputId": "813afa39-ce73-4255-bb91-03d516e43c3d"
      },
      "outputs": [
        {
          "data": {
            "text/plain": [
              "(36636, 80)"
            ]
          },
          "execution_count": 71,
          "metadata": {},
          "output_type": "execute_result"
        }
      ],
      "source": [
        "df_listing.shape"
      ]
    },
    {
      "cell_type": "code",
      "execution_count": null,
      "id": "d55aa83f-9d0d-434c-89bb-8a159954dc6e",
      "metadata": {
        "id": "d55aa83f-9d0d-434c-89bb-8a159954dc6e"
      },
      "outputs": [],
      "source": [
        "# df_listing[cols].describe()\n",
        "\n",
        "# categorical_cols = df_listing[cols].select_dtypes(include=['object']).columns\n",
        "# df_listing[categorical_cols].describe()"
      ]
    },
    {
      "cell_type": "markdown",
      "id": "05b8477c-adf9-4b6c-b740-769305cead24",
      "metadata": {
        "id": "05b8477c-adf9-4b6c-b740-769305cead24"
      },
      "source": [
        "## Remove categorical non-explanatory columns"
      ]
    },
    {
      "cell_type": "code",
      "execution_count": null,
      "id": "f08ddcdc-054f-4961-9675-7477d1996fe3",
      "metadata": {
        "id": "f08ddcdc-054f-4961-9675-7477d1996fe3"
      },
      "outputs": [],
      "source": [
        "# first, make a copy for some columns that might be useful later\n",
        "amenities_df = df_listing[['listing_url','amenities_clean']].copy()\n",
        "host_id_df = df_listing[['host_id']].copy()"
      ]
    },
    {
      "cell_type": "code",
      "execution_count": null,
      "id": "30d209df-61ee-4b5a-845a-ee7ce3bdc676",
      "metadata": {
        "id": "30d209df-61ee-4b5a-845a-ee7ce3bdc676"
      },
      "outputs": [],
      "source": [
        "# amenities_df.head()\n",
        "# host_id_df.head()\n",
        "\n",
        "# df_listing.select_dtypes(include='object').describe()"
      ]
    },
    {
      "cell_type": "code",
      "execution_count": null,
      "id": "9408f100-792e-4fa9-b461-b93ffaa8ec6c",
      "metadata": {
        "id": "9408f100-792e-4fa9-b461-b93ffaa8ec6c"
      },
      "outputs": [],
      "source": [
        "# pd.set_option('display.max_columns', None)"
      ]
    },
    {
      "cell_type": "code",
      "execution_count": null,
      "id": "e6a6a539-d5dd-46dd-ab72-cfe1f800a3f5",
      "metadata": {
        "id": "e6a6a539-d5dd-46dd-ab72-cfe1f800a3f5"
      },
      "outputs": [],
      "source": [
        "# df_listing.select_dtypes(include='object').describe()"
      ]
    },
    {
      "cell_type": "markdown",
      "id": "66446637-175b-413a-8778-5e39b5e89095",
      "metadata": {
        "id": "66446637-175b-413a-8778-5e39b5e89095"
      },
      "source": [
        "```python\n",
        "from nltk.corpus import stopwords\n",
        "import string\n",
        "import nltk\n",
        "\n",
        "df = df_listing.copy()\n",
        "df.reset_index(inplace=True)\n",
        "df = df[df['room_type'] != 'Hotel room']\n",
        "\n",
        "summaryDF = df[['description','price']]\n",
        "summaryDF = summaryDF[pd.notnull(summaryDF['description'])]\n",
        "summaryDF = summaryDF[summaryDF['description']!=0]\n",
        "summaryDF = summaryDF.sort_values('price',ascending=[0])\n",
        "top100DF = summaryDF.head(100)\n",
        "\n",
        "# Some data cleaning\n",
        "words=''\n",
        "for index,row in top100DF.iterrows():\n",
        "    words += row['description']\n",
        "\n",
        "string_punctuation = string.punctuation\n",
        "ignoreChar=['\\r','\\n','',' ',\"'s\"]\n",
        "nums=['0','1','2','3','4','5','6','7','8','9']\n",
        "summary_data=nltk.word_tokenize(words)\n",
        "words_only = [l.lower() for l in summary_data if l not in string_punctuation if l not in ignoreChar if l not in nums]\n",
        "filtered_data=[word for word in words_only if word not in stopwords.words('english')]\n",
        "wnl = nltk.WordNetLemmatizer()\n",
        "final_data=[wnl.lemmatize(data) for data in filtered_data]\n",
        "final_words=' '.join(final_data)\n",
        "\n",
        "from wordcloud import WordCloud, STOPWORDS\n",
        "wordcloud = WordCloud(\n",
        "    width = 1000, height = 700,\n",
        "    background_color=\"white\").generate(final_words)\n",
        "plt.figure(figsize=(18,12))\n",
        "plt.imshow(wordcloud)\n",
        "plt.axis(\"off\")\n",
        "plt.show()\n",
        "```"
      ]
    },
    {
      "cell_type": "code",
      "execution_count": null,
      "id": "bc3ba90d-7700-4d07-955f-290c065423b8",
      "metadata": {
        "colab": {
          "base_uri": "https://localhost:8080/"
        },
        "id": "bc3ba90d-7700-4d07-955f-290c065423b8",
        "outputId": "f4c7a1a2-5317-4898-b4d2-b8e46c41a718"
      },
      "outputs": [
        {
          "data": {
            "text/plain": [
              "(36636, 64)"
            ]
          },
          "execution_count": 77,
          "metadata": {},
          "output_type": "execute_result"
        }
      ],
      "source": [
        "df_listing.drop(columns=[\n",
        "    'listing_url','source','name','description','neighborhood_overview','picture_url','host_url',\n",
        "    'host_name','host_location','host_about','host_thumbnail_url','host_picture_url','host_neighbourhood',\n",
        "    'host_verifications','neighbourhood','amenities_clean'], inplace=True)\n",
        "\n",
        "df_listing.shape"
      ]
    },
    {
      "cell_type": "markdown",
      "id": "f6c1efbd-2403-4293-bf17-5a92498f4d73",
      "metadata": {
        "id": "f6c1efbd-2403-4293-bf17-5a92498f4d73"
      },
      "source": [
        "## Handle missing data"
      ]
    },
    {
      "cell_type": "code",
      "execution_count": null,
      "id": "0f1b3560-c73e-4f40-95f0-1491e1cea361",
      "metadata": {
        "id": "0f1b3560-c73e-4f40-95f0-1491e1cea361"
      },
      "outputs": [],
      "source": [
        "def binary_count_and_price_plot(col, figsize=(8,3)):\n",
        "    \"\"\"\n",
        "    Plots a simple bar chart of the counts of true and false categories in the column specified,\n",
        "    next to a bar chart of the median price for each category.\n",
        "    A figure size can optionally be specified.\n",
        "    \"\"\"\n",
        "    fig, (ax1, ax2) = plt.subplots(1, 2, figsize=figsize)\n",
        "    fig.suptitle(col, fontsize=16, y=1)\n",
        "    plt.subplots_adjust(top=0.80) # So that the suptitle does not overlap with the ax plot titles\n",
        "\n",
        "    df.groupby(col).size().plot(kind='bar', ax=ax1, color=['firebrick', 'seagreen'])\n",
        "    ax1.set_xticklabels(labels=['false', 'true'], rotation=0)\n",
        "    ax1.set_title('Category count')\n",
        "    ax1.set_xlabel('')\n",
        "\n",
        "    df.groupby(col).price.median().plot(kind='bar', ax=ax2, color=['firebrick', 'seagreen'])\n",
        "    ax2.set_xticklabels(labels=['false', 'true'], rotation=0)\n",
        "    ax2.set_title('Median price (£)')\n",
        "    ax2.set_xlabel('')\n",
        "\n",
        "    plt.show()"
      ]
    },
    {
      "cell_type": "code",
      "execution_count": null,
      "id": "bdf51973-3ac9-40ed-aa99-bf5a5de3421c",
      "metadata": {
        "id": "bdf51973-3ac9-40ed-aa99-bf5a5de3421c"
      },
      "outputs": [],
      "source": [
        "# df = df_listing.copy()\n",
        "# df.reset_index(inplace=True)\n",
        "# df = df[df['room_type'] != 'Hotel room']\n",
        "# binary_count_and_price_plot('host_is_superhost')"
      ]
    },
    {
      "cell_type": "code",
      "execution_count": null,
      "id": "94ed2607-c43a-47a2-9525-9544f6ad73b2",
      "metadata": {
        "id": "94ed2607-c43a-47a2-9525-9544f6ad73b2"
      },
      "outputs": [],
      "source": [
        "# df.host_identity_verified.value_counts()\n",
        "# df.groupby('host_identity_verified')['price'].median()"
      ]
    },
    {
      "cell_type": "markdown",
      "id": "b2863daf-12e5-44e8-9a37-a6d9d682cd0d",
      "metadata": {
        "id": "b2863daf-12e5-44e8-9a37-a6d9d682cd0d"
      },
      "source": [
        "### Get dummies"
      ]
    },
    {
      "cell_type": "code",
      "execution_count": null,
      "id": "0bbebb3f-40aa-414d-835d-99808897fd7d",
      "metadata": {
        "colab": {
          "base_uri": "https://localhost:8080/",
          "height": 256
        },
        "id": "0bbebb3f-40aa-414d-835d-99808897fd7d",
        "outputId": "d4a11376-3cff-416c-d018-2fef1d04368d"
      },
      "outputs": [
        {
          "data": {
            "text/html": [
              "<div>\n",
              "<style scoped>\n",
              "    .dataframe tbody tr th:only-of-type {\n",
              "        vertical-align: middle;\n",
              "    }\n",
              "\n",
              "    .dataframe tbody tr th {\n",
              "        vertical-align: top;\n",
              "    }\n",
              "\n",
              "    .dataframe thead th {\n",
              "        text-align: right;\n",
              "    }\n",
              "</style>\n",
              "<table border=\"1\" class=\"dataframe\">\n",
              "  <thead>\n",
              "    <tr style=\"text-align: right;\">\n",
              "      <th></th>\n",
              "      <th>host_response_time</th>\n",
              "      <th>neighbourhood_cleansed</th>\n",
              "      <th>property_type</th>\n",
              "      <th>room_type</th>\n",
              "      <th>bathroom_sharing</th>\n",
              "    </tr>\n",
              "  </thead>\n",
              "  <tbody>\n",
              "    <tr>\n",
              "      <th>count</th>\n",
              "      <td>33120</td>\n",
              "      <td>36636</td>\n",
              "      <td>36636</td>\n",
              "      <td>36636</td>\n",
              "      <td>36636</td>\n",
              "    </tr>\n",
              "    <tr>\n",
              "      <th>unique</th>\n",
              "      <td>4</td>\n",
              "      <td>33</td>\n",
              "      <td>81</td>\n",
              "      <td>4</td>\n",
              "      <td>3</td>\n",
              "    </tr>\n",
              "    <tr>\n",
              "      <th>top</th>\n",
              "      <td>within an hour</td>\n",
              "      <td>Westminster</td>\n",
              "      <td>Entire rental unit</td>\n",
              "      <td>Entire home/apt</td>\n",
              "      <td>unknown</td>\n",
              "    </tr>\n",
              "    <tr>\n",
              "      <th>freq</th>\n",
              "      <td>22709</td>\n",
              "      <td>4499</td>\n",
              "      <td>11252</td>\n",
              "      <td>23668</td>\n",
              "      <td>25248</td>\n",
              "    </tr>\n",
              "  </tbody>\n",
              "</table>\n",
              "</div>"
            ],
            "text/plain": [
              "       host_response_time neighbourhood_cleansed       property_type  \\\n",
              "count               33120                  36636               36636   \n",
              "unique                  4                     33                  81   \n",
              "top        within an hour            Westminster  Entire rental unit   \n",
              "freq                22709                   4499               11252   \n",
              "\n",
              "              room_type bathroom_sharing  \n",
              "count             36636            36636  \n",
              "unique                4                3  \n",
              "top     Entire home/apt          unknown  \n",
              "freq              23668            25248  "
            ]
          },
          "execution_count": 81,
          "metadata": {},
          "output_type": "execute_result"
        }
      ],
      "source": [
        "df_listing.select_dtypes(include='object').describe()"
      ]
    },
    {
      "cell_type": "code",
      "execution_count": null,
      "id": "4g5dbNhFJ9cJ",
      "metadata": {
        "id": "4g5dbNhFJ9cJ"
      },
      "outputs": [],
      "source": [
        "# df_listing['room_type'].value_counts()"
      ]
    },
    {
      "cell_type": "markdown",
      "id": "527466fc-46e1-4179-9779-7f780ef95561",
      "metadata": {
        "id": "527466fc-46e1-4179-9779-7f780ef95561",
        "outputId": "f8b1f96b-742d-4767-e3e0-46002269d3a4",
        "tags": []
      },
      "source": [
        "```python\n",
        "map_df = gpd.read_file('https://raw.githubusercontent.com/xiaohansu59/thesis/main/data/neighbourhoods.geojson')\n",
        "map_df.drop('neighbourhood_group', axis=1, inplace=True)\n",
        "\n",
        "df = df_listing.copy()\n",
        "df = df[df['room_type'] != 'Hotel room']\n",
        "\n",
        "# Creating a dataframe of listing counts and median price by borough\n",
        "borough_df = pd.DataFrame(\n",
        "    df.groupby('neighbourhood_cleansed').size())\n",
        "borough_df.rename(columns={0:'number_of_listings'},\n",
        "                  inplace=True)\n",
        "borough_df['median_price'] = df.groupby(\n",
        "    'neighbourhood_cleansed').price.median().values\n",
        "# Joining the dataframes\n",
        "borough_map_df = map_df.set_index('neighbourhood').join(borough_df)\n",
        "\n",
        "# Plotting the number of listings in each borough\n",
        "fig1, ax1 = plt.subplots(1, figsize=(15, 6))\n",
        "borough_map_df.plot(column='number_of_listings', cmap='Blues', ax=ax1)\n",
        "ax1.axis('off')\n",
        "ax1.set_title('Number of Airbnb listings in each London borough', fontsize=14)\n",
        "sm = plt.cm.ScalarMappable(cmap='Blues', norm=plt.Normalize(vmin=min(borough_map_df.number_of_listings), vmax=max(borough_map_df.number_of_listings)))\n",
        "sm._A = [] # Creates an empty array for the data range\n",
        "cbar = fig1.colorbar(sm)\n",
        "plt.show()\n",
        "\n",
        "# Plotting the median price of listings in each borough\n",
        "fig2, ax2 = plt.subplots(1, figsize=(15, 6))\n",
        "borough_map_df.plot(column='median_price', cmap='OrRd', ax=ax2)\n",
        "ax2.axis('off')\n",
        "ax2.set_title('Median price of Airbnb listings in each London borough', fontsize=14)\n",
        "sm = plt.cm.ScalarMappable(cmap='OrRd', norm=plt.Normalize(vmin=min(borough_map_df.median_price), vmax=max(borough_map_df.median_price)))\n",
        "sm._A = [] # Creates an empty array for the data range\n",
        "cbar = fig2.colorbar(sm)\n",
        "plt.show()\n",
        "```"
      ]
    },
    {
      "cell_type": "code",
      "execution_count": null,
      "id": "7ae2aa00-ef21-4775-bb4c-5e4e263a3cfa",
      "metadata": {
        "colab": {
          "base_uri": "https://localhost:8080/"
        },
        "id": "7ae2aa00-ef21-4775-bb4c-5e4e263a3cfa",
        "outputId": "a6186d53-4618-498b-a504-4e43dd44a4d0"
      },
      "outputs": [
        {
          "data": {
            "text/plain": [
              "(36636, 185)"
            ]
          },
          "execution_count": 83,
          "metadata": {},
          "output_type": "execute_result"
        }
      ],
      "source": [
        "df_listing['host_response_time'].fillna('unknown',inplace=True)\n",
        "df_listing = pd.get_dummies(df_listing)\n",
        "df_listing.shape"
      ]
    },
    {
      "cell_type": "markdown",
      "id": "98075e43-9e7d-464b-82f7-32312170d30a",
      "metadata": {
        "id": "98075e43-9e7d-464b-82f7-32312170d30a"
      },
      "source": [
        "### Numerical features"
      ]
    },
    {
      "cell_type": "code",
      "execution_count": null,
      "id": "a729de90-89fc-4549-8f61-872fbfc40d20",
      "metadata": {
        "colab": {
          "base_uri": "https://localhost:8080/"
        },
        "id": "a729de90-89fc-4549-8f61-872fbfc40d20",
        "outputId": "e5d79d41-59e1-4c59-d3f0-8bb88a4644c7",
        "scrolled": true,
        "tags": []
      },
      "outputs": [
        {
          "data": {
            "text/plain": [
              "host_response_rate             3516\n",
              "host_acceptance_rate            405\n",
              "host_is_superhost                 1\n",
              "bedrooms                       1776\n",
              "beds                            467\n",
              "review_scores_accuracy            1\n",
              "review_scores_cleanliness         3\n",
              "review_scores_checkin             1\n",
              "review_scores_communication       2\n",
              "review_scores_location            1\n",
              "review_scores_value               1\n",
              "bathrooms_count                  32\n",
              "description_length              372\n",
              "dtype: int64"
            ]
          },
          "execution_count": 84,
          "metadata": {},
          "output_type": "execute_result"
        }
      ],
      "source": [
        "nulls = df_listing.isnull().sum()\n",
        "nulls = nulls[nulls!=0]\n",
        "nulls"
      ]
    },
    {
      "cell_type": "code",
      "execution_count": null,
      "id": "3dca6f85-dd72-413b-8d90-024eab64d530",
      "metadata": {
        "id": "3dca6f85-dd72-413b-8d90-024eab64d530",
        "outputId": "010bb47c-fb26-429e-88c9-9a1f6ed481af"
      },
      "outputs": [
        {
          "name": "stdout",
          "output_type": "stream",
          "text": [
            "fill nulls with median for: host_response_rate\n",
            "fill nulls with median for: host_acceptance_rate\n",
            "fill nulls with 0 for: bedrooms\n",
            "fill nulls with 0 for: beds\n",
            "fill nulls with 0 for: review_scores_accuracy\n",
            "fill nulls with 0 for: review_scores_cleanliness\n",
            "fill nulls with 0 for: review_scores_checkin\n",
            "fill nulls with 0 for: review_scores_communication\n",
            "fill nulls with 0 for: review_scores_location\n",
            "fill nulls with 0 for: review_scores_value\n",
            "fill nulls with median for: bathrooms_count\n",
            "fill nulls with 0 for: description_length\n"
          ]
        }
      ],
      "source": [
        "df_listing['host_is_superhost'].fillna(0,inplace=True)\n",
        "\n",
        "# fillna with median for columns that have zero\n",
        "# and zero for those that don't have zero\n",
        "def fill_na(df):\n",
        "    col = df.columns\n",
        "    for x in col:\n",
        "        if df[x].isnull().sum()>0:\n",
        "            if df[df[x]==0][x].count()==0:\n",
        "                df[x].fillna(0, inplace=True)\n",
        "                print(\"fill nulls with 0 for:\", x)\n",
        "            else:\n",
        "                df[x].fillna(df[x].median(), inplace=True)\n",
        "                print(\"fill nulls with median for:\", x)\n",
        "fill_na(df_listing)"
      ]
    },
    {
      "cell_type": "code",
      "execution_count": null,
      "id": "80654d4a-dbe3-4e00-9c2e-781deb484233",
      "metadata": {
        "colab": {
          "base_uri": "https://localhost:8080/"
        },
        "id": "80654d4a-dbe3-4e00-9c2e-781deb484233",
        "outputId": "ac675afe-534f-4c5a-8bb2-4432ef9313aa"
      },
      "outputs": [
        {
          "data": {
            "text/plain": [
              "0"
            ]
          },
          "execution_count": 86,
          "metadata": {},
          "output_type": "execute_result"
        }
      ],
      "source": [
        "sum(df_listing.isnull().sum())"
      ]
    },
    {
      "cell_type": "markdown",
      "id": "6dbcf8a6-6897-4747-ba34-b48f5ea2d334",
      "metadata": {
        "id": "6dbcf8a6-6897-4747-ba34-b48f5ea2d334"
      },
      "source": [
        "## Amenities (One-hot encoding)"
      ]
    },
    {
      "cell_type": "code",
      "execution_count": null,
      "id": "6d49aa99-a198-4ec7-96d0-7e6a42841d83",
      "metadata": {
        "colab": {
          "base_uri": "https://localhost:8080/"
        },
        "id": "6d49aa99-a198-4ec7-96d0-7e6a42841d83",
        "outputId": "cf900812-54f6-4a96-dbc3-5a0375226ae5"
      },
      "outputs": [
        {
          "data": {
            "text/plain": [
              "id\n",
              "825491308329325404    [washer, first aid kit, fire extinguisher, smo...\n",
              "786791705194673775                                [washer, tv, kitchen]\n",
              "749834503531737273    [washer, smoke alarm, free parking on premises...\n",
              "717113207077160928                              [outdoor furniture, tv]\n",
              "50584271              [washer, outdoor furniture, hangers, dishwashe...\n",
              "Name: amenities_clean, dtype: object"
            ]
          },
          "execution_count": 87,
          "metadata": {},
          "output_type": "execute_result"
        }
      ],
      "source": [
        "amenities_df['amenities_clean'].head()"
      ]
    },
    {
      "cell_type": "code",
      "execution_count": null,
      "id": "0410d2c8-abe3-4855-8a12-947663bfe5b9",
      "metadata": {
        "colab": {
          "base_uri": "https://localhost:8080/",
          "height": 424
        },
        "id": "0410d2c8-abe3-4855-8a12-947663bfe5b9",
        "outputId": "1f3226e2-0a56-4974-9d2f-ab1429872bea",
        "scrolled": true
      },
      "outputs": [
        {
          "data": {
            "text/html": [
              "<div>\n",
              "<style scoped>\n",
              "    .dataframe tbody tr th:only-of-type {\n",
              "        vertical-align: middle;\n",
              "    }\n",
              "\n",
              "    .dataframe tbody tr th {\n",
              "        vertical-align: top;\n",
              "    }\n",
              "\n",
              "    .dataframe thead th {\n",
              "        text-align: right;\n",
              "    }\n",
              "</style>\n",
              "<table border=\"1\" class=\"dataframe\">\n",
              "  <thead>\n",
              "    <tr style=\"text-align: right;\">\n",
              "      <th></th>\n",
              "      <th>amenity</th>\n",
              "      <th>count</th>\n",
              "    </tr>\n",
              "  </thead>\n",
              "  <tbody>\n",
              "    <tr>\n",
              "      <th>0</th>\n",
              "      <td>smoke alarm</td>\n",
              "      <td>34236</td>\n",
              "    </tr>\n",
              "    <tr>\n",
              "      <th>1</th>\n",
              "      <td>kitchen</td>\n",
              "      <td>33010</td>\n",
              "    </tr>\n",
              "    <tr>\n",
              "      <th>2</th>\n",
              "      <td>essentials</td>\n",
              "      <td>32465</td>\n",
              "    </tr>\n",
              "    <tr>\n",
              "      <th>3</th>\n",
              "      <td>wifi</td>\n",
              "      <td>32398</td>\n",
              "    </tr>\n",
              "    <tr>\n",
              "      <th>4</th>\n",
              "      <td>iron</td>\n",
              "      <td>29299</td>\n",
              "    </tr>\n",
              "    <tr>\n",
              "      <th>...</th>\n",
              "      <td>...</td>\n",
              "      <td>...</td>\n",
              "    </tr>\n",
              "    <tr>\n",
              "      <th>295</th>\n",
              "      <td>fast wifi – 72 mbps</td>\n",
              "      <td>55</td>\n",
              "    </tr>\n",
              "    <tr>\n",
              "      <th>296</th>\n",
              "      <td>heating - split type ductless system</td>\n",
              "      <td>55</td>\n",
              "    </tr>\n",
              "    <tr>\n",
              "      <th>297</th>\n",
              "      <td>32\" hdtv with standard cable</td>\n",
              "      <td>54</td>\n",
              "    </tr>\n",
              "    <tr>\n",
              "      <th>298</th>\n",
              "      <td>siemens stainless steel oven</td>\n",
              "      <td>54</td>\n",
              "    </tr>\n",
              "    <tr>\n",
              "      <th>299</th>\n",
              "      <td>faith in nature shampoo</td>\n",
              "      <td>53</td>\n",
              "    </tr>\n",
              "  </tbody>\n",
              "</table>\n",
              "<p>300 rows × 2 columns</p>\n",
              "</div>"
            ],
            "text/plain": [
              "                                  amenity  count\n",
              "0                             smoke alarm  34236\n",
              "1                                 kitchen  33010\n",
              "2                              essentials  32465\n",
              "3                                    wifi  32398\n",
              "4                                    iron  29299\n",
              "..                                    ...    ...\n",
              "295                   fast wifi – 72 mbps     55\n",
              "296  heating - split type ductless system     55\n",
              "297          32\" hdtv with standard cable     54\n",
              "298          siemens stainless steel oven     54\n",
              "299               faith in nature shampoo     53\n",
              "\n",
              "[300 rows x 2 columns]"
            ]
          },
          "execution_count": 88,
          "metadata": {},
          "output_type": "execute_result"
        }
      ],
      "source": [
        "def to_1D(series):\n",
        "    return pd.Series([x for _list in series for x in _list])\n",
        "\n",
        "amenities_counts = to_1D(amenities_df['amenities_clean']).value_counts().head(300).reset_index()\n",
        "amenities_counts = amenities_counts.rename(columns={'index': 'amenity', 0: 'count'})\n",
        "amenities_counts"
      ]
    },
    {
      "cell_type": "code",
      "execution_count": null,
      "id": "b6be50db-28e4-4f86-abc5-b1bb5eeebb1d",
      "metadata": {
        "colab": {
          "base_uri": "https://localhost:8080/"
        },
        "id": "b6be50db-28e4-4f86-abc5-b1bb5eeebb1d",
        "outputId": "7a0471d0-7b57-4ddf-9999-b4d65f356cab"
      },
      "outputs": [
        {
          "data": {
            "text/plain": [
              "(36636, 2)"
            ]
          },
          "execution_count": 89,
          "metadata": {},
          "output_type": "execute_result"
        }
      ],
      "source": [
        "amenities_df.shape"
      ]
    },
    {
      "cell_type": "code",
      "execution_count": null,
      "id": "-vcw95Ckfpge",
      "metadata": {
        "id": "-vcw95Ckfpge"
      },
      "outputs": [],
      "source": [
        "amenities_list = to_1D(amenities_df['amenities_clean']).value_counts().head(300).index\n",
        "amenities_df.rename(\n",
        "    columns={'amenities_clean':'amenities'},\n",
        "    inplace=True)\n",
        "\n",
        "def onehot_df(df, variable, unique_items):\n",
        "    \"\"\"\n",
        "    Performs one-hot encoding on a specified column in a DataFrame, using a given list of unique items.\n",
        "    It creates new columns for each unique item and deletes the original column.\n",
        "    \"\"\"\n",
        "    item_lists = df[variable]\n",
        "    for i, label in enumerate(unique_items):\n",
        "        df[variable+'_'+label] = item_lists.apply(lambda x: 1 if label in x else 0)\n",
        "    del df[variable]\n",
        "    return df\n",
        "\n",
        "amenities_df = onehot_df(amenities_df, 'amenities', amenities_list)"
      ]
    },
    {
      "cell_type": "code",
      "execution_count": null,
      "id": "17250c3d-2f7c-492c-94c2-3f5fed232d6c",
      "metadata": {
        "colab": {
          "base_uri": "https://localhost:8080/"
        },
        "id": "17250c3d-2f7c-492c-94c2-3f5fed232d6c",
        "outputId": "33cab420-5eb1-4921-f3c0-428f6cdd03b8"
      },
      "outputs": [
        {
          "data": {
            "text/plain": [
              "(36636, 300)"
            ]
          },
          "execution_count": 91,
          "metadata": {},
          "output_type": "execute_result"
        }
      ],
      "source": [
        "amenities_df.drop(['listing_url'],axis=1,inplace=True)\n",
        "amenities_df.shape"
      ]
    },
    {
      "cell_type": "code",
      "execution_count": null,
      "id": "d77db953-a079-49d5-8543-d5d60fd0dd3f",
      "metadata": {
        "colab": {
          "base_uri": "https://localhost:8080/",
          "height": 609
        },
        "id": "d77db953-a079-49d5-8543-d5d60fd0dd3f",
        "outputId": "3239a3d1-33ea-46a0-fe6e-5ac310fcc078",
        "scrolled": true,
        "tags": []
      },
      "outputs": [
        {
          "data": {
            "text/html": [
              "<div>\n",
              "<style scoped>\n",
              "    .dataframe tbody tr th:only-of-type {\n",
              "        vertical-align: middle;\n",
              "    }\n",
              "\n",
              "    .dataframe tbody tr th {\n",
              "        vertical-align: top;\n",
              "    }\n",
              "\n",
              "    .dataframe thead th {\n",
              "        text-align: right;\n",
              "    }\n",
              "</style>\n",
              "<table border=\"1\" class=\"dataframe\">\n",
              "  <thead>\n",
              "    <tr style=\"text-align: right;\">\n",
              "      <th>listing_id</th>\n",
              "      <th>825491308329325404</th>\n",
              "    </tr>\n",
              "  </thead>\n",
              "  <tbody>\n",
              "    <tr>\n",
              "      <th>amenities_smoke alarm</th>\n",
              "      <td>1</td>\n",
              "    </tr>\n",
              "    <tr>\n",
              "      <th>amenities_kitchen</th>\n",
              "      <td>1</td>\n",
              "    </tr>\n",
              "    <tr>\n",
              "      <th>amenities_essentials</th>\n",
              "      <td>0</td>\n",
              "    </tr>\n",
              "    <tr>\n",
              "      <th>amenities_wifi</th>\n",
              "      <td>1</td>\n",
              "    </tr>\n",
              "    <tr>\n",
              "      <th>amenities_iron</th>\n",
              "      <td>0</td>\n",
              "    </tr>\n",
              "    <tr>\n",
              "      <th>...</th>\n",
              "      <td>...</td>\n",
              "    </tr>\n",
              "    <tr>\n",
              "      <th>amenities_fast wifi – 72 mbps</th>\n",
              "      <td>0</td>\n",
              "    </tr>\n",
              "    <tr>\n",
              "      <th>amenities_heating - split type ductless system</th>\n",
              "      <td>0</td>\n",
              "    </tr>\n",
              "    <tr>\n",
              "      <th>amenities_32\" hdtv with standard cable</th>\n",
              "      <td>0</td>\n",
              "    </tr>\n",
              "    <tr>\n",
              "      <th>amenities_siemens stainless steel oven</th>\n",
              "      <td>0</td>\n",
              "    </tr>\n",
              "    <tr>\n",
              "      <th>amenities_faith in nature shampoo</th>\n",
              "      <td>0</td>\n",
              "    </tr>\n",
              "  </tbody>\n",
              "</table>\n",
              "<p>300 rows × 1 columns</p>\n",
              "</div>"
            ],
            "text/plain": [
              "listing_id                                      825491308329325404\n",
              "amenities_smoke alarm                                            1\n",
              "amenities_kitchen                                                1\n",
              "amenities_essentials                                             0\n",
              "amenities_wifi                                                   1\n",
              "amenities_iron                                                   0\n",
              "...                                                            ...\n",
              "amenities_fast wifi – 72 mbps                                    0\n",
              "amenities_heating - split type ductless system                   0\n",
              "amenities_32\" hdtv with standard cable                           0\n",
              "amenities_siemens stainless steel oven                           0\n",
              "amenities_faith in nature shampoo                                0\n",
              "\n",
              "[300 rows x 1 columns]"
            ]
          },
          "execution_count": 92,
          "metadata": {},
          "output_type": "execute_result"
        }
      ],
      "source": [
        "df = amenities_df.head(1)\n",
        "df.rename_axis('listing_id', inplace=True)\n",
        "df.T"
      ]
    },
    {
      "cell_type": "code",
      "execution_count": null,
      "id": "4ec4b466-bff5-489b-bede-33b0431d0610",
      "metadata": {
        "id": "4ec4b466-bff5-489b-bede-33b0431d0610",
        "scrolled": true
      },
      "outputs": [],
      "source": [
        "# columns = [\n",
        "#     'amenities_smoke alarm','amenities_kitchen','amenities_essentials','amenities_wifi','amenities_iron',\n",
        "#     'amenities_hot water','amenities_hangers','amenities_dishes and silverware','amenities_hair dryer',\n",
        "#     'amenities_carbon monoxide alarm'\n",
        "# ]\n",
        "\n",
        "# for col in columns:\n",
        "#     print(f\"\\nValue counts for '{col}':\")\n",
        "#     display(amenities_df[col].value_counts().to_frame())\n",
        "\n",
        "\n",
        "# amenities_df.nunique().value_counts()"
      ]
    },
    {
      "cell_type": "code",
      "execution_count": null,
      "id": "c34c26e6-0c32-479b-b985-4eba7c53f81c",
      "metadata": {
        "colab": {
          "base_uri": "https://localhost:8080/"
        },
        "id": "c34c26e6-0c32-479b-b985-4eba7c53f81c",
        "outputId": "6fd05783-4f7b-4266-f203-6f14cad3e6f6"
      },
      "outputs": [
        {
          "data": {
            "text/plain": [
              "(36636, 185)"
            ]
          },
          "execution_count": 94,
          "metadata": {},
          "output_type": "execute_result"
        }
      ],
      "source": [
        "df_listing.shape"
      ]
    },
    {
      "cell_type": "code",
      "execution_count": null,
      "id": "3d57f669-bcac-404d-9ac1-688961dccd4b",
      "metadata": {
        "colab": {
          "base_uri": "https://localhost:8080/",
          "height": 294
        },
        "id": "3d57f669-bcac-404d-9ac1-688961dccd4b",
        "outputId": "386e0b23-8929-4e2b-d6e0-37fb59046125"
      },
      "outputs": [
        {
          "data": {
            "text/html": [
              "<div>\n",
              "<style scoped>\n",
              "    .dataframe tbody tr th:only-of-type {\n",
              "        vertical-align: middle;\n",
              "    }\n",
              "\n",
              "    .dataframe tbody tr th {\n",
              "        vertical-align: top;\n",
              "    }\n",
              "\n",
              "    .dataframe thead th {\n",
              "        text-align: right;\n",
              "    }\n",
              "</style>\n",
              "<table border=\"1\" class=\"dataframe\">\n",
              "  <thead>\n",
              "    <tr style=\"text-align: right;\">\n",
              "      <th></th>\n",
              "      <th>id</th>\n",
              "      <th>host_id</th>\n",
              "      <th>host_response_rate</th>\n",
              "      <th>host_acceptance_rate</th>\n",
              "      <th>host_is_superhost</th>\n",
              "      <th>host_listings_count</th>\n",
              "      <th>host_total_listings_count</th>\n",
              "      <th>host_has_profile_pic</th>\n",
              "      <th>host_identity_verified</th>\n",
              "      <th>latitude</th>\n",
              "      <th>...</th>\n",
              "      <th>amenities_faith in nature conditioner</th>\n",
              "      <th>amenities_outdoor kitchen</th>\n",
              "      <th>amenities_40\" hdtv</th>\n",
              "      <th>amenities_aesop body soap</th>\n",
              "      <th>amenities_fast wifi – 74 mbps</th>\n",
              "      <th>amenities_fast wifi – 72 mbps</th>\n",
              "      <th>amenities_heating - split type ductless system</th>\n",
              "      <th>amenities_32\" hdtv with standard cable</th>\n",
              "      <th>amenities_siemens stainless steel oven</th>\n",
              "      <th>amenities_faith in nature shampoo</th>\n",
              "    </tr>\n",
              "  </thead>\n",
              "  <tbody>\n",
              "    <tr>\n",
              "      <th>0</th>\n",
              "      <td>825491308329325404</td>\n",
              "      <td>500808473</td>\n",
              "      <td>1.00</td>\n",
              "      <td>1.00</td>\n",
              "      <td>0.0</td>\n",
              "      <td>1.0</td>\n",
              "      <td>1.0</td>\n",
              "      <td>0</td>\n",
              "      <td>0</td>\n",
              "      <td>51.416047</td>\n",
              "      <td>...</td>\n",
              "      <td>0</td>\n",
              "      <td>0</td>\n",
              "      <td>0</td>\n",
              "      <td>0</td>\n",
              "      <td>0</td>\n",
              "      <td>0</td>\n",
              "      <td>0</td>\n",
              "      <td>0</td>\n",
              "      <td>0</td>\n",
              "      <td>0</td>\n",
              "    </tr>\n",
              "    <tr>\n",
              "      <th>1</th>\n",
              "      <td>786791705194673775</td>\n",
              "      <td>490795350</td>\n",
              "      <td>0.98</td>\n",
              "      <td>0.87</td>\n",
              "      <td>0.0</td>\n",
              "      <td>25.0</td>\n",
              "      <td>26.0</td>\n",
              "      <td>0</td>\n",
              "      <td>1</td>\n",
              "      <td>51.370691</td>\n",
              "      <td>...</td>\n",
              "      <td>0</td>\n",
              "      <td>0</td>\n",
              "      <td>0</td>\n",
              "      <td>0</td>\n",
              "      <td>0</td>\n",
              "      <td>0</td>\n",
              "      <td>0</td>\n",
              "      <td>0</td>\n",
              "      <td>0</td>\n",
              "      <td>0</td>\n",
              "    </tr>\n",
              "    <tr>\n",
              "      <th>2</th>\n",
              "      <td>749834503531737273</td>\n",
              "      <td>407681693</td>\n",
              "      <td>1.00</td>\n",
              "      <td>1.00</td>\n",
              "      <td>0.0</td>\n",
              "      <td>2.0</td>\n",
              "      <td>4.0</td>\n",
              "      <td>1</td>\n",
              "      <td>1</td>\n",
              "      <td>51.613340</td>\n",
              "      <td>...</td>\n",
              "      <td>0</td>\n",
              "      <td>0</td>\n",
              "      <td>0</td>\n",
              "      <td>0</td>\n",
              "      <td>0</td>\n",
              "      <td>0</td>\n",
              "      <td>0</td>\n",
              "      <td>0</td>\n",
              "      <td>0</td>\n",
              "      <td>0</td>\n",
              "    </tr>\n",
              "  </tbody>\n",
              "</table>\n",
              "<p>3 rows × 486 columns</p>\n",
              "</div>"
            ],
            "text/plain": [
              "                   id    host_id  host_response_rate  host_acceptance_rate  \\\n",
              "0  825491308329325404  500808473                1.00                  1.00   \n",
              "1  786791705194673775  490795350                0.98                  0.87   \n",
              "2  749834503531737273  407681693                1.00                  1.00   \n",
              "\n",
              "   host_is_superhost  host_listings_count  host_total_listings_count  \\\n",
              "0                0.0                  1.0                        1.0   \n",
              "1                0.0                 25.0                       26.0   \n",
              "2                0.0                  2.0                        4.0   \n",
              "\n",
              "   host_has_profile_pic  host_identity_verified   latitude  ...  \\\n",
              "0                     0                       0  51.416047  ...   \n",
              "1                     0                       1  51.370691  ...   \n",
              "2                     1                       1  51.613340  ...   \n",
              "\n",
              "   amenities_faith in nature conditioner  amenities_outdoor kitchen  \\\n",
              "0                                      0                          0   \n",
              "1                                      0                          0   \n",
              "2                                      0                          0   \n",
              "\n",
              "   amenities_40\" hdtv  amenities_aesop body soap  \\\n",
              "0                   0                          0   \n",
              "1                   0                          0   \n",
              "2                   0                          0   \n",
              "\n",
              "   amenities_fast wifi – 74 mbps  amenities_fast wifi – 72 mbps  \\\n",
              "0                              0                              0   \n",
              "1                              0                              0   \n",
              "2                              0                              0   \n",
              "\n",
              "   amenities_heating - split type ductless system  \\\n",
              "0                                               0   \n",
              "1                                               0   \n",
              "2                                               0   \n",
              "\n",
              "   amenities_32\" hdtv with standard cable  \\\n",
              "0                                       0   \n",
              "1                                       0   \n",
              "2                                       0   \n",
              "\n",
              "   amenities_siemens stainless steel oven  amenities_faith in nature shampoo  \n",
              "0                                       0                                  0  \n",
              "1                                       0                                  0  \n",
              "2                                       0                                  0  \n",
              "\n",
              "[3 rows x 486 columns]"
            ]
          },
          "execution_count": 95,
          "metadata": {},
          "output_type": "execute_result"
        }
      ],
      "source": [
        "# merge the two dataframes\n",
        "amenities_df\n",
        "df_listing = df_listing.join(amenities_df, how='left')\n",
        "df_listing.reset_index(inplace=True)\n",
        "df_listing.head(3)"
      ]
    },
    {
      "cell_type": "code",
      "execution_count": null,
      "id": "9480ee17-4d9e-4d80-827c-7ebd4a887aa3",
      "metadata": {
        "colab": {
          "base_uri": "https://localhost:8080/"
        },
        "id": "9480ee17-4d9e-4d80-827c-7ebd4a887aa3",
        "outputId": "211b1a4d-3328-45fc-df46-317f0eb04020"
      },
      "outputs": [
        {
          "data": {
            "text/plain": [
              "(36636, 486)"
            ]
          },
          "execution_count": 96,
          "metadata": {},
          "output_type": "execute_result"
        }
      ],
      "source": [
        "df_listing.shape"
      ]
    },
    {
      "cell_type": "markdown",
      "id": "a3919ae1-67ab-49ae-80ff-28602cd57e4e",
      "metadata": {
        "id": "a3919ae1-67ab-49ae-80ff-28602cd57e4e"
      },
      "source": [
        "## Multi listing"
      ]
    },
    {
      "cell_type": "code",
      "execution_count": null,
      "id": "0793a31c-e09f-4385-b7a6-8ab88ae1389c",
      "metadata": {
        "colab": {
          "base_uri": "https://localhost:8080/",
          "height": 206
        },
        "id": "0793a31c-e09f-4385-b7a6-8ab88ae1389c",
        "outputId": "53d78eb5-3a32-4e64-ed32-76b9bb916886"
      },
      "outputs": [
        {
          "data": {
            "text/html": [
              "<div>\n",
              "<style scoped>\n",
              "    .dataframe tbody tr th:only-of-type {\n",
              "        vertical-align: middle;\n",
              "    }\n",
              "\n",
              "    .dataframe tbody tr th {\n",
              "        vertical-align: top;\n",
              "    }\n",
              "\n",
              "    .dataframe thead th {\n",
              "        text-align: right;\n",
              "    }\n",
              "</style>\n",
              "<table border=\"1\" class=\"dataframe\">\n",
              "  <thead>\n",
              "    <tr style=\"text-align: right;\">\n",
              "      <th></th>\n",
              "      <th>host_id</th>\n",
              "      <th>count</th>\n",
              "    </tr>\n",
              "  </thead>\n",
              "  <tbody>\n",
              "    <tr>\n",
              "      <th>0</th>\n",
              "      <td>4775</td>\n",
              "      <td>7</td>\n",
              "    </tr>\n",
              "    <tr>\n",
              "      <th>1</th>\n",
              "      <td>4879</td>\n",
              "      <td>1</td>\n",
              "    </tr>\n",
              "    <tr>\n",
              "      <th>2</th>\n",
              "      <td>6774</td>\n",
              "      <td>5</td>\n",
              "    </tr>\n",
              "    <tr>\n",
              "      <th>3</th>\n",
              "      <td>9323</td>\n",
              "      <td>1</td>\n",
              "    </tr>\n",
              "    <tr>\n",
              "      <th>4</th>\n",
              "      <td>10115</td>\n",
              "      <td>2</td>\n",
              "    </tr>\n",
              "  </tbody>\n",
              "</table>\n",
              "</div>"
            ],
            "text/plain": [
              "   host_id  count\n",
              "0     4775      7\n",
              "1     4879      1\n",
              "2     6774      5\n",
              "3     9323      1\n",
              "4    10115      2"
            ]
          },
          "execution_count": 97,
          "metadata": {},
          "output_type": "execute_result"
        }
      ],
      "source": [
        "listing_by_host = host_id_df.groupby('host_id').size().reset_index(name='count')\n",
        "listing_by_host.head()"
      ]
    },
    {
      "cell_type": "code",
      "execution_count": null,
      "id": "b899f69e-35c7-40a9-b16f-963e5b45d7a1",
      "metadata": {
        "colab": {
          "base_uri": "https://localhost:8080/"
        },
        "id": "b899f69e-35c7-40a9-b16f-963e5b45d7a1",
        "outputId": "172fb65b-a023-4223-aa1c-c7a8c11b9ee4"
      },
      "outputs": [
        {
          "data": {
            "text/plain": [
              "count    21138.00\n",
              "mean         1.73\n",
              "std          3.52\n",
              "min          1.00\n",
              "25%          1.00\n",
              "50%          1.00\n",
              "75%          1.00\n",
              "max        167.00\n",
              "Name: count, dtype: float64"
            ]
          },
          "execution_count": 98,
          "metadata": {},
          "output_type": "execute_result"
        }
      ],
      "source": [
        "listing_by_host['count'].describe().round(2)"
      ]
    },
    {
      "cell_type": "code",
      "execution_count": null,
      "id": "e25c7b2f-ac1b-4e0a-b42c-98fc12a88590",
      "metadata": {
        "colab": {
          "base_uri": "https://localhost:8080/",
          "height": 206
        },
        "id": "e25c7b2f-ac1b-4e0a-b42c-98fc12a88590",
        "outputId": "a20b2491-fb95-406f-f89b-74a44a84e140"
      },
      "outputs": [
        {
          "data": {
            "text/html": [
              "<div>\n",
              "<style scoped>\n",
              "    .dataframe tbody tr th:only-of-type {\n",
              "        vertical-align: middle;\n",
              "    }\n",
              "\n",
              "    .dataframe tbody tr th {\n",
              "        vertical-align: top;\n",
              "    }\n",
              "\n",
              "    .dataframe thead th {\n",
              "        text-align: right;\n",
              "    }\n",
              "</style>\n",
              "<table border=\"1\" class=\"dataframe\">\n",
              "  <thead>\n",
              "    <tr style=\"text-align: right;\">\n",
              "      <th></th>\n",
              "      <th>host_id</th>\n",
              "      <th>count</th>\n",
              "      <th>is_multi_listing</th>\n",
              "    </tr>\n",
              "  </thead>\n",
              "  <tbody>\n",
              "    <tr>\n",
              "      <th>0</th>\n",
              "      <td>4775</td>\n",
              "      <td>7</td>\n",
              "      <td>1</td>\n",
              "    </tr>\n",
              "    <tr>\n",
              "      <th>1</th>\n",
              "      <td>4879</td>\n",
              "      <td>1</td>\n",
              "      <td>0</td>\n",
              "    </tr>\n",
              "    <tr>\n",
              "      <th>2</th>\n",
              "      <td>6774</td>\n",
              "      <td>5</td>\n",
              "      <td>1</td>\n",
              "    </tr>\n",
              "    <tr>\n",
              "      <th>3</th>\n",
              "      <td>9323</td>\n",
              "      <td>1</td>\n",
              "      <td>0</td>\n",
              "    </tr>\n",
              "    <tr>\n",
              "      <th>4</th>\n",
              "      <td>10115</td>\n",
              "      <td>2</td>\n",
              "      <td>1</td>\n",
              "    </tr>\n",
              "  </tbody>\n",
              "</table>\n",
              "</div>"
            ],
            "text/plain": [
              "   host_id  count  is_multi_listing\n",
              "0     4775      7                 1\n",
              "1     4879      1                 0\n",
              "2     6774      5                 1\n",
              "3     9323      1                 0\n",
              "4    10115      2                 1"
            ]
          },
          "execution_count": 99,
          "metadata": {},
          "output_type": "execute_result"
        }
      ],
      "source": [
        "listing_by_host['is_multi_listing'] = listing_by_host['count'].map(lambda x:1 if x>1 else 0)\n",
        "listing_by_host.head()"
      ]
    },
    {
      "cell_type": "code",
      "execution_count": null,
      "id": "bceb5497-c5a8-4a4c-8b29-a44af6582cab",
      "metadata": {
        "colab": {
          "base_uri": "https://localhost:8080/"
        },
        "id": "bceb5497-c5a8-4a4c-8b29-a44af6582cab",
        "outputId": "0e143d4d-a9c1-4e8c-c65b-bd36041114e4"
      },
      "outputs": [
        {
          "data": {
            "text/plain": [
              "0    16354\n",
              "1     4784\n",
              "Name: is_multi_listing, dtype: int64"
            ]
          },
          "execution_count": 100,
          "metadata": {},
          "output_type": "execute_result"
        }
      ],
      "source": [
        "listing_by_host['is_multi_listing'].value_counts()"
      ]
    },
    {
      "cell_type": "code",
      "execution_count": null,
      "id": "78cd780f-7e1d-48d6-9590-b8f430b817f1",
      "metadata": {
        "colab": {
          "base_uri": "https://localhost:8080/"
        },
        "id": "78cd780f-7e1d-48d6-9590-b8f430b817f1",
        "outputId": "85af6252-9ed5-4cdb-a85b-897a62c2a340"
      },
      "outputs": [
        {
          "data": {
            "text/plain": [
              "(21138, 2)"
            ]
          },
          "execution_count": 101,
          "metadata": {},
          "output_type": "execute_result"
        }
      ],
      "source": [
        "listing_by_host.drop(['count'],axis=1,inplace=True)\n",
        "listing_by_host.shape"
      ]
    },
    {
      "cell_type": "code",
      "execution_count": null,
      "id": "3e9e3bb6-b57c-45ab-bf16-5274d247acbc",
      "metadata": {
        "colab": {
          "base_uri": "https://localhost:8080/"
        },
        "id": "3e9e3bb6-b57c-45ab-bf16-5274d247acbc",
        "outputId": "b2c0d795-e4ae-4bc8-afba-08b5418685f4"
      },
      "outputs": [
        {
          "data": {
            "text/plain": [
              "(36636, 486)"
            ]
          },
          "execution_count": 102,
          "metadata": {},
          "output_type": "execute_result"
        }
      ],
      "source": [
        "df_listing.shape"
      ]
    },
    {
      "cell_type": "code",
      "execution_count": null,
      "id": "78a86893-f224-4505-803a-10395317b4f1",
      "metadata": {
        "colab": {
          "base_uri": "https://localhost:8080/"
        },
        "id": "78a86893-f224-4505-803a-10395317b4f1",
        "outputId": "3efbe352-862a-4579-a9a3-089569332f92"
      },
      "outputs": [
        {
          "data": {
            "text/plain": [
              "(36636, 487)"
            ]
          },
          "execution_count": 103,
          "metadata": {},
          "output_type": "execute_result"
        }
      ],
      "source": [
        "df_listing = pd.merge(df_listing,listing_by_host,on='host_id',how='left')\n",
        "df_listing.shape"
      ]
    },
    {
      "cell_type": "code",
      "execution_count": null,
      "id": "2d94ed9f-9caa-4a7f-a017-706838dc9798",
      "metadata": {
        "colab": {
          "base_uri": "https://localhost:8080/"
        },
        "id": "2d94ed9f-9caa-4a7f-a017-706838dc9798",
        "outputId": "81c85c35-472f-4e2f-a456-8b4a49023dae"
      },
      "outputs": [
        {
          "data": {
            "text/plain": [
              "0"
            ]
          },
          "execution_count": 104,
          "metadata": {},
          "output_type": "execute_result"
        }
      ],
      "source": [
        "sum(df_listing.isnull().sum())"
      ]
    },
    {
      "cell_type": "code",
      "execution_count": null,
      "id": "40262606-6b7f-49da-8a0a-914cd5a6a084",
      "metadata": {
        "id": "40262606-6b7f-49da-8a0a-914cd5a6a084"
      },
      "outputs": [],
      "source": [
        "# df_listing[['multi_listing']].head()\n",
        "# df_listing[['multi_listing']].value_counts()"
      ]
    },
    {
      "cell_type": "markdown",
      "id": "1b1ee001-a6cd-4856-8451-e576a3370cd9",
      "metadata": {
        "id": "1b1ee001-a6cd-4856-8451-e576a3370cd9"
      },
      "source": [
        "## Sentiment analysis on reviews"
      ]
    },
    {
      "cell_type": "markdown",
      "id": "83799273-6f68-4ede-b185-259d9f4efcab",
      "metadata": {
        "id": "83799273-6f68-4ede-b185-259d9f4efcab"
      },
      "source": [
        "```python\n",
        "df_review = pd.read_csv('data/reviews.csv', encoding='utf-8')\n",
        "df_review = df_review.dropna(subset=['comments'])\n",
        "\n",
        "def remove_html_tags(text):\n",
        "    clean = re.compile('<.*?>')\n",
        "    return re.sub(clean, ' ', text)\n",
        "df_review['comments'] = df_review['comments'].apply(remove_html_tags)\n",
        "df_review = df_review[df_review['comments'].str.len()>1]\n",
        "\n",
        "# comments_length\n",
        "df_review['comments_length'] = df_review['comments'].str.split().apply(len)\n",
        "\n",
        "def language_detection(text):\n",
        "    try:\n",
        "        return detect(text)\n",
        "    except:\n",
        "        return None\n",
        "df_review['language'] = df_review['comments'].apply(language_detection)\n",
        "df_review = df_review[df_review['language']=='en'].reset_index(drop=True)\n",
        "\n",
        "# sentiment scores\n",
        "def textblob_sentiment_scores(text):\n",
        "    textblob_sentiment = TextBlob(text)\n",
        "    score = textblob_sentiment.sentiment.polarity   \n",
        "    return score\n",
        "df_review['TextBlob_sentiment_score'] = df_review['comments'].apply(textblob_sentiment_scores)\n",
        "df_review = df_review[~df_review['comments'].str.contains(\n",
        "    'This is an automated posting.')].reset_index(drop=True)\n",
        "\n",
        "# key reviewers\n",
        "reviewer = df_review.groupby('reviewer_id').size().reset_index(name='number_of_reviews')\n",
        "# reviewer['number_of_reviews'].describe().round(2)\n",
        "key_reviewer = reviewer[reviewer['number_of_reviews']>1].reset_index(drop=True)['reviewer_id'].values\n",
        "df_review['is_key_reviewer'] = np.where(df_review['reviewer_id'].isin(key_reviewer), 1, 0)\n",
        "review_group = df_review[['listing_id','comments_length',\n",
        "                          'TextBlob_sentiment_score','is_key_reviewer']].groupby(by='listing_id').mean()\n",
        "review_group.to_csv('data/reviews_clean.csv')\n",
        "```"
      ]
    },
    {
      "cell_type": "code",
      "execution_count": null,
      "id": "18add080-0387-4ff6-baf5-a4dfcdd4c388",
      "metadata": {
        "id": "18add080-0387-4ff6-baf5-a4dfcdd4c388"
      },
      "outputs": [],
      "source": [
        "review_group = pd.read_csv('https://raw.githubusercontent.com/xiaohansu59/thesis/main/data/reviews_clean.csv')"
      ]
    },
    {
      "cell_type": "code",
      "execution_count": null,
      "id": "5a945acf-fd99-4166-b145-e49691025d6d",
      "metadata": {
        "id": "5a945acf-fd99-4166-b145-e49691025d6d",
        "outputId": "006ab1cd-2151-44a8-a794-b7d355e0eeb4"
      },
      "outputs": [
        {
          "data": {
            "text/html": [
              "<div>\n",
              "<style scoped>\n",
              "    .dataframe tbody tr th:only-of-type {\n",
              "        vertical-align: middle;\n",
              "    }\n",
              "\n",
              "    .dataframe tbody tr th {\n",
              "        vertical-align: top;\n",
              "    }\n",
              "\n",
              "    .dataframe thead th {\n",
              "        text-align: right;\n",
              "    }\n",
              "</style>\n",
              "<table border=\"1\" class=\"dataframe\">\n",
              "  <thead>\n",
              "    <tr style=\"text-align: right;\">\n",
              "      <th></th>\n",
              "      <th>listing_id</th>\n",
              "      <th>comments_length</th>\n",
              "      <th>TextBlob_sentiment_score</th>\n",
              "      <th>is_key_reviewer</th>\n",
              "    </tr>\n",
              "  </thead>\n",
              "  <tbody>\n",
              "    <tr>\n",
              "      <th>0</th>\n",
              "      <td>13913</td>\n",
              "      <td>40.125000</td>\n",
              "      <td>0.426355</td>\n",
              "      <td>0.450000</td>\n",
              "    </tr>\n",
              "    <tr>\n",
              "      <th>1</th>\n",
              "      <td>15400</td>\n",
              "      <td>73.988372</td>\n",
              "      <td>0.393211</td>\n",
              "      <td>0.209302</td>\n",
              "    </tr>\n",
              "    <tr>\n",
              "      <th>2</th>\n",
              "      <td>17402</td>\n",
              "      <td>74.386364</td>\n",
              "      <td>0.406447</td>\n",
              "      <td>0.136364</td>\n",
              "    </tr>\n",
              "    <tr>\n",
              "      <th>3</th>\n",
              "      <td>24328</td>\n",
              "      <td>68.000000</td>\n",
              "      <td>0.408263</td>\n",
              "      <td>0.130952</td>\n",
              "    </tr>\n",
              "    <tr>\n",
              "      <th>4</th>\n",
              "      <td>25123</td>\n",
              "      <td>59.898148</td>\n",
              "      <td>0.391549</td>\n",
              "      <td>0.250000</td>\n",
              "    </tr>\n",
              "  </tbody>\n",
              "</table>\n",
              "</div>"
            ],
            "text/plain": [
              "   listing_id  comments_length  TextBlob_sentiment_score  is_key_reviewer\n",
              "0       13913        40.125000                  0.426355         0.450000\n",
              "1       15400        73.988372                  0.393211         0.209302\n",
              "2       17402        74.386364                  0.406447         0.136364\n",
              "3       24328        68.000000                  0.408263         0.130952\n",
              "4       25123        59.898148                  0.391549         0.250000"
            ]
          },
          "execution_count": 107,
          "metadata": {},
          "output_type": "execute_result"
        }
      ],
      "source": [
        "review_group.head()"
      ]
    },
    {
      "cell_type": "code",
      "execution_count": null,
      "id": "e000d157-79f3-4f5c-9dbc-55bee3950fc9",
      "metadata": {
        "colab": {
          "base_uri": "https://localhost:8080/"
        },
        "id": "e000d157-79f3-4f5c-9dbc-55bee3950fc9",
        "outputId": "270cda20-1e61-47f9-bb9c-9a82f2fc9d06"
      },
      "outputs": [
        {
          "data": {
            "text/plain": [
              "(36636, 490)"
            ]
          },
          "execution_count": 108,
          "metadata": {},
          "output_type": "execute_result"
        }
      ],
      "source": [
        "df_listing = df_listing.rename(columns={'id':'listing_id'})\n",
        "merged_df = df_listing.merge(\n",
        "    review_group, on='listing_id', how='left')\n",
        "merged_df.shape"
      ]
    },
    {
      "cell_type": "code",
      "execution_count": null,
      "id": "2a48f156-b4d4-49a4-977b-d8344d9e78cf",
      "metadata": {
        "id": "2a48f156-b4d4-49a4-977b-d8344d9e78cf",
        "outputId": "ff6981a6-770b-4715-9f32-7ce939c9cf02"
      },
      "outputs": [
        {
          "data": {
            "text/plain": [
              "comments_length             683\n",
              "TextBlob_sentiment_score    683\n",
              "is_key_reviewer             683\n",
              "dtype: int64"
            ]
          },
          "execution_count": 109,
          "metadata": {},
          "output_type": "execute_result"
        }
      ],
      "source": [
        "nulls = merged_df.isnull().sum()\n",
        "nulls = nulls[nulls!=0]\n",
        "nulls"
      ]
    },
    {
      "cell_type": "code",
      "execution_count": null,
      "id": "ebfd1a49-9432-42b9-803d-b36732a13c65",
      "metadata": {
        "colab": {
          "base_uri": "https://localhost:8080/"
        },
        "id": "ebfd1a49-9432-42b9-803d-b36732a13c65",
        "outputId": "795ed20f-5e1d-4625-d25f-c65f71c4b376"
      },
      "outputs": [
        {
          "data": {
            "text/plain": [
              "0"
            ]
          },
          "execution_count": 110,
          "metadata": {},
          "output_type": "execute_result"
        }
      ],
      "source": [
        "columns=['comments_length','TextBlob_sentiment_score','is_key_reviewer']\n",
        "for col in columns:\n",
        "    merged_df[col] = merged_df[col].fillna(merged_df[col].mean())\n",
        "\n",
        "sum(merged_df.isnull().sum())"
      ]
    },
    {
      "cell_type": "markdown",
      "id": "febf30bd-7bb6-46f4-8ae6-1fc4a6340811",
      "metadata": {
        "id": "febf30bd-7bb6-46f4-8ae6-1fc4a6340811"
      },
      "source": [
        "## Normalized space for longitude and latitude"
      ]
    },
    {
      "cell_type": "code",
      "execution_count": null,
      "id": "9b76507d-f1f2-45b2-a45f-143c0d3e96bf",
      "metadata": {
        "colab": {
          "base_uri": "https://localhost:8080/",
          "height": 206
        },
        "id": "9b76507d-f1f2-45b2-a45f-143c0d3e96bf",
        "outputId": "4a126ad9-9173-4d1d-d7e4-210381a90620"
      },
      "outputs": [
        {
          "data": {
            "text/html": [
              "<div>\n",
              "<style scoped>\n",
              "    .dataframe tbody tr th:only-of-type {\n",
              "        vertical-align: middle;\n",
              "    }\n",
              "\n",
              "    .dataframe tbody tr th {\n",
              "        vertical-align: top;\n",
              "    }\n",
              "\n",
              "    .dataframe thead th {\n",
              "        text-align: right;\n",
              "    }\n",
              "</style>\n",
              "<table border=\"1\" class=\"dataframe\">\n",
              "  <thead>\n",
              "    <tr style=\"text-align: right;\">\n",
              "      <th></th>\n",
              "      <th>latitude</th>\n",
              "      <th>longitude</th>\n",
              "      <th>geo_x</th>\n",
              "      <th>geo_y</th>\n",
              "      <th>geo_z</th>\n",
              "    </tr>\n",
              "  </thead>\n",
              "  <tbody>\n",
              "    <tr>\n",
              "      <th>0</th>\n",
              "      <td>51.416047</td>\n",
              "      <td>-0.174299</td>\n",
              "      <td>0.401790</td>\n",
              "      <td>-0.070749</td>\n",
              "      <td>0.912995</td>\n",
              "    </tr>\n",
              "    <tr>\n",
              "      <th>1</th>\n",
              "      <td>51.370691</td>\n",
              "      <td>-0.109956</td>\n",
              "      <td>0.446237</td>\n",
              "      <td>-0.049265</td>\n",
              "      <td>0.893558</td>\n",
              "    </tr>\n",
              "    <tr>\n",
              "      <th>2</th>\n",
              "      <td>51.613340</td>\n",
              "      <td>-0.125910</td>\n",
              "      <td>0.219346</td>\n",
              "      <td>-0.027765</td>\n",
              "      <td>0.975252</td>\n",
              "    </tr>\n",
              "    <tr>\n",
              "      <th>3</th>\n",
              "      <td>51.640408</td>\n",
              "      <td>-0.188166</td>\n",
              "      <td>0.191185</td>\n",
              "      <td>-0.036405</td>\n",
              "      <td>0.980879</td>\n",
              "    </tr>\n",
              "    <tr>\n",
              "      <th>4</th>\n",
              "      <td>51.401850</td>\n",
              "      <td>-0.255760</td>\n",
              "      <td>0.407201</td>\n",
              "      <td>-0.106478</td>\n",
              "      <td>0.907111</td>\n",
              "    </tr>\n",
              "  </tbody>\n",
              "</table>\n",
              "</div>"
            ],
            "text/plain": [
              "    latitude  longitude     geo_x     geo_y     geo_z\n",
              "0  51.416047  -0.174299  0.401790 -0.070749  0.912995\n",
              "1  51.370691  -0.109956  0.446237 -0.049265  0.893558\n",
              "2  51.613340  -0.125910  0.219346 -0.027765  0.975252\n",
              "3  51.640408  -0.188166  0.191185 -0.036405  0.980879\n",
              "4  51.401850  -0.255760  0.407201 -0.106478  0.907111"
            ]
          },
          "execution_count": 111,
          "metadata": {},
          "output_type": "execute_result"
        }
      ],
      "source": [
        "lat, lon = merged_df['latitude'], merged_df['longitude']\n",
        "merged_df['geo_x'] = np.multiply(np.cos(lat), np.cos(lon))\n",
        "merged_df['geo_y'] = np.multiply(np.cos(lat), np.sin(lon))\n",
        "merged_df['geo_z'] = np.sin(lat)\n",
        "merged_df[['latitude','longitude','geo_x','geo_y','geo_z']].head()"
      ]
    },
    {
      "cell_type": "code",
      "execution_count": null,
      "id": "5d31041e-b800-4585-a713-30f1c7f113ae",
      "metadata": {
        "colab": {
          "base_uri": "https://localhost:8080/"
        },
        "id": "5d31041e-b800-4585-a713-30f1c7f113ae",
        "outputId": "b54ad664-c93a-4d40-fa27-da926b930dcb"
      },
      "outputs": [
        {
          "data": {
            "text/plain": [
              "(36636, 493)"
            ]
          },
          "execution_count": 112,
          "metadata": {},
          "output_type": "execute_result"
        }
      ],
      "source": [
        "merged_df.shape"
      ]
    },
    {
      "cell_type": "markdown",
      "id": "458ec967-059c-402f-af5d-202001d24362",
      "metadata": {
        "id": "458ec967-059c-402f-af5d-202001d24362"
      },
      "source": [
        "## Log transform price"
      ]
    },
    {
      "cell_type": "code",
      "execution_count": null,
      "id": "95b189d7-5aa6-4436-83b0-defc833f564c",
      "metadata": {
        "colab": {
          "base_uri": "https://localhost:8080/"
        },
        "id": "95b189d7-5aa6-4436-83b0-defc833f564c",
        "outputId": "a1b122b3-eaae-483c-fba0-8429f3ba6808"
      },
      "outputs": [
        {
          "data": {
            "text/plain": [
              "count    36636.00\n",
              "mean       170.58\n",
              "std        301.04\n",
              "min         10.00\n",
              "25%         70.00\n",
              "50%        120.00\n",
              "75%        195.00\n",
              "max      35243.00\n",
              "Name: price, dtype: float64"
            ]
          },
          "execution_count": 113,
          "metadata": {},
          "output_type": "execute_result"
        }
      ],
      "source": [
        "merged_df['price'].describe().round(2)"
      ]
    },
    {
      "cell_type": "code",
      "execution_count": null,
      "id": "07c34c75-e022-4377-8d16-2b9e2072f558",
      "metadata": {
        "colab": {
          "base_uri": "https://localhost:8080/"
        },
        "id": "07c34c75-e022-4377-8d16-2b9e2072f558",
        "outputId": "0cdbf355-6340-4748-9d2c-947d010c0529"
      },
      "outputs": [
        {
          "data": {
            "text/plain": [
              "count    36636.000000\n",
              "mean         4.798676\n",
              "std          0.754045\n",
              "min          2.302585\n",
              "25%          4.248495\n",
              "50%          4.787492\n",
              "75%          5.273000\n",
              "max         10.470022\n",
              "Name: log_price, dtype: float64"
            ]
          },
          "execution_count": 114,
          "metadata": {},
          "output_type": "execute_result"
        }
      ],
      "source": [
        "merged_df['log_price'] = np.log(merged_df['price'])\n",
        "merged_df['log_price'].describe()"
      ]
    },
    {
      "cell_type": "code",
      "execution_count": null,
      "id": "RcVxLkDMNOdP",
      "metadata": {
        "id": "RcVxLkDMNOdP"
      },
      "outputs": [],
      "source": [
        "# sns.distplot(merged_df['log_price'], fit=norm);\n",
        "# fig = plt.figure()\n",
        "# res = stats.probplot(merged_df['log_price'], plot=plt)\n",
        "# #skewness and kurtosis\n",
        "# print(\"Skewness: %f\" % merged_df['log_price'].skew())\n",
        "# print(\"Kurtosis: %f\" % merged_df['log_price'].kurt())"
      ]
    },
    {
      "cell_type": "code",
      "execution_count": null,
      "id": "6551f1a1-6856-4e21-8dcf-c28411ae2ab0",
      "metadata": {
        "id": "6551f1a1-6856-4e21-8dcf-c28411ae2ab0"
      },
      "outputs": [],
      "source": [
        "# merged_df['price'].hist(figsize=(6,4))\n",
        "# plt.title('Histogram of Prices (before Log-transformed)')\n",
        "# plt.show()"
      ]
    },
    {
      "cell_type": "code",
      "execution_count": null,
      "id": "ec975660-2e01-4318-a0bb-37790759f2b7",
      "metadata": {
        "id": "ec975660-2e01-4318-a0bb-37790759f2b7"
      },
      "outputs": [],
      "source": [
        "# merged_df['price_log'].hist(figsize=(6,4))\n",
        "# plt.title('Histogram of Prices (after Log-transformed)')\n",
        "# plt.show()"
      ]
    },
    {
      "cell_type": "code",
      "execution_count": null,
      "id": "0rh6YqqvGmgR",
      "metadata": {
        "colab": {
          "base_uri": "https://localhost:8080/"
        },
        "id": "0rh6YqqvGmgR",
        "outputId": "13763e43-7535-4e06-e9eb-6a37f39844c5"
      },
      "outputs": [
        {
          "data": {
            "text/plain": [
              "(36636, 494)"
            ]
          },
          "execution_count": 118,
          "metadata": {},
          "output_type": "execute_result"
        }
      ],
      "source": [
        "merged_df.shape"
      ]
    },
    {
      "cell_type": "markdown",
      "id": "2ef8dd50-a20f-46f0-a851-e313cc703f2b",
      "metadata": {
        "id": "2ef8dd50-a20f-46f0-a851-e313cc703f2b"
      },
      "source": [
        "## Add some OpenStreetMap features (e.g. 'attraction', 'restaurant' within certain distance from a listing)"
      ]
    },
    {
      "cell_type": "markdown",
      "id": "8719d07f-c483-4b6b-af9d-e1132bc29c75",
      "metadata": {
        "id": "8719d07f-c483-4b6b-af9d-e1132bc29c75"
      },
      "source": [
        "```python\n",
        "map_df = gpd.read_file('https://raw.githubusercontent.com/xiaohansu59/thesis/main/data/neighbourhoods.geojson')\n",
        "region = map_df['geometry'].unary_union\n",
        "\n",
        "def get_local_crs(y,x):\n",
        "    x = ox.utils_geo.bbox_from_point((y, x), dist=500, project_utm=True, return_crs=True)\n",
        "    return x[-1]\n",
        "london_lat = 51.509865\n",
        "london_long = -0.118092\n",
        "local_utm_crs = get_local_crs(london_lat, london_long)\n",
        "\n",
        "def get_osm_data(region, data):\n",
        "    df = ox.features.features_from_polygon(region, tags=data[0])\n",
        "    filename = f\"data/{list(data[0].values())[0]}.csv\"\n",
        "    df.to_csv(filename, columns=['geometry'])\n",
        "    return df\n",
        "\n",
        "cafe = get_osm_data(region, [{'amenity':'cafe'}])\n",
        "station = get_osm_data(region, [{'station':'subway'}])\n",
        "bar = get_osm_data(region, [{'amenity':'bar'}])\n",
        "biergarten = get_osm_data(region, [{'amenity':'biergarten'}])\n",
        "fast_food = get_osm_data(region, [{'amenity':'fast_food'}])\n",
        "pub = get_osm_data(region, [{'amenity':'pub'}])\n",
        "nightclub = get_osm_data(region, [{'amenity':'nightclub'}])\n",
        "theatre = get_osm_data(region, [{'amenity':'theatre'}])\n",
        "university = get_osm_data(region, [{'amenity':'university'}])\n",
        "shop = get_osm_data(region, [{'shop':'supermarket'}])\n",
        "attraction = get_osm_data(region, [{'tourism':'attraction'}])\n",
        "restaurant = get_osm_data(region, [{'amenity':'restaurant'}])\n",
        "```"
      ]
    },
    {
      "cell_type": "markdown",
      "id": "04166ce8-e65e-41da-bb6a-60bec140ba79",
      "metadata": {
        "id": "04166ce8-e65e-41da-bb6a-60bec140ba79"
      },
      "source": [
        "```python\n",
        "def import_csv_to_gpd(name):\n",
        "    df = pd.read_csv(f'data/{name}.csv', sep=\",\")\n",
        "    df['geometry'] = df['geometry'].apply(wkt.loads)\n",
        "    gdf = gpd.GeoDataFrame(df, crs='epsg:4326')\n",
        "    return gdf\n",
        "restaurant = import_csv_to_gpd('restaurant')\n",
        "attraction = import_csv_to_gpd('attraction')\n",
        "cafe = import_csv_to_gpd('cafe')\n",
        "subway = import_csv_to_gpd('subway')\n",
        "bar = import_csv_to_gpd('bar')\n",
        "biergarten = import_csv_to_gpd('biergarten')\n",
        "fast_food = import_csv_to_gpd('fast_food')\n",
        "pub = import_csv_to_gpd('pub')\n",
        "nightclub = import_csv_to_gpd('nightclub')\n",
        "theatre = import_csv_to_gpd('theatre')\n",
        "university = import_csv_to_gpd('university')\n",
        "shop = import_csv_to_gpd('supermarket')\n",
        "```"
      ]
    },
    {
      "cell_type": "markdown",
      "id": "f76ca1d7-deea-4b4b-9082-3ff23fb1bd61",
      "metadata": {
        "id": "f76ca1d7-deea-4b4b-9082-3ff23fb1bd61"
      },
      "source": [
        "```python\n",
        "def get_long_lat(point):\n",
        "    try:\n",
        "        return pd.Series([point.x, point.y])\n",
        "    except:\n",
        "        pass\n",
        "def geo_coordinates(df):\n",
        "    df['geometry'] = df['geometry'].apply(\n",
        "        lambda x: x.centroid if type(x) == Polygon else (x.centroid if type(x) == MultiPolygon else x))\n",
        "    df[['long','lat']] = df.apply(lambda x: get_long_lat(x['geometry']), axis=1)\n",
        "    df = df[df['geometry'].apply(lambda x: x.geom_type=='Point')]\n",
        "    df = df.to_crs(local_utm_crs)\n",
        "    return df\n",
        "attraction = geo_coordinates(attraction)\n",
        "restaurant = geo_coordinates(restaurant)\n",
        "cafe = geo_coordinates(cafe)\n",
        "bar = geo_coordinates(bar)\n",
        "subway = geo_coordinates(subway)\n",
        "biergarten = geo_coordinates(biergarten)\n",
        "fast_food = geo_coordinates(fast_food)\n",
        "pub = geo_coordinates(pub)\n",
        "nightclub = geo_coordinates(nightclub)\n",
        "theatre = geo_coordinates(theatre)\n",
        "university = geo_coordinates(university)\n",
        "shop = geo_coordinates(shop)\n",
        "```"
      ]
    },
    {
      "cell_type": "markdown",
      "id": "49efd248-5e47-4c2b-b697-8380449906be",
      "metadata": {
        "id": "49efd248-5e47-4c2b-b697-8380449906be"
      },
      "source": [
        "```python\n",
        "def get_tree(df):\n",
        "    try:\n",
        "        coords = list(zip(df.geometry.apply(lambda x: x.y).values, df.geometry.apply(lambda x: x.x).values))\n",
        "        tree = spatial.KDTree(coords)\n",
        "        return tree\n",
        "    except Exception as e:\n",
        "        print(e)\n",
        "def find_points_closeby(tree, lat_lon, k=500, max_distance=800):\n",
        "    results = tree.query(lat_lon, k=k, distance_upper_bound=max_distance)\n",
        "    zipped_results = list(zip(results[0], results[1]))\n",
        "    zipped_results = [i for i in zipped_results if i[0] != np.inf]\n",
        "    return len(zipped_results)\n",
        "\n",
        "merged_df = gpd.GeoDataFrame(\n",
        "    merged_df,\n",
        "    geometry=gpd.points_from_xy(merged_df['longitude'],\n",
        "                                merged_df['latitude']), crs=4326)\n",
        "merged_df = merged_df.to_crs(local_utm_crs)\n",
        "parameters = [\n",
        "    restaurant,cafe,bar,subway,biergarten,fast_food,pub,\n",
        "    nightclub,theatre,university,attraction,shop]\n",
        "names = [\n",
        "    'restaurant','cafe','bar','subway','biergarten','fast_food',\n",
        "    'pub','nightclub','theatre','university','attraction','shop']\n",
        "for name, i in zip(names, parameters):\n",
        "    tree = get_tree(i)\n",
        "    merged_df[name] = merged_df.apply(\n",
        "        lambda row: find_points_closeby(\n",
        "            tree, (row.geometry.y, row.geometry.x)), axis=1)\n",
        "\n",
        "merged_df = merged_df[merged_df['room_type_Hotel room'] != 1]\n",
        "merged_df.drop(\n",
        "    columns=['listing_id','host_id','geometry',\n",
        "             'room_type_Hotel room'], inplace=True)\n",
        "merged_df.to_csv('data/airbnb_osm.csv', index=False)\n",
        "```"
      ]
    },
    {
      "cell_type": "markdown",
      "id": "8dbec3be-5353-49bc-85c0-8e82053805d0",
      "metadata": {
        "id": "8dbec3be-5353-49bc-85c0-8e82053805d0"
      },
      "source": [
        "# Modeling"
      ]
    },
    {
      "cell_type": "code",
      "execution_count": null,
      "id": "67d07e3a-cd97-4eb2-bc46-0fe7d8287e69",
      "metadata": {
        "id": "67d07e3a-cd97-4eb2-bc46-0fe7d8287e69",
        "outputId": "ef2991a5-3ab4-4cb1-a86d-131256de21f8"
      },
      "outputs": [
        {
          "data": {
            "text/plain": [
              "(36512, 503)"
            ]
          },
          "execution_count": 132,
          "metadata": {},
          "output_type": "execute_result"
        }
      ],
      "source": [
        "def scores(model, X_train, y_train, X_test, y_test):\n",
        "    model.fit(X_train, y_train)\n",
        "    y_pred = model.predict(X_test)\n",
        "    rmse = np.sqrt(mean_squared_error(y_test, y_pred))\n",
        "    return y_pred, rmse\n",
        "\n",
        "merged_df = pd.read_csv('data/airbnb_osm.csv')\n",
        "# remove special characters (issue with lgbm)\n",
        "merged_df.columns = [re.sub('[^A-Za-z0-9_]+', '', col) for col in merged_df.columns]\n",
        "merged_df.shape"
      ]
    },
    {
      "cell_type": "markdown",
      "id": "3e82f6d5-4924-4f5d-8fc4-cceb56182cdd",
      "metadata": {
        "id": "3e82f6d5-4924-4f5d-8fc4-cceb56182cdd"
      },
      "source": [
        "## Case 1"
      ]
    },
    {
      "cell_type": "code",
      "execution_count": null,
      "id": "1e7fcfb8-bdcd-4709-85a3-fa3a01ca7bb6",
      "metadata": {
        "id": "1e7fcfb8-bdcd-4709-85a3-fa3a01ca7bb6"
      },
      "outputs": [],
      "source": [
        "y = merged_df['log_price']\n",
        "X = merged_df.drop(columns=['price','log_price',\n",
        "                            'latitude','longitude'])\n",
        "\n",
        "X_train, X_test, y_train, y_test = train_test_split(\n",
        "    X, y, test_size=0.2, random_state=42)"
      ]
    },
    {
      "cell_type": "code",
      "execution_count": null,
      "id": "f483a2cf-4c9a-4c72-a568-28062ba08d6f",
      "metadata": {
        "scrolled": true,
        "tags": [],
        "id": "f483a2cf-4c9a-4c72-a568-28062ba08d6f",
        "outputId": "3b1f810f-6668-4cae-a2ea-2f0d0db7f6c7"
      },
      "outputs": [
        {
          "name": "stdout",
          "output_type": "stream",
          "text": [
            "Linear Regression (Base): Test log rmse = 0.35695\n",
            "XGBoost: Test log rmse = 0.30993\n",
            "Random Forest: Test log rmse = 0.32751\n",
            "Ridge: Test log rmse = 0.35680\n",
            "Lasso: Test log rmse = 0.35641\n",
            "LightGBM: Test log rmse = 0.31184\n",
            "Gradient Boosting: Test log rmse = 0.33811\n"
          ]
        }
      ],
      "source": [
        "models = [\n",
        "    (\"Linear Regression (Base)\", LinearRegression()),\n",
        "    (\"XGBoost\", xgb.XGBRegressor(random_state=42)),\n",
        "    (\"Random Forest\", RandomForestRegressor(random_state=42)),\n",
        "    (\"Ridge\", Ridge(alpha=0.01)),\n",
        "    (\"Lasso\", Lasso(alpha=0.00001)),\n",
        "    (\"LightGBM\", lgb.LGBMRegressor()),\n",
        "    (\"Gradient Boosting\", GradientBoostingRegressor(random_state=42))\n",
        "]\n",
        "\n",
        "for name, model in models:\n",
        "    y_pred, rmse = scores(model, X_train, y_train, X_test, y_test)\n",
        "    print(f\"{name}: Test log rmse = {rmse:.5f}\")"
      ]
    },
    {
      "cell_type": "code",
      "execution_count": null,
      "id": "b1eaac94-fdb6-466c-a67d-d68879ef8578",
      "metadata": {
        "id": "b1eaac94-fdb6-466c-a67d-d68879ef8578"
      },
      "outputs": [],
      "source": [
        "def scores(model, X_test, y_test):\n",
        "    y_pred = model.predict(X_test)\n",
        "    rmse = np.sqrt(mean_squared_error(y_test, y_pred))\n",
        "    print(f\"Test log rmse: {rmse:.5f}\")\n",
        "    return y_pred, rmse"
      ]
    },
    {
      "cell_type": "markdown",
      "id": "bd8b4dd3-219e-4b4e-b2bb-b2a5d5dd01d7",
      "metadata": {
        "id": "bd8b4dd3-219e-4b4e-b2bb-b2a5d5dd01d7"
      },
      "source": [
        "### LightGBM"
      ]
    },
    {
      "cell_type": "code",
      "execution_count": null,
      "id": "0b9be740-c319-460a-a973-72aaf9f3cc88",
      "metadata": {
        "id": "0b9be740-c319-460a-a973-72aaf9f3cc88",
        "outputId": "6f1e00f1-184d-4c22-8acb-dce5022a8461"
      },
      "outputs": [
        {
          "name": "stdout",
          "output_type": "stream",
          "text": [
            "Test log rmse: 0.28530\n"
          ]
        }
      ],
      "source": [
        "model = lgb.LGBMRegressor(\n",
        "    learning_rate=0.06, n_estimators=4200,\n",
        "    num_leaves=35, colsample_bytree=0.5,\n",
        "    min_child_samples=35, subsample=0.8,\n",
        "    min_child_weight=1, reg_alpha=1e-8,\n",
        ")\n",
        "model.fit(X_train, y_train)\n",
        "y_pred, rmse = scores(model, X_test, y_test)"
      ]
    },
    {
      "cell_type": "markdown",
      "id": "d39e6649-3afe-4aa1-98c2-d8433668feaa",
      "metadata": {
        "id": "d39e6649-3afe-4aa1-98c2-d8433668feaa"
      },
      "source": [
        "### XGBoost"
      ]
    },
    {
      "cell_type": "code",
      "execution_count": null,
      "id": "0edefd87-f266-4635-9ba0-5963128746c8",
      "metadata": {
        "id": "0edefd87-f266-4635-9ba0-5963128746c8",
        "outputId": "ac03e7d5-240d-42a3-924d-6f14bf7f55fa"
      },
      "outputs": [
        {
          "name": "stdout",
          "output_type": "stream",
          "text": [
            "Test log rmse: 0.29021\n"
          ]
        }
      ],
      "source": [
        "best_params = {\n",
        "    'subsample': 0.9,\n",
        "    'n_estimators': 550,\n",
        "    'max_depth': 9,\n",
        "    'learning_rate': 0.06,\n",
        "    'random_state': 42\n",
        "}\n",
        "model = xgb.XGBRegressor(**best_params)\n",
        "model.fit(X_train, y_train)\n",
        "y_pred, rmse = scores(model, X_test, y_test)"
      ]
    },
    {
      "cell_type": "markdown",
      "id": "3a39795f-ec74-4cfb-846e-31b3b5ed3b21",
      "metadata": {
        "id": "3a39795f-ec74-4cfb-846e-31b3b5ed3b21"
      },
      "source": [
        "## Case 2"
      ]
    },
    {
      "cell_type": "code",
      "execution_count": null,
      "id": "76c3de89-6bd3-41db-9d0c-9fd6ea4576b4",
      "metadata": {
        "scrolled": true,
        "tags": [],
        "id": "76c3de89-6bd3-41db-9d0c-9fd6ea4576b4"
      },
      "outputs": [],
      "source": [
        "# df = merged_df.copy()\n",
        "# selected_columns = df.columns[214:230]\n",
        "# filtered_df = df[selected_columns]\n",
        "# correlation_matrix = filtered_df.corr()\n",
        "# correlation_matrix[correlation_matrix < 0.8] = np.nan\n",
        "\n",
        "# plt.figure(figsize=(12, 8))\n",
        "# sns.heatmap(correlation_matrix, annot=True, cmap=\"coolwarm\")\n",
        "# plt.show()"
      ]
    },
    {
      "cell_type": "code",
      "execution_count": null,
      "id": "7b939bc2-e42a-40f3-a9b9-8d12f720fd3e",
      "metadata": {
        "id": "7b939bc2-e42a-40f3-a9b9-8d12f720fd3e"
      },
      "outputs": [],
      "source": [
        "y = merged_df['log_price']\n",
        "X = merged_df.drop(columns=[\n",
        "    'price','log_price','latitude','longitude',\n",
        "    'review_scores_accuracy','review_scores_cleanliness',\n",
        "    'review_scores_communication','review_scores_value',\n",
        "    'cafe','bar','fast_food','pub','nightclub','theatre',\n",
        "    'host_total_listings_count','accommodates',\n",
        "    'minimum_nights_avg_ntm','maximum_maximum_nights',\n",
        "    'maximum_nights_avg_ntm',\n",
        "    'availability_60','availability_90',\n",
        "    'calculated_host_listings_count_entire_homes',\n",
        "    'bathroom_sharing_unknown',\n",
        "    'amenities_lockbox',\n",
        "])\n",
        "\n",
        "X_train, X_test, y_train, y_test = train_test_split(\n",
        "    X, y, test_size=0.2, random_state=42)"
      ]
    },
    {
      "cell_type": "code",
      "execution_count": null,
      "id": "c79bcebe-1d29-4377-95eb-8a52c47757f3",
      "metadata": {
        "scrolled": true,
        "tags": [],
        "id": "c79bcebe-1d29-4377-95eb-8a52c47757f3"
      },
      "outputs": [],
      "source": [
        "def scores(model, X_train, y_train, X_test, y_test):\n",
        "    model.fit(X_train, y_train)\n",
        "    y_pred = model.predict(X_test)\n",
        "    rmse = np.sqrt(mean_squared_error(y_test, y_pred))\n",
        "    return y_pred, rmse"
      ]
    },
    {
      "cell_type": "code",
      "execution_count": null,
      "id": "33849fa0-87eb-4bdd-95bc-6ef5492e3418",
      "metadata": {
        "scrolled": true,
        "tags": [],
        "id": "33849fa0-87eb-4bdd-95bc-6ef5492e3418",
        "outputId": "56e62838-0c89-4751-d1ce-3bcb6c6712a7"
      },
      "outputs": [
        {
          "name": "stdout",
          "output_type": "stream",
          "text": [
            "Linear Regression (Base): Test log rmse = 0.36915\n",
            "XGBoost: Test log rmse = 0.32093\n",
            "Random Forest: Test log rmse = 0.33359\n",
            "Ridge: Test log rmse = 0.36893\n",
            "Lasso: Test log rmse = 0.36845\n",
            "LightGBM: Test log rmse = 0.32169\n",
            "Gradient Boosting: Test log rmse = 0.34615\n"
          ]
        }
      ],
      "source": [
        "models = [\n",
        "    (\"Linear Regression (Base)\", LinearRegression()),\n",
        "    (\"XGBoost\", xgb.XGBRegressor(random_state=42)),\n",
        "    (\"Random Forest\", RandomForestRegressor(random_state=42)),\n",
        "    (\"Ridge\", Ridge(alpha=0.01)),\n",
        "    (\"Lasso\", Lasso(alpha=0.00001)),\n",
        "    (\"LightGBM\", lgb.LGBMRegressor()),\n",
        "    (\"Gradient Boosting\", GradientBoostingRegressor(random_state=42))\n",
        "]\n",
        "\n",
        "for name, model in models:\n",
        "    y_pred, rmse = scores(model, X_train, y_train, X_test, y_test)\n",
        "    print(f\"{name}: Test log rmse = {rmse:.5f}\")"
      ]
    },
    {
      "cell_type": "code",
      "execution_count": null,
      "id": "6bce04ef-ec1d-4a3c-91cf-a1b0ac9d8e0b",
      "metadata": {
        "scrolled": true,
        "tags": [],
        "id": "6bce04ef-ec1d-4a3c-91cf-a1b0ac9d8e0b"
      },
      "outputs": [],
      "source": [
        "# df = merged_df.copy()\n",
        "# selected_columns = [col for col in df.columns if col.startswith('review_scores')]\n",
        "# filtered_df = df[selected_columns]\n",
        "# correlation_matrix = filtered_df.corr()\n",
        "# correlation_matrix[correlation_matrix < 0.8] = np.nan\n",
        "\n",
        "# plt.figure(figsize=(8, 6))\n",
        "# sns.heatmap(correlation_matrix, annot=True, cmap=\"coolwarm\")\n",
        "# plt.show()"
      ]
    },
    {
      "cell_type": "code",
      "execution_count": null,
      "id": "40e0247f-21bd-4b39-b5e4-eefbd610aee5",
      "metadata": {
        "scrolled": true,
        "tags": [],
        "id": "40e0247f-21bd-4b39-b5e4-eefbd610aee5"
      },
      "outputs": [],
      "source": [
        "# df = merged_df.copy()\n",
        "# selected_columns = df.columns[-12:]\n",
        "# filtered_df = df[selected_columns]\n",
        "# correlation_matrix = filtered_df.corr()\n",
        "# correlation_matrix[correlation_matrix < 0.8] = np.nan\n",
        "\n",
        "# plt.figure(figsize=(12, 8))\n",
        "# sns.heatmap(correlation_matrix, annot=True, cmap=\"coolwarm\")\n",
        "# plt.show()"
      ]
    },
    {
      "cell_type": "markdown",
      "id": "17d4eaf7-2822-467d-b836-65a0ffdbb51b",
      "metadata": {
        "id": "17d4eaf7-2822-467d-b836-65a0ffdbb51b"
      },
      "source": [
        "## Case 3"
      ]
    },
    {
      "cell_type": "code",
      "execution_count": null,
      "id": "fc8b1803-dd96-47d0-9db1-081d80e398fc",
      "metadata": {
        "id": "fc8b1803-dd96-47d0-9db1-081d80e398fc"
      },
      "outputs": [],
      "source": [
        "columns_to_drop = merged_df.columns[183:483]\n",
        "X = merged_df.drop(columns=[\n",
        "    'price','log_price','geo_x','geo_y','geo_z',\n",
        "    'TextBlob_sentiment_score','is_key_reviewer',\n",
        "    'comments_length',\n",
        "    *columns_to_drop]).iloc[:, :-12]\n",
        "y = merged_df['log_price']\n",
        "\n",
        "X_train, X_test, y_train, y_test = train_test_split(\n",
        "    X, y, test_size=0.2, random_state=42)"
      ]
    },
    {
      "cell_type": "code",
      "execution_count": null,
      "id": "a802ae1f-1750-4569-9869-959201a86c74",
      "metadata": {
        "scrolled": true,
        "tags": [],
        "id": "a802ae1f-1750-4569-9869-959201a86c74",
        "outputId": "488743be-3840-4b12-dfb4-2cb0163949ec"
      },
      "outputs": [
        {
          "name": "stdout",
          "output_type": "stream",
          "text": [
            "Linear Regression (Base): Test log rmse = 0.38172\n",
            "XGBoost: Test log rmse = 0.31124\n",
            "Random Forest: Test log rmse = 0.33195\n",
            "Ridge: Test log rmse = 0.38157\n",
            "Lasso: Test log rmse = 0.38152\n",
            "LightGBM: Test log rmse = 0.31602\n",
            "Gradient Boosting: Test log rmse = 0.34828\n"
          ]
        }
      ],
      "source": [
        "def scores(model, X_train, y_train, X_test, y_test):\n",
        "    model.fit(X_train, y_train)\n",
        "    y_pred = model.predict(X_test)\n",
        "    rmse = np.sqrt(mean_squared_error(y_test, y_pred))\n",
        "    return y_pred, rmse\n",
        "\n",
        "models = [\n",
        "    (\"Linear Regression (Base)\", LinearRegression()),\n",
        "    (\"XGBoost\", xgb.XGBRegressor(random_state=42)),\n",
        "    (\"Random Forest\", RandomForestRegressor(random_state=42)),\n",
        "    (\"Ridge\", Ridge()),\n",
        "    (\"Lasso\", Lasso(alpha=0.00001)),\n",
        "    (\"LightGBM\", lgb.LGBMRegressor()),\n",
        "    (\"Gradient Boosting\", GradientBoostingRegressor(random_state=42))\n",
        "]\n",
        "\n",
        "for name, model in models:\n",
        "    y_pred, rmse = scores(model, X_train, y_train, X_test, y_test)\n",
        "    print(f\"{name}: Test log rmse = {rmse:.5f}\")"
      ]
    },
    {
      "cell_type": "markdown",
      "id": "3874d1da-7c11-414f-b06c-0ca42706449c",
      "metadata": {
        "id": "3874d1da-7c11-414f-b06c-0ca42706449c"
      },
      "source": [
        "## Tuning XBGoost with RandomizedSearchCV"
      ]
    },
    {
      "cell_type": "code",
      "execution_count": null,
      "id": "e71faf92-c1a6-4f57-8c16-507f6fc50eb3",
      "metadata": {
        "colab": {
          "base_uri": "https://localhost:8080/"
        },
        "id": "e71faf92-c1a6-4f57-8c16-507f6fc50eb3",
        "outputId": "cd66de1b-bac0-412d-d583-ca8ef0daf682",
        "scrolled": true,
        "tags": []
      },
      "outputs": [
        {
          "name": "stdout",
          "output_type": "stream",
          "text": [
            "Testing the following parameter combinations:\n",
            "n_estimators: [50, 100, 150, 200, 250, 300, 350, 400, 450]\n",
            "max_depth: [1, 2, 3, 4, 5, 6, 7, 8, 9]\n",
            "learning_rate: [0.01, 0.06210526315789474, 0.11421052631578947, 0.16631578947368422, 0.21842105263157896, 0.2705263157894737, 0.32263157894736844, 0.37473684210526315, 0.4268421052631579, 0.4789473684210527, 0.5310526315789474, 0.5831578947368421, 0.6352631578947369, 0.6873684210526316, 0.7394736842105263, 0.791578947368421, 0.8436842105263158, 0.8957894736842106, 0.9478947368421053, 1.0, 0.3]\n",
            "subsample: [0.5, 0.7, 0.9, 1]\n",
            "\n",
            "Randomized search complete.\n",
            "Elapsed time: 7.56 minutes\n",
            "\n",
            "Best parameters found:\n",
            "{'subsample': 0.9, 'n_estimators': 450, 'max_depth': 9, 'learning_rate': 0.06210526315789474}\n"
          ]
        }
      ],
      "source": [
        "def build_trained_model():\n",
        "\n",
        "    parameters = {\n",
        "        'n_estimators': list(range(50, 500, 50)), # default=100\n",
        "        'max_depth': list(range(1, 10)), # default=6\n",
        "        'learning_rate': list(np.linspace(0.01, 1, 20)) + [0.3], # default=0.3\n",
        "        'subsample': [0.5, 0.7, 0.9, 1], # default=1\n",
        "        }\n",
        "\n",
        "    start_time = time.time()\n",
        "    print(\"Testing the following parameter combinations:\")\n",
        "\n",
        "    total_iterations = 1\n",
        "    for key, value in parameters.items():\n",
        "        print(f\"{key}: {value}\")\n",
        "        total_iterations *= len(value)\n",
        "\n",
        "    model = xgb.XGBRegressor(random_state=42, tree_method='gpu_hist')\n",
        "\n",
        "    # Set the number of iterations for RandomizedSearchCV\n",
        "    n_iter = min(total_iterations, 50)  # Limit the maximum number of iterations\n",
        "\n",
        "    random_search = RandomizedSearchCV(model, param_distributions=parameters, n_iter=n_iter,\n",
        "                                       scoring='neg_mean_squared_error', n_jobs=-1, cv=5, random_state=42)\n",
        "\n",
        "    random_search.fit(X_train, y_train)\n",
        "\n",
        "    elapsed_time = time.time() - start_time\n",
        "    print(\"\\nRandomized search complete.\")\n",
        "    print(f\"Elapsed time: {elapsed_time / 60:.2f} minutes\")\n",
        "    print(\"\\nBest parameters found:\")\n",
        "    print(random_search.best_params_)\n",
        "\n",
        "    return random_search\n",
        "\n",
        "model = build_trained_model()"
      ]
    },
    {
      "cell_type": "code",
      "execution_count": null,
      "id": "bBAbvt_OQokf",
      "metadata": {
        "id": "bBAbvt_OQokf"
      },
      "outputs": [],
      "source": [
        "# xgb_feature_importances = pd.DataFrame(\n",
        "#     zip(X_train.columns, best_model.feature_importances_),\n",
        "#     columns=['Feature','Importance_score_xgb']).sort_values(by='Importance_score_xgb',ascending=False)\n",
        "# xgb_feature_importances = xgb_feature_importances.reset_index(drop=True)\n",
        "# xgb_feature_importances.head(10)"
      ]
    }
  ],
  "metadata": {
    "colab": {
      "collapsed_sections": [
        "ed005e7d-b120-487f-9938-2fcaafb66c39",
        "e8628e7a-7bc6-43a3-acde-5aed50746c1a"
      ],
      "gpuType": "A100",
      "machine_shape": "hm",
      "provenance": []
    },
    "kernelspec": {
      "display_name": "Python 3 (ipykernel)",
      "language": "python",
      "name": "python3"
    },
    "language_info": {
      "codemirror_mode": {
        "name": "ipython",
        "version": 3
      },
      "file_extension": ".py",
      "mimetype": "text/x-python",
      "name": "python",
      "nbconvert_exporter": "python",
      "pygments_lexer": "ipython3",
      "version": "3.10.8"
    },
    "toc-autonumbering": false,
    "toc-showmarkdowntxt": false,
    "toc-showtags": false
  },
  "nbformat": 4,
  "nbformat_minor": 5
}